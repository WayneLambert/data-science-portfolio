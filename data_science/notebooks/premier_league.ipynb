{
 "cells": [
  {
   "cell_type": "markdown",
   "execution_count": 44,
   "metadata": {},
   "outputs": [
    {
     "name": "stdout",
     "output_type": "stream",
     "text": "/bin/sh: -c: line 0: syntax error near unexpected token `data_science/images/premier_league_logo.png'\n/bin/sh: -c: line 0: `[title](data_science/images/premier_league_logo.png)'\n"
    }
   ],
   "source": [
    "![Premier League Logo](https://wl-portfolio.s3.eu-west-2.amazonaws.com/images/premier_league_logo.png)"
   ]
  },
  {
   "cell_type": "markdown",
   "metadata": {},
   "source": [
    "In the English Premier League, there is the idea of the \"big 6\". Let's use Pandas to see the top 6 finishing teams within the Premier League between the seasons of 2006-2007 until 2017-2018"
   ]
  },
  {
   "cell_type": "code",
   "execution_count": 1,
   "metadata": {},
   "outputs": [
    {
     "name": "stdout",
     "output_type": "stream",
     "text": "/Users/waynelambert/anaconda3/bin/python\n3.7.3 (default, Mar 27 2019, 16:54:48) \n[Clang 4.0.1 (tags/RELEASE_401/final)]\nsys.version_info(major=3, minor=7, micro=3, releaselevel='final', serial=0)\n"
    }
   ],
   "source": [
    "# Check Python version for compatibility/reference\n",
    "import sys\n",
    "print(sys.executable)\n",
    "print(sys.version)\n",
    "print(sys.version_info)"
   ]
  },
  {
   "cell_type": "code",
   "execution_count": 2,
   "metadata": {},
   "outputs": [],
   "source": [
    "# Import requisite data science libraries\n",
    "import pandas as pd"
   ]
  },
  {
   "cell_type": "code",
   "execution_count": 3,
   "metadata": {},
   "outputs": [
    {
     "name": "stdout",
     "output_type": "stream",
     "text": "Pandas version: \t1.0.1\n"
    }
   ],
   "source": [
    "# Check Package version numbering for compatibility/reference\n",
    "print(f\"{'Pandas version:'} \\t{pd.__version__}\")"
   ]
  },
  {
   "cell_type": "code",
   "execution_count": 4,
   "metadata": {},
   "outputs": [],
   "source": [
    "# Set format of number fields to be formatted as whole numbers\n",
    "pd.options.display.float_format = '{:,.0f}'.format"
   ]
  },
  {
   "cell_type": "code",
   "execution_count": 5,
   "metadata": {},
   "outputs": [],
   "source": [
    "# Read the file into a Pandas dataframe\n",
    "df = pd.read_csv('../data_files/prem_stats.csv', index_col=None)"
   ]
  },
  {
   "cell_type": "code",
   "execution_count": 6,
   "metadata": {},
   "outputs": [
    {
     "data": {
      "text/html": "<div>\n<style scoped>\n    .dataframe tbody tr th:only-of-type {\n        vertical-align: middle;\n    }\n\n    .dataframe tbody tr th {\n        vertical-align: top;\n    }\n\n    .dataframe thead th {\n        text-align: right;\n    }\n</style>\n<table border=\"1\" class=\"dataframe\">\n  <thead>\n    <tr style=\"text-align: right;\">\n      <th></th>\n      <th>team</th>\n      <th>wins</th>\n      <th>losses</th>\n      <th>goals</th>\n      <th>total_yel_card</th>\n      <th>total_red_card</th>\n      <th>total_scoring_att</th>\n      <th>ontarget_scoring_att</th>\n      <th>hit_woodwork</th>\n      <th>att_hd_goal</th>\n      <th>...</th>\n      <th>total_cross</th>\n      <th>corner_taken</th>\n      <th>touches</th>\n      <th>big_chance_missed</th>\n      <th>clearance_off_line</th>\n      <th>dispossessed</th>\n      <th>penalty_save</th>\n      <th>total_high_claim</th>\n      <th>punches</th>\n      <th>season</th>\n    </tr>\n  </thead>\n  <tbody>\n    <tr>\n      <th>0</th>\n      <td>Manchester United</td>\n      <td>28</td>\n      <td>5</td>\n      <td>83</td>\n      <td>60</td>\n      <td>1</td>\n      <td>698</td>\n      <td>256</td>\n      <td>21</td>\n      <td>12</td>\n      <td>...</td>\n      <td>918</td>\n      <td>258</td>\n      <td>25,686</td>\n      <td>nan</td>\n      <td>1</td>\n      <td>nan</td>\n      <td>2</td>\n      <td>37</td>\n      <td>25</td>\n      <td>2006-2007</td>\n    </tr>\n    <tr>\n      <th>1</th>\n      <td>Chelsea</td>\n      <td>24</td>\n      <td>3</td>\n      <td>64</td>\n      <td>62</td>\n      <td>4</td>\n      <td>636</td>\n      <td>216</td>\n      <td>14</td>\n      <td>16</td>\n      <td>...</td>\n      <td>897</td>\n      <td>231</td>\n      <td>24,010</td>\n      <td>nan</td>\n      <td>2</td>\n      <td>nan</td>\n      <td>1</td>\n      <td>74</td>\n      <td>22</td>\n      <td>2006-2007</td>\n    </tr>\n    <tr>\n      <th>2</th>\n      <td>Liverpool</td>\n      <td>20</td>\n      <td>10</td>\n      <td>57</td>\n      <td>44</td>\n      <td>0</td>\n      <td>668</td>\n      <td>214</td>\n      <td>15</td>\n      <td>8</td>\n      <td>...</td>\n      <td>1,107</td>\n      <td>282</td>\n      <td>24,150</td>\n      <td>nan</td>\n      <td>1</td>\n      <td>nan</td>\n      <td>0</td>\n      <td>51</td>\n      <td>27</td>\n      <td>2006-2007</td>\n    </tr>\n  </tbody>\n</table>\n<p>3 rows × 42 columns</p>\n</div>",
      "text/plain": "                team  wins  losses  goals  total_yel_card  total_red_card  \\\n0  Manchester United    28       5     83              60               1   \n1            Chelsea    24       3     64              62               4   \n2          Liverpool    20      10     57              44               0   \n\n   total_scoring_att  ontarget_scoring_att  hit_woodwork  att_hd_goal  ...  \\\n0                698                   256            21           12  ...   \n1                636                   216            14           16  ...   \n2                668                   214            15            8  ...   \n\n   total_cross  corner_taken  touches  big_chance_missed  clearance_off_line  \\\n0          918           258   25,686                nan                   1   \n1          897           231   24,010                nan                   2   \n2        1,107           282   24,150                nan                   1   \n\n   dispossessed  penalty_save  total_high_claim  punches     season  \n0           nan             2                37       25  2006-2007  \n1           nan             1                74       22  2006-2007  \n2           nan             0                51       27  2006-2007  \n\n[3 rows x 42 columns]"
     },
     "execution_count": 6,
     "metadata": {},
     "output_type": "execute_result"
    }
   ],
   "source": [
    "df.head(3)"
   ]
  },
  {
   "cell_type": "code",
   "execution_count": 7,
   "metadata": {},
   "outputs": [],
   "source": [
    "# Draws are not included in the dataset, so this constant exists to enable the calculation of draws. There have always been 38 games per season since the Premier League's inception.\n",
    "GAMES_PER_SEASON = 38"
   ]
  },
  {
   "cell_type": "code",
   "execution_count": 8,
   "metadata": {},
   "outputs": [],
   "source": [
    "# Select just the columns required\n",
    "df = df.filter([ 'team', 'wins', 'losses', 'goals', 'season'])"
   ]
  },
  {
   "cell_type": "code",
   "execution_count": 9,
   "metadata": {},
   "outputs": [],
   "source": [
    "# Insert a calculated field for the number of draws\n",
    "df.insert(2, 'draws', GAMES_PER_SEASON - df['wins'] - df['losses'])"
   ]
  },
  {
   "cell_type": "code",
   "execution_count": 10,
   "metadata": {},
   "outputs": [],
   "source": [
    "# Change all of the column headers to be title case\n",
    "df.columns = map(lambda x: str(x).title(), df.columns)"
   ]
  },
  {
   "cell_type": "code",
   "execution_count": 11,
   "metadata": {},
   "outputs": [],
   "source": [
    "# Append a column and use it as a position number for each group\n",
    "df['dummy'] = 0\n",
    "df['Pos'] = df.groupby(['Season'])['dummy'].cumcount() + 1\n",
    "df = df.drop('dummy', axis=1)"
   ]
  },
  {
   "cell_type": "code",
   "execution_count": 12,
   "metadata": {},
   "outputs": [],
   "source": [
    "# Organise the dataframe in the order required for presentation\n",
    "df = df[['Pos', 'Team', 'Wins', 'Draws', 'Losses', 'Goals', 'Season']]"
   ]
  },
  {
   "cell_type": "code",
   "execution_count": 13,
   "metadata": {},
   "outputs": [],
   "source": [
    "# Set the seasons groups to iterate over\n",
    "seasons = df.groupby(['Season'])"
   ]
  },
  {
   "cell_type": "code",
   "execution_count": 14,
   "metadata": {},
   "outputs": [],
   "source": [
    "# Reflect the top 6 finishing teams for each of the seasons\n",
    "seasons_tables = [seasons.get_group(season).head(6) for season in seasons.groups]"
   ]
  },
  {
   "cell_type": "code",
   "execution_count": 15,
   "metadata": {},
   "outputs": [
    {
     "data": {
      "text/plain": "[   Pos               Team  Wins  Draws  Losses  Goals     Season\n 0    1  Manchester United    28      5       5     83  2006-2007\n 1    2            Chelsea    24     11       3     64  2006-2007\n 2    3          Liverpool    20      8      10     57  2006-2007\n 3    4            Arsenal    19     11       8     63  2006-2007\n 4    5  Tottenham Hotspur    17      9      12     57  2006-2007\n 5    6   Bolton Wanderers    16      8      14     47  2006-2007,\n     Pos               Team  Wins  Draws  Losses  Goals     Season\n 20    1  Manchester United    27      6       5     80  2007-2008\n 21    2            Chelsea    25     10       3     65  2007-2008\n 22    3            Arsenal    24     11       3     74  2007-2008\n 23    4          Liverpool    21     13       4     67  2007-2008\n 24    5            Everton    19      8      11     55  2007-2008\n 25    6        Aston Villa    16     12      10     71  2007-2008,\n     Pos               Team  Wins  Draws  Losses  Goals     Season\n 40    1  Manchester United    28      6       4     68  2008-2009\n 41    2            Chelsea    25      8       5     68  2008-2009\n 42    3          Liverpool    25     11       2     77  2008-2009\n 43    4            Arsenal    20     12       6     68  2008-2009\n 44    5        Aston Villa    17     11      10     54  2008-2009\n 45    6            Everton    17     12       9     55  2008-2009,\n     Pos               Team  Wins  Draws  Losses  Goals     Season\n 60    1            Chelsea    27      5       6    103  2009-2010\n 61    2  Manchester United    27      4       7     86  2009-2010\n 62    3            Arsenal    23      6       9     83  2009-2010\n 63    4  Tottenham Hotspur    21      7      10     67  2009-2010\n 64    5          Liverpool    18      9      11     61  2009-2010\n 65    6    Manchester City    18     13       7     73  2009-2010,\n     Pos               Team  Wins  Draws  Losses  Goals     Season\n 80    1  Manchester United    23     11       4     78  2010-2011\n 81    2            Chelsea    21      8       9     69  2010-2011\n 82    3    Manchester City    21      8       9     60  2010-2011\n 83    4            Arsenal    19     11       8     72  2010-2011\n 84    5          Liverpool    17      7      14     59  2010-2011\n 85    6  Tottenham Hotspur    16     14       8     55  2010-2011,\n      Pos               Team  Wins  Draws  Losses  Goals     Season\n 100    1    Manchester City    28      5       5     93  2011-2012\n 101    2  Manchester United    28      5       5     89  2011-2012\n 102    3            Arsenal    21      7      10     74  2011-2012\n 103    4  Tottenham Hotspur    20      9       9     66  2011-2012\n 104    5   Newcastle United    19      8      11     56  2011-2012\n 105    6            Chelsea    18     10      10     65  2011-2012,\n      Pos               Team  Wins  Draws  Losses  Goals     Season\n 120    1  Manchester United    28      5       5     86  2012-2013\n 121    2    Manchester City    23      9       6     66  2012-2013\n 122    3            Chelsea    22      9       7     75  2012-2013\n 123    4            Arsenal    21     10       7     72  2012-2013\n 124    5  Tottenham Hotspur    21      9       8     66  2012-2013\n 125    6            Everton    16     15       7     55  2012-2013,\n      Pos               Team  Wins  Draws  Losses  Goals     Season\n 140    1    Manchester City    27      5       6    102  2013-2014\n 141    2          Liverpool    26      6       6    101  2013-2014\n 142    3            Chelsea    25      7       6     71  2013-2014\n 143    4            Arsenal    24      7       7     68  2013-2014\n 144    5            Everton    21      9       8     61  2013-2014\n 145    6  Tottenham Hotspur    21      6      11     55  2013-2014,\n      Pos               Team  Wins  Draws  Losses  Goals     Season\n 160    1            Chelsea    26      9       3     73  2014-2015\n 161    2    Manchester City    24      7       7     83  2014-2015\n 162    3            Arsenal    22      9       7     71  2014-2015\n 163    4  Manchester United    20     10       8     62  2014-2015\n 164    5  Tottenham Hotspur    19      7      12     58  2014-2015\n 165    6          Liverpool    18      8      12     52  2014-2015,\n      Pos               Team  Wins  Draws  Losses  Goals     Season\n 180    1     Leicester City    23     12       3     68  2015-2016\n 181    2            Arsenal    20     11       7     65  2015-2016\n 182    3    Manchester City    19      9      10     71  2015-2016\n 183    4  Manchester United    19      9      10     49  2015-2016\n 184    5  Tottenham Hotspur    19     13       6     69  2015-2016\n 185    6        Southampton    18      9      11     59  2015-2016,\n      Pos               Team  Wins  Draws  Losses  Goals     Season\n 200    1            Chelsea    30      3       5     85  2016-2017\n 201    2  Tottenham Hotspur    26      8       4     86  2016-2017\n 202    3            Arsenal    23      6       9     77  2016-2017\n 203    4    Manchester City    23      9       6     80  2016-2017\n 204    5          Liverpool    22     10       6     78  2016-2017\n 205    6  Manchester United    18     15       5     54  2016-2017,\n      Pos               Team  Wins  Draws  Losses  Goals     Season\n 220    1    Manchester City    32      4       2    106  2017-2018\n 221    2  Manchester United    25      6       7     68  2017-2018\n 222    3  Tottenham Hotspur    23      8       7     74  2017-2018\n 223    4            Chelsea    21      7      10     62  2017-2018\n 224    5          Liverpool    21     12       5     84  2017-2018\n 225    6            Arsenal    19      6      13     74  2017-2018]"
     },
     "execution_count": 15,
     "metadata": {},
     "output_type": "execute_result"
    }
   ],
   "source": [
    "seasons_tables"
   ]
  }
 ],
 "metadata": {
  "kernelspec": {
   "display_name": "Python 3.7.3 64-bit ('base': conda)",
   "language": "python",
   "name": "python37364bitbasecondac4af5b99945c4903bac691b3d55d71d6"
  },
  "language_info": {
   "codemirror_mode": {
    "name": "ipython",
    "version": 3
   },
   "file_extension": ".py",
   "mimetype": "text/x-python",
   "name": "python",
   "nbconvert_exporter": "python",
   "pygments_lexer": "ipython3",
   "version": "3.8.2-final"
  }
 },
 "nbformat": 4,
 "nbformat_minor": 2
}