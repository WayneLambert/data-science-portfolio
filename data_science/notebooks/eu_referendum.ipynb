{
  "cells": [
    {
      "cell_type": "markdown",
      "metadata": {},
      "source": [
        "# Referendum Results"
      ]
    },
    {
      "cell_type": "markdown",
      "metadata": {},
      "source": [
        "This notebook scrapes the voting results in the membership of the European Union on 23rd June, 2016. This is scraped from the BBC website"
      ]
    },
    {
      "cell_type": "code",
      "execution_count": 1,
      "metadata": {},
      "outputs": [],
      "source": [
        "from collections import defaultdict\n",
        "from decimal import Decimal\n",
        "import string\n",
        "import requests\n",
        "from bs4 import BeautifulSoup"
      ]
    },
    {
      "cell_type": "code",
      "execution_count": 2,
      "metadata": {},
      "outputs": [],
      "source": [
        "# Set a constant for the alphabet's letters\n",
        "ALPHABET = string.ascii_lowercase"
      ]
    },
    {
      "cell_type": "code",
      "execution_count": 3,
      "metadata": {},
      "outputs": [],
      "source": [
        "# Set the base url in readiness to append the letter\n",
        "BASE_URL = 'https://www.bbc.co.uk/news/politics/eu_referendum/results/local/'"
      ]
    },
    {
      "cell_type": "code",
      "execution_count": 4,
      "metadata": {},
      "outputs": [],
      "source": [
        "# Set initial variables and results dictionary\n",
        "results = defaultdict(list)\n",
        "leave_votes, remain_votes = 0, 0"
      ]
    },
    {
      "cell_type": "code",
      "execution_count": 5,
      "metadata": {},
      "outputs": [
        {
          "name": "stdout",
          "output_type": "stream",
          "text": "URL: https://www.bbc.co.uk/news/politics/eu_referendum/results/local/a | Status Code: 200\nURL: https://www.bbc.co.uk/news/politics/eu_referendum/results/local/b | Status Code: 200\nURL: https://www.bbc.co.uk/news/politics/eu_referendum/results/local/c | Status Code: 200\nURL: https://www.bbc.co.uk/news/politics/eu_referendum/results/local/d | Status Code: 200\nURL: https://www.bbc.co.uk/news/politics/eu_referendum/results/local/e | Status Code: 200\nURL: https://www.bbc.co.uk/news/politics/eu_referendum/results/local/f | Status Code: 200\nURL: https://www.bbc.co.uk/news/politics/eu_referendum/results/local/g | Status Code: 200\nURL: https://www.bbc.co.uk/news/politics/eu_referendum/results/local/h | Status Code: 200\nURL: https://www.bbc.co.uk/news/politics/eu_referendum/results/local/i | Status Code: 200\nURL: https://www.bbc.co.uk/news/politics/eu_referendum/results/local/j | Status Code: 404\nURL: https://www.bbc.co.uk/news/politics/eu_referendum/results/local/k | Status Code: 200\nURL: https://www.bbc.co.uk/news/politics/eu_referendum/results/local/l | Status Code: 200\nURL: https://www.bbc.co.uk/news/politics/eu_referendum/results/local/m | Status Code: 200\nURL: https://www.bbc.co.uk/news/politics/eu_referendum/results/local/n | Status Code: 200\nURL: https://www.bbc.co.uk/news/politics/eu_referendum/results/local/o | Status Code: 200\nURL: https://www.bbc.co.uk/news/politics/eu_referendum/results/local/p | Status Code: 200\nURL: https://www.bbc.co.uk/news/politics/eu_referendum/results/local/q | Status Code: 404\nURL: https://www.bbc.co.uk/news/politics/eu_referendum/results/local/r | Status Code: 200\nURL: https://www.bbc.co.uk/news/politics/eu_referendum/results/local/s | Status Code: 200\nURL: https://www.bbc.co.uk/news/politics/eu_referendum/results/local/t | Status Code: 200\nURL: https://www.bbc.co.uk/news/politics/eu_referendum/results/local/u | Status Code: 200\nURL: https://www.bbc.co.uk/news/politics/eu_referendum/results/local/v | Status Code: 200\nURL: https://www.bbc.co.uk/news/politics/eu_referendum/results/local/w | Status Code: 200\nURL: https://www.bbc.co.uk/news/politics/eu_referendum/results/local/x | Status Code: 404\nURL: https://www.bbc.co.uk/news/politics/eu_referendum/results/local/y | Status Code: 200\nURL: https://www.bbc.co.uk/news/politics/eu_referendum/results/local/z | Status Code: 404\n"
        }
      ],
      "source": [
        "# Scrape content from each lettered page from the BBC website\n",
        "# Print the status code returned from each page for review\n",
        "for letter in ALPHABET:\n",
        "    page_response = requests.get(f\"{BASE_URL}{letter}\", timeout=5)\n",
        "    print(f\"{'URL:'} {BASE_URL}{letter}{' | Status Code: '}{page_response.status_code}\")\n",
        "    if page_response:\n",
        "        page_content = BeautifulSoup(page_response.content, \"html.parser\")\n",
        "        areas = page_content.find_all('div', attrs={'class': 'eu-ref-result-bar'})\n",
        "        for area in areas:\n",
        "            results['area_name'].append(area.find('h3').getText())\n",
        "            cleaned_leave_votes = int(area.find_all('div',\n",
        "                                    {'class': 'eu-ref-result-bar__votes'}\n",
        "                                    )[0].string.strip().split('\\n')[0].strip().replace(',', ''))\n",
        "            results['leave_votes'].append(cleaned_leave_votes)\n",
        "            cleaned_remain_votes = int(area.find_all('div',\n",
        "                                    {'class': 'eu-ref-result-bar__votes'}\n",
        "                                    )[1].string.strip().split('\\n')[0].strip().replace(',', ''))\n",
        "            results['remain_votes'].append(cleaned_remain_votes)\n",
        "            area_votes = cleaned_leave_votes + cleaned_remain_votes\n",
        "            results['area_votes'].append(area_votes)\n",
        "            results['leave_percent'].append(f\"{cleaned_leave_votes / area_votes:.1%}\")\n",
        "            results['remain_percent'].append(f\"{cleaned_remain_votes / area_votes:.1%}\")\n",
        "            results['turnout'].append(area.find(\n",
        "                'div', {'class': 'eu-ref-result-bar__turnout'})\n",
        "                .getText().replace('Turnout: ', '')\n",
        "            )\n",
        "            leave_votes = sum(Decimal(num) for num in results['leave_votes'])\n",
        "            remain_votes = sum(Decimal(num) for num in results['remain_votes'])\n",
        "    else:\n",
        "        continue"
      ]
    },
    {
      "cell_type": "code",
      "execution_count": 6,
      "metadata": {},
      "outputs": [
        {
          "name": "stdout",
          "output_type": "stream",
          "text": "Leave votes: 17,410,742\nRemain votes: 16,141,241\n"
        }
      ],
      "source": [
        "# Print a totals summary for the number of leave and remain votes\n",
        "print(f\"Leave votes: {leave_votes:,}\\nRemain votes: {remain_votes:,}\")"
      ]
    },
    {
      "cell_type": "code",
      "execution_count": 7,
      "metadata": {},
      "outputs": [],
      "source": [
        "# Zip together the individual components of an area's result\n",
        "area_results = zip(\n",
        "    results['area_name'],\n",
        "    results['leave_votes'],\n",
        "    results['leave_percent'],\n",
        "    results['remain_votes'],\n",
        "    results['remain_percent'],\n",
        "    results['turnout'],\n",
        ")"
      ]
    },
    {
      "cell_type": "code",
      "execution_count": 8,
      "metadata": {},
      "outputs": [],
      "source": [
        "# Print the results for each area\n",
        "for area in area_results:\n",
        "    print(area)"
      ]
    }
  ],
  "metadata": {
    "kernelspec": {
      "name": "python37364bitbasecondac4af5b99945c4903bac691b3d55d71d6",
      "display_name": "Python 3.7.3 64-bit ('base': conda)",
      "language": "python"
    },
    "language_info": {
      "mimetype": "text/x-python",
      "nbconvert_exporter": "python",
      "name": "python",
      "pygments_lexer": "ipython3",
      "version": "3.8.1-final",
      "file_extension": ".py",
      "codemirror_mode": {
        "version": 3,
        "name": "ipython"
      }
    }
  },
  "nbformat": 4,
  "nbformat_minor": 2
}