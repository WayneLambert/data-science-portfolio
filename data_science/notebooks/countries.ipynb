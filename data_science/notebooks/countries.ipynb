{
 "nbformat": 4,
 "nbformat_minor": 2,
 "metadata": {
  "language_info": {
   "name": "python",
   "codemirror_mode": {
    "name": "ipython",
    "version": 3
   },
   "version": "3.8.1-final"
  },
  "orig_nbformat": 2,
  "file_extension": ".py",
  "mimetype": "text/x-python",
  "name": "python",
  "npconvert_exporter": "python",
  "pygments_lexer": "ipython3",
  "version": 3,
  "kernelspec": {
   "name": "python37364bitbasecondac4af5b99945c4903bac691b3d55d71d6",
   "display_name": "Python 3.7.3 64-bit ('base': conda)"
  }
 },
 "cells": [
  {
   "cell_type": "markdown",
   "metadata": {},
   "source": [
    "# Countries Data"
   ]
  },
  {
   "cell_type": "markdown",
   "metadata": {},
   "source": [
    "Display a list of countries along with their respective capital city and population. This data comes from a dataset on the Rapid API website."
   ]
  },
  {
   "cell_type": "code",
   "execution_count": 1,
   "metadata": {},
   "outputs": [],
   "source": [
    "# Import requisite libraries for analysis\n",
    "import requests\n",
    "import json"
   ]
  },
  {
   "cell_type": "code",
   "execution_count": 2,
   "metadata": {},
   "outputs": [],
   "source": [
    "# Set the base url for the REST Countries dataset on the Rapid API Website\n",
    "url = \"https://restcountries-v1.p.rapidapi.com/all\""
   ]
  },
  {
   "cell_type": "code",
   "execution_count": 3,
   "metadata": {},
   "outputs": [],
   "source": [
    "# Set the headers containing the Rapid API details. Not concerned with protecting the key\n",
    "headers = {\n",
    "    'x-rapidapi-host': \"restcountries-v1.p.rapidapi.com\",\n",
    "    'x-rapidapi-key': \"c7ad4ca6b7msha4a35f57fe94fd1p1f7c60jsndbe42493472f\"\n",
    "}"
   ]
  },
  {
   "cell_type": "code",
   "execution_count": 4,
   "metadata": {},
   "outputs": [],
   "source": [
    "# Retrieve the response from the GET request to the Rapid API\n",
    "response = requests.request(\"GET\", url, headers=headers)"
   ]
  },
  {
   "cell_type": "code",
   "execution_count": 5,
   "metadata": {},
   "outputs": [],
   "source": [
    "# Create a list of countries to iterate over\n",
    "countries = json.loads(response.text)"
   ]
  },
  {
   "cell_type": "code",
   "execution_count": 6,
   "metadata": {},
   "outputs": [
    {
     "name": "stdout",
     "output_type": "stream",
     "text": "Countries, Capital Cities and Populations\n\nAfghanistan --> Capital City: Kabul | Population: 26,023,100\nÅland Islands --> Capital City: Mariehamn | Population: 28,875\nAlbania --> Capital City: Tirana | Population: 2,893,005\nAlgeria --> Capital City: Algiers | Population: 39,500,000\nAmerican Samoa --> Capital City: Pago Pago | Population: 55,519\nAndorra --> Capital City: Andorra la Vella | Population: 76,949\nAngola --> Capital City: Luanda | Population: 24,383,301\nAnguilla --> Capital City: The Valley | Population: 13,452\nAntarctica --> Capital City:  | Population: 1,000\nAntigua and Barbuda --> Capital City: Saint John's | Population: 86,295\nArgentina --> Capital City: Buenos Aires | Population: 43,131,966\nArmenia --> Capital City: Yerevan | Population: 3,006,800\nAruba --> Capital City: Oranjestad | Population: 107,394\nAustralia --> Capital City: Canberra | Population: 23,868,800\nAustria --> Capital City: Vienna | Population: 8,602,112\nAzerbaijan --> Capital City: Baku | Population: 9,636,300\nThe Bahamas --> Capital City: Nassau | Population: 368,390\nBahrain --> Capital City: Manama | Population: 1,359,800\nBangladesh --> Capital City: Dhaka | Population: 158,875,000\nBarbados --> Capital City: Bridgetown | Population: 285,000\nBelarus --> Capital City: Minsk | Population: 9,485,300\nBelgium --> Capital City: Brussels | Population: 11,248,330\nBelize --> Capital City: Belmopan | Population: 368,310\nBenin --> Capital City: Porto-Novo | Population: 10,315,244\nBermuda --> Capital City: Hamilton | Population: 64,237\nBhutan --> Capital City: Thimphu | Population: 763,920\nBolivia --> Capital City: Sucre | Population: 11,410,651\nBonaire --> Capital City: Kralendijk | Population: 17,408\nBosnia and Herzegovina --> Capital City: Sarajevo | Population: 3,791,622\nBotswana --> Capital City: Gaborone | Population: 2,070,984\nBouvet Island --> Capital City:  | Population: 0\nBrazil --> Capital City: Brasília | Population: 204,772,000\nBritish Indian Ocean Territory --> Capital City: Diego Garcia | Population: 3,000\nUnited States Minor Outlying Islands --> Capital City:  | Population: 300\nVirgin Islands (British) --> Capital City: Road Town | Population: 28,054\nVirgin Islands (U.S.) --> Capital City: Charlotte Amalie | Population: 114,743\nBrunei --> Capital City: Bandar Seri Begawan | Population: 393,372\nBulgaria --> Capital City: Sofia | Population: 7,202,198\nBurkina Faso --> Capital City: Ouagadougou | Population: 18,450,494\nBurundi --> Capital City: Bujumbura | Population: 9,823,827\nCambodia --> Capital City: Phnom Penh | Population: 15,405,157\nCameroon --> Capital City: Yaoundé | Population: 23,344,000\nCanada --> Capital City: Ottawa | Population: 35,749,600\nCape Verde --> Capital City: Praia | Population: 524,833\nCayman Islands --> Capital City: George Town | Population: 58,238\nCentral African Republic --> Capital City: Bangui | Population: 4,900,000\nChad --> Capital City: N'Djamena | Population: 14,037,000\nChile --> Capital City: Santiago | Population: 18,006,407\nChina --> Capital City: Beijing | Population: 1,371,590,000\nChristmas Island --> Capital City: Flying Fish Cove | Population: 2,072\nCocos (Keeling) Islands --> Capital City: West Island | Population: 550\nColombia --> Capital City: Bogotá | Population: 48,266,600\nComoros --> Capital City: Moroni | Population: 784,745\nRepublic of the Congo --> Capital City: Brazzaville | Population: 4,620,000\nDemocratic Republic of the Congo --> Capital City: Kinshasa | Population: 77,267,000\nCook Islands --> Capital City: Avarua | Population: 14,974\nCosta Rica --> Capital City: San José | Population: 4,773,130\nCroatia --> Capital City: Zagreb | Population: 4,246,800\nCuba --> Capital City: Havana | Population: 11,238,317\nCuraçao --> Capital City: Willemstad | Population: 154,843\nCyprus --> Capital City: Nicosia | Population: 858,000\nCzech Republic --> Capital City: Prague | Population: 10,537,818\nDenmark --> Capital City: Copenhagen | Population: 5,678,348\nDjibouti --> Capital City: Djibouti | Population: 888,000\nDominica --> Capital City: Roseau | Population: 71,293\nDominican Republic --> Capital City: Santo Domingo | Population: 10,528,000\nEcuador --> Capital City: Quito | Population: 16,027,500\nEgypt --> Capital City: Cairo | Population: 89,335,600\nEl Salvador --> Capital City: San Salvador | Population: 6,401,240\nEquatorial Guinea --> Capital City: Malabo | Population: 1,430,000\nEritrea --> Capital City: Asmara | Population: 5,228,000\nEstonia --> Capital City: Tallinn | Population: 1,313,271\nEthiopia --> Capital City: Addis Ababa | Population: 90,076,012\nFalkland Islands --> Capital City: Stanley | Population: 3,000\nFaroe Islands --> Capital City: Tórshavn | Population: 48,846\nFiji --> Capital City: Suva | Population: 859,178\nFinland --> Capital City: Helsinki | Population: 5,485,215\nFrance --> Capital City: Paris | Population: 66,186,000\nFrench Guiana --> Capital City: Cayenne | Population: 239,648\nFrench Polynesia --> Capital City: Papeetē | Population: 268,270\nFrench Southern and Antarctic Lands --> Capital City: Port-aux-Français | Population: 140\nGabon --> Capital City: Libreville | Population: 1,725,000\nThe Gambia --> Capital City: Banjul | Population: 1,882,450\nGeorgia --> Capital City: Tbilisi | Population: 3,729,500\nGermany --> Capital City: Berlin | Population: 81,083,600\nGhana --> Capital City: Accra | Population: 27,043,093\nGibraltar --> Capital City: Gibraltar | Population: 32,734\nGreece --> Capital City: Athens | Population: 10,846,979\nGreenland --> Capital City: Nuuk | Population: 56,114\nGrenada --> Capital City: St. George's | Population: 103,328\nGuadeloupe --> Capital City: Basse-Terre | Population: 403,750\nGuam --> Capital City: Hagåtña | Population: 159,358\nGuatemala --> Capital City: Guatemala City | Population: 16,176,133\nGuernsey --> Capital City: St. Peter Port | Population: 65,150\nGuinea --> Capital City: Conakry | Population: 10,628,972\nGuinea-Bissau --> Capital City: Bissau | Population: 1,844,000\nGuyana --> Capital City: Georgetown | Population: 746,900\nHaiti --> Capital City: Port-au-Prince | Population: 10,911,819\nHeard Island and McDonald Islands --> Capital City:  | Population: 0\nHoly See --> Capital City: Rome | Population: 451\nHonduras --> Capital City: Tegucigalpa | Population: 8,725,111\nHong Kong --> Capital City: City of Victoria | Population: 7,298,600\nHungary --> Capital City: Budapest | Population: 9,849,000\nIceland --> Capital City: Reykjavík | Population: 330,610\nIndia --> Capital City: New Delhi | Population: 1,275,840,000\nIndonesia --> Capital City: Jakarta | Population: 255,461,700\nIvory Coast --> Capital City: Yamoussoukro | Population: 22,671,331\nIran --> Capital City: Tehran | Population: 78,572,500\nIraq --> Capital City: Baghdad | Population: 36,004,552\nRepublic of Ireland --> Capital City: Dublin | Population: 6,378,000\nIsle of Man --> Capital City: Douglas | Population: 84,497\nIsrael --> Capital City: Jerusalem | Population: 8,371,600\nItaly --> Capital City: Rome | Population: 60,753,794\nJamaica --> Capital City: Kingston | Population: 2,717,991\nJapan --> Capital City: Tokyo | Population: 126,865,000\nJersey --> Capital City: Saint Helier | Population: 99,000\nJordan --> Capital City: Amman | Population: 6,767,600\nKazakhstan --> Capital City: Astana | Population: 17,541,200\nKenya --> Capital City: Nairobi | Population: 46,050,000\nKiribati --> Capital City: South Tarawa | Population: 106,461\nKuwait --> Capital City: Kuwait City | Population: 3,268,431\nKyrgyzstan --> Capital City: Bishkek | Population: 5,944,400\nLaos --> Capital City: Vientiane | Population: 6,802,000\nLatvia --> Capital City: Riga | Population: 1,980,700\nLebanon --> Capital City: Beirut | Population: 4,104,000\nLesotho --> Capital City: Maseru | Population: 2,135,000\nLiberia --> Capital City: Monrovia | Population: 4,503,000\nLibya --> Capital City: Tripoli | Population: 6,278,000\nLiechtenstein --> Capital City: Vaduz | Population: 37,370\nLithuania --> Capital City: Vilnius | Population: 2,900,787\nLuxembourg --> Capital City: Luxembourg | Population: 562,958\nMacau --> Capital City:  | Population: 642,900\nRepublic of Macedonia --> Capital City: Skopje | Population: 2,058,539\nMadagascar --> Capital City: Antananarivo | Population: 22,434,363\nMalawi --> Capital City: Lilongwe | Population: 16,310,431\nMalaysia --> Capital City: Kuala Lumpur | Population: 30,678,800\nMaldives --> Capital City: Malé | Population: 341,256\nMali --> Capital City: Bamako | Population: 17,600,000\nMalta --> Capital City: Valletta | Population: 445,426\nMarshall Islands --> Capital City: Majuro | Population: 56,086\nMartinique --> Capital City: Fort-de-France | Population: 381,326\nMauritania --> Capital City: Nouakchott | Population: 3,631,775\nMauritius --> Capital City: Port Louis | Population: 1,261,208\nMayotte --> Capital City: Mamoudzou | Population: 212,645\nMexico --> Capital City: Mexico City | Population: 121,740,000\nFederated States of Micronesia --> Capital City: Palikir | Population: 101,351\nMoldova --> Capital City: Chișinău | Population: 3,555,200\nMonaco --> Capital City: Monaco | Population: 37,800\nMongolia --> Capital City: Ulan Bator | Population: 3,031,099\nMontenegro --> Capital City: Podgorica | Population: 621,207\nMontserrat --> Capital City: Plymouth | Population: 4,922\nMorocco --> Capital City: Rabat | Population: 33,337,529\nMozambique --> Capital City: Maputo | Population: 25,727,911\nMyanmar --> Capital City: Naypyidaw | Population: 53,897,000\nNamibia --> Capital City: Windhoek | Population: 2,280,700\nNauru --> Capital City: Yaren | Population: 10,084\nNepal --> Capital City: Kathmandu | Population: 28,037,904\nNetherlands --> Capital City: Amsterdam | Population: 16,916,000\nNew Caledonia --> Capital City: Nouméa | Population: 268,767\nNew Zealand --> Capital City: Wellington | Population: 4,609,440\nNicaragua --> Capital City: Managua | Population: 6,198,154\nNiger --> Capital City: Niamey | Population: 19,899,000\nNigeria --> Capital City: Abuja | Population: 182,202,000\nNiue --> Capital City: Alofi | Population: 1,613\nNorfolk Island --> Capital City: Kingston | Population: 2,302\nNorth Korea --> Capital City: Pyongyang | Population: 25,155,000\nNorthern Mariana Islands --> Capital City: Saipan | Population: 53,883\nNorway --> Capital City: Oslo | Population: 5,176,998\nOman --> Capital City: Muscat | Population: 4,185,440\nPakistan --> Capital City: Islamabad | Population: 190,668,000\nPalau --> Capital City: Ngerulmud | Population: 20,901\nPalestine --> Capital City: Ramallah | Population: 4,682,467\nPanama --> Capital City: Panama City | Population: 3,764,166\nPapua New Guinea --> Capital City: Port Moresby | Population: 7,398,500\nParaguay --> Capital City: Asunción | Population: 7,003,406\nPeru --> Capital City: Lima | Population: 31,151,643\nPhilippines --> Capital City: Manila | Population: 101,920,000\nPitcairn Islands --> Capital City: Adamstown | Population: 56\nPoland --> Capital City: Warsaw | Population: 38,484,000\nPortugal --> Capital City: Lisbon | Population: 10,374,822\nPuerto Rico --> Capital City: San Juan | Population: 3,548,397\nQatar --> Capital City: Doha | Population: 2,120,129\nRepublic of Kosovo --> Capital City: Pristina | Population: 1,733,842\nRéunion --> Capital City: Saint-Denis | Population: 840,974\nRomania --> Capital City: Bucharest | Population: 19,942,642\nRussia --> Capital City: Moscow | Population: 146,556,330\nRwanda --> Capital City: Kigali | Population: 11,262,564\nSaint Barthélemy --> Capital City: Gustavia | Population: 9,269\nSaint Helena --> Capital City: Jamestown | Population: 4,255\nSaint Kitts and Nevis --> Capital City: Basseterre | Population: 56,000\nSaint Lucia --> Capital City: Castries | Population: 185,000\nSaint Martin --> Capital City: Marigot | Population: 36,979\nSaint Pierre and Miquelon --> Capital City: Saint-Pierre | Population: 6,069\nSaint Vincent and the Grenadines --> Capital City: Kingstown | Population: 109,991\nSamoa --> Capital City: Apia | Population: 187,820\nSan Marino --> Capital City: City of San Marino | Population: 32,831\nSão Tomé and Príncipe --> Capital City: São Tomé | Population: 187,356\nSaudi Arabia --> Capital City: Riyadh | Population: 31,521,418\nSenegal --> Capital City: Dakar | Population: 13,508,715\nSerbia --> Capital City: Belgrade | Population: 7,114,393\nSeychelles --> Capital City: Victoria | Population: 89,949\nSierra Leone --> Capital City: Freetown | Population: 6,453,000\nSingapore --> Capital City: Singapore | Population: 5,469,700\nSint Maarten --> Capital City: Philipsburg | Population: 37,429\nSlovakia --> Capital City: Bratislava | Population: 5,421,349\nSlovenia --> Capital City: Ljubljana | Population: 2,067,683\nSolomon Islands --> Capital City: Honiara | Population: 581,344\nSomalia --> Capital City: Mogadishu | Population: 10,787,000\nSouth Africa --> Capital City: Pretoria | Population: 54,956,900\nSouth Georgia --> Capital City: King Edward Point | Population: 30\nSouth Korea --> Capital City: Seoul | Population: 51,448,183\nSouth Sudan --> Capital City: Juba | Population: 11,892,934\nSpain --> Capital City: Madrid | Population: 46,439,864\nSri Lanka --> Capital City: Colombo | Population: 20,675,000\nSudan --> Capital City: Khartoum | Population: 38,435,252\nSuriname --> Capital City: Paramaribo | Population: 534,189\nSvalbard and Jan Mayen --> Capital City: Longyearbyen | Population: 2,562\nSwaziland --> Capital City: Lobamba | Population: 1,119,375\nSweden --> Capital City: Stockholm | Population: 9,793,172\nSwitzerland --> Capital City: Bern | Population: 8,256,000\nSyria --> Capital City: Damascus | Population: 23,339,517\nTaiwan --> Capital City: Taipei | Population: 23,461,708\nTajikistan --> Capital City: Dushanbe | Population: 8,354,000\nTanzania --> Capital City: Dodoma | Population: 53,470,000\nThailand --> Capital City: Bangkok | Population: 65,104,000\nEast Timor --> Capital City: Dili | Population: 1,212,107\nTogo --> Capital City: Lomé | Population: 7,305,000\nTokelau --> Capital City: Fakaofo | Population: 1,411\nTonga --> Capital City: Nuku'alofa | Population: 103,252\nTrinidad and Tobago --> Capital City: Port of Spain | Population: 1,340,557\nTunisia --> Capital City: Tunis | Population: 10,982,754\nTurkey --> Capital City: Ankara | Population: 77,695,904\nTurkmenistan --> Capital City: Ashgabat | Population: 4,751,120\nTurks and Caicos Islands --> Capital City: Cockburn Town | Population: 31,458\nTuvalu --> Capital City: Funafuti | Population: 10,640\nUganda --> Capital City: Kampala | Population: 34,856,813\nUkraine --> Capital City: Kiev | Population: 42,836,922\nUnited Arab Emirates --> Capital City: Abu Dhabi | Population: 9,157,000\nUnited Kingdom --> Capital City: London | Population: 64,800,000\nUnited States --> Capital City: Washington, D.C. | Population: 321,645,000\nUruguay --> Capital City: Montevideo | Population: 3,415,866\nUzbekistan --> Capital City: Tashkent | Population: 31,022,500\nVanuatu --> Capital City: Port Vila | Population: 264,652\nVenezuela --> Capital City: Caracas | Population: 30,620,404\nVietnam --> Capital City: Hanoi | Population: 91,812,000\nWallis and Futuna --> Capital City: Mata-Utu | Population: 13,135\nWestern Sahara --> Capital City: El Aaiún | Population: 510,713\nYemen --> Capital City: Sana'a | Population: 25,956,000\nZambia --> Capital City: Lusaka | Population: 15,473,905\nZimbabwe --> Capital City: Harare | Population: 13,061,239\n"
    }
   ],
   "source": [
    "# Print a list of countries along with their respective capital city and population\n",
    "print(\"Countries, Capital Cities and Populations\\n\")\n",
    "for country in countries:\n",
    "    print(f\"{country['name']} --> {'Capital City:'} {country['capital']} | {'Population:'} {country['population']:,}\")"
   ]
  }
 ]
}