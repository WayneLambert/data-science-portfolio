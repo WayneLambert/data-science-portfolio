{
 "nbformat": 4,
 "nbformat_minor": 2,
 "metadata": {
  "language_info": {
   "name": "python",
   "version": "3.8.12",
   "mimetype": "text/x-python",
   "codemirror_mode": {
    "name": "ipython",
    "version": 3
   },
   "pygments_lexer": "ipython3",
   "nbconvert_exporter": "python",
   "file_extension": ".py"
  },
  "orig_nbformat": 2,
  "file_extension": ".py",
  "mimetype": "text/x-python",
  "name": "python",
  "npconvert_exporter": "python",
  "pygments_lexer": "ipython3",
  "version": 3,
  "kernelspec": {
   "name": "python3",
   "display_name": "Python 3.8.12 64-bit ('base': conda)"
  },
  "interpreter": {
   "hash": "1c216087a2126e673ec7f7e4f6c34c051bf287723219592fef13e81afb40a7d0"
  }
 },
 "cells": [
  {
   "cell_type": "markdown",
   "source": [
    "# UK Salaries Analysis"
   ],
   "metadata": {}
  },
  {
   "cell_type": "markdown",
   "source": [
    "This analysis digs into a random dataset of 50,000 records which analyses the data in various ways in order to gain business insights into the population."
   ],
   "metadata": {}
  },
  {
   "cell_type": "code",
   "execution_count": 1,
   "source": [
    "# Check Python version for compatibility/reference\n",
    "import sys\n",
    "print(sys.executable)\n",
    "print(sys.version)\n",
    "print(sys.version_info)"
   ],
   "outputs": [
    {
     "output_type": "stream",
     "name": "stdout",
     "text": [
      "/Applications/JupyterLab.app/Contents/Resources/jlab_server/bin/python\n",
      "3.8.12 | packaged by conda-forge | (default, Sep 16 2021, 01:59:00) \n",
      "[Clang 11.1.0 ]\n",
      "sys.version_info(major=3, minor=8, micro=12, releaselevel='final', serial=0)\n"
     ]
    }
   ],
   "metadata": {}
  },
  {
   "cell_type": "code",
   "execution_count": 2,
   "source": [
    "# Install seaborn and openpyxl packages in the current Jupyter kernel\n",
    "!{sys.executable} -m pip install seaborn openpyxl"
   ],
   "outputs": [
    {
     "output_type": "stream",
     "name": "stdout",
     "text": [
      "Defaulting to user installation because normal site-packages is not writeable\n",
      "Collecting seaborn\n",
      "  Using cached seaborn-0.11.2-py3-none-any.whl (292 kB)\n",
      "Collecting openpyxl\n",
      "  Using cached openpyxl-3.0.9-py2.py3-none-any.whl (242 kB)\n",
      "Collecting numpy>=1.15\n",
      "  Using cached numpy-1.21.2-cp38-cp38-macosx_10_9_x86_64.whl (16.9 MB)\n",
      "Collecting matplotlib>=2.2\n",
      "  Using cached matplotlib-3.4.3-cp38-cp38-macosx_10_9_x86_64.whl (7.2 MB)\n",
      "Collecting scipy>=1.0\n",
      "  Using cached scipy-1.7.1-cp38-cp38-macosx_10_9_x86_64.whl (32.6 MB)\n",
      "Collecting pandas>=0.23\n",
      "  Using cached pandas-1.3.3-cp38-cp38-macosx_10_9_x86_64.whl (11.4 MB)\n",
      "Collecting et-xmlfile\n",
      "  Using cached et_xmlfile-1.1.0-py3-none-any.whl (4.7 kB)\n",
      "Collecting python-dateutil>=2.7\n",
      "  Using cached python_dateutil-2.8.2-py2.py3-none-any.whl (247 kB)\n",
      "Collecting pillow>=6.2.0\n",
      "  Using cached Pillow-8.3.2-cp38-cp38-macosx_10_10_x86_64.whl (3.0 MB)\n",
      "Collecting kiwisolver>=1.0.1\n",
      "  Using cached kiwisolver-1.3.2-cp38-cp38-macosx_10_9_x86_64.whl (61 kB)\n",
      "Collecting pyparsing>=2.2.1\n",
      "  Using cached pyparsing-2.4.7-py2.py3-none-any.whl (67 kB)\n",
      "Collecting cycler>=0.10\n",
      "  Using cached cycler-0.10.0-py2.py3-none-any.whl (6.5 kB)\n",
      "Collecting six\n",
      "  Using cached six-1.16.0-py2.py3-none-any.whl (11 kB)\n",
      "Collecting pytz>=2017.3\n",
      "  Using cached pytz-2021.1-py2.py3-none-any.whl (510 kB)\n",
      "Installing collected packages: six, pytz, python-dateutil, pyparsing, pillow, numpy, kiwisolver, cycler, scipy, pandas, matplotlib, et-xmlfile, seaborn, openpyxl\n",
      "\u001b[33m  WARNING: The scripts f2py, f2py3 and f2py3.8 are installed in '/Users/wayne-lambert/.local/bin' which is not on PATH.\n",
      "  Consider adding this directory to PATH or, if you prefer to suppress this warning, use --no-warn-script-location.\u001b[0m\n",
      "Successfully installed cycler-0.10.0 et-xmlfile-1.1.0 kiwisolver-1.3.2 matplotlib-3.4.3 numpy-1.21.2 openpyxl-3.0.9 pandas-1.3.3 pillow-8.3.2 pyparsing-2.4.7 python-dateutil-2.8.2 pytz-2021.1 scipy-1.7.1 seaborn-0.11.2 six-1.16.0\n"
     ]
    }
   ],
   "metadata": {}
  },
  {
   "cell_type": "code",
   "execution_count": 3,
   "source": [
    "# Import requisite data science libraries\n",
    "import pandas as pd\n",
    "import matplotlib as mpl\n",
    "import matplotlib.pyplot as plt\n",
    "import seaborn as sns"
   ],
   "outputs": [],
   "metadata": {}
  },
  {
   "cell_type": "code",
   "execution_count": 4,
   "source": [
    "# Check Package version numbering for compatibility/reference\n",
    "print(f\"{'Pandas version:'} \\t{pd.__version__}\")\n",
    "print(f\"{'Matplotlib version:'} \\t{mpl.__version__}\")\n",
    "print(f\"{'Seaborn version:'} \\t{sns.__version__}\")"
   ],
   "outputs": [
    {
     "output_type": "stream",
     "name": "stdout",
     "text": [
      "Pandas version: \t1.3.3\n",
      "Matplotlib version: \t3.4.3\n",
      "Seaborn version: \t0.11.2\n"
     ]
    }
   ],
   "metadata": {}
  },
  {
   "cell_type": "code",
   "execution_count": 5,
   "source": [
    "# Set up matplotlib\n",
    "%matplotlib inline\n",
    "sns.set_style('darkgrid')"
   ],
   "outputs": [],
   "metadata": {}
  },
  {
   "cell_type": "code",
   "execution_count": 6,
   "source": [
    "# Read the salary data in from an Excel file\n",
    "df = pd.read_excel('../data_files/salaries.xlsx', sheet_name='Data', index_col=None)"
   ],
   "outputs": [],
   "metadata": {}
  },
  {
   "cell_type": "code",
   "execution_count": 7,
   "source": [
    "# Check formatting of dataframe\n",
    "df.head(2)"
   ],
   "outputs": [
    {
     "output_type": "execute_result",
     "data": {
      "text/html": [
       "<div>\n",
       "<style scoped>\n",
       "    .dataframe tbody tr th:only-of-type {\n",
       "        vertical-align: middle;\n",
       "    }\n",
       "\n",
       "    .dataframe tbody tr th {\n",
       "        vertical-align: top;\n",
       "    }\n",
       "\n",
       "    .dataframe thead th {\n",
       "        text-align: right;\n",
       "    }\n",
       "</style>\n",
       "<table border=\"1\" class=\"dataframe\">\n",
       "  <thead>\n",
       "    <tr style=\"text-align: right;\">\n",
       "      <th></th>\n",
       "      <th>employee_id</th>\n",
       "      <th>job_title</th>\n",
       "      <th>job_family</th>\n",
       "      <th>corp_title</th>\n",
       "      <th>city</th>\n",
       "      <th>country</th>\n",
       "      <th>gender</th>\n",
       "      <th>date_of_birth</th>\n",
       "      <th>start_date</th>\n",
       "      <th>salary</th>\n",
       "    </tr>\n",
       "  </thead>\n",
       "  <tbody>\n",
       "    <tr>\n",
       "      <th>0</th>\n",
       "      <td>100002</td>\n",
       "      <td>Software Engineering Manager</td>\n",
       "      <td>Management</td>\n",
       "      <td>Vice President</td>\n",
       "      <td>London</td>\n",
       "      <td>England</td>\n",
       "      <td>Male</td>\n",
       "      <td>1958-12-30</td>\n",
       "      <td>2013-04-28</td>\n",
       "      <td>118000</td>\n",
       "    </tr>\n",
       "    <tr>\n",
       "      <th>1</th>\n",
       "      <td>100003</td>\n",
       "      <td>IT Support</td>\n",
       "      <td>Technical (Jnr)</td>\n",
       "      <td>Associate</td>\n",
       "      <td>London</td>\n",
       "      <td>England</td>\n",
       "      <td>Female</td>\n",
       "      <td>1967-04-27</td>\n",
       "      <td>2020-01-27</td>\n",
       "      <td>48700</td>\n",
       "    </tr>\n",
       "  </tbody>\n",
       "</table>\n",
       "</div>"
      ],
      "text/plain": [
       "   employee_id                     job_title       job_family      corp_title  \\\n",
       "0       100002  Software Engineering Manager       Management  Vice President   \n",
       "1       100003                    IT Support  Technical (Jnr)       Associate   \n",
       "\n",
       "     city  country  gender date_of_birth start_date  salary  \n",
       "0  London  England    Male    1958-12-30 2013-04-28  118000  \n",
       "1  London  England  Female    1967-04-27 2020-01-27   48700  "
      ]
     },
     "metadata": {},
     "execution_count": 7
    }
   ],
   "metadata": {}
  },
  {
   "cell_type": "markdown",
   "source": [
    "#### Prepare Augmented Dataframe"
   ],
   "metadata": {}
  },
  {
   "cell_type": "markdown",
   "source": [
    "Calculations for age and length of service are added to the dataframe to facilitate analysis."
   ],
   "metadata": {}
  },
  {
   "cell_type": "code",
   "execution_count": 8,
   "source": [
    "seconds_per_year = 60 * 60 * 24 * 365.25\n",
    "\n",
    "# Calculate age in years to 2 d.p.\n",
    "df['age_in_years'] = round((pd.to_datetime('now') - df['date_of_birth']).dt.total_seconds() / seconds_per_year, 2)\n",
    "\n",
    "# Calculate length of service in years to 2 d.p.\n",
    "df['los_in_years'] = round((pd.to_datetime('now') - df['start_date']).dt.total_seconds() / seconds_per_year, 2)"
   ],
   "outputs": [],
   "metadata": {}
  },
  {
   "cell_type": "code",
   "execution_count": 9,
   "source": [
    "# Check the 'sal' dataframe now has the added calculations for age and length of service\n",
    "df.head(2)"
   ],
   "outputs": [
    {
     "output_type": "execute_result",
     "data": {
      "text/html": [
       "<div>\n",
       "<style scoped>\n",
       "    .dataframe tbody tr th:only-of-type {\n",
       "        vertical-align: middle;\n",
       "    }\n",
       "\n",
       "    .dataframe tbody tr th {\n",
       "        vertical-align: top;\n",
       "    }\n",
       "\n",
       "    .dataframe thead th {\n",
       "        text-align: right;\n",
       "    }\n",
       "</style>\n",
       "<table border=\"1\" class=\"dataframe\">\n",
       "  <thead>\n",
       "    <tr style=\"text-align: right;\">\n",
       "      <th></th>\n",
       "      <th>employee_id</th>\n",
       "      <th>job_title</th>\n",
       "      <th>job_family</th>\n",
       "      <th>corp_title</th>\n",
       "      <th>city</th>\n",
       "      <th>country</th>\n",
       "      <th>gender</th>\n",
       "      <th>date_of_birth</th>\n",
       "      <th>start_date</th>\n",
       "      <th>salary</th>\n",
       "      <th>age_in_years</th>\n",
       "      <th>los_in_years</th>\n",
       "    </tr>\n",
       "  </thead>\n",
       "  <tbody>\n",
       "    <tr>\n",
       "      <th>0</th>\n",
       "      <td>100002</td>\n",
       "      <td>Software Engineering Manager</td>\n",
       "      <td>Management</td>\n",
       "      <td>Vice President</td>\n",
       "      <td>London</td>\n",
       "      <td>England</td>\n",
       "      <td>Male</td>\n",
       "      <td>1958-12-30</td>\n",
       "      <td>2013-04-28</td>\n",
       "      <td>118000</td>\n",
       "      <td>62.74</td>\n",
       "      <td>8.41</td>\n",
       "    </tr>\n",
       "    <tr>\n",
       "      <th>1</th>\n",
       "      <td>100003</td>\n",
       "      <td>IT Support</td>\n",
       "      <td>Technical (Jnr)</td>\n",
       "      <td>Associate</td>\n",
       "      <td>London</td>\n",
       "      <td>England</td>\n",
       "      <td>Female</td>\n",
       "      <td>1967-04-27</td>\n",
       "      <td>2020-01-27</td>\n",
       "      <td>48700</td>\n",
       "      <td>54.41</td>\n",
       "      <td>1.66</td>\n",
       "    </tr>\n",
       "  </tbody>\n",
       "</table>\n",
       "</div>"
      ],
      "text/plain": [
       "   employee_id                     job_title       job_family      corp_title  \\\n",
       "0       100002  Software Engineering Manager       Management  Vice President   \n",
       "1       100003                    IT Support  Technical (Jnr)       Associate   \n",
       "\n",
       "     city  country  gender date_of_birth start_date  salary  age_in_years  \\\n",
       "0  London  England    Male    1958-12-30 2013-04-28  118000         62.74   \n",
       "1  London  England  Female    1967-04-27 2020-01-27   48700         54.41   \n",
       "\n",
       "   los_in_years  \n",
       "0          8.41  \n",
       "1          1.66  "
      ]
     },
     "metadata": {},
     "execution_count": 9
    }
   ],
   "metadata": {}
  },
  {
   "cell_type": "markdown",
   "source": [
    "#### Remove Executives from Analysis"
   ],
   "metadata": {}
  },
  {
   "cell_type": "markdown",
   "source": [
    "The executives should be removed from the analysis since there is only 6 of them in the population and their salaries wildly skew the analysis. Any analysis undertaken on this population should be completed separately."
   ],
   "metadata": {}
  },
  {
   "cell_type": "code",
   "execution_count": 10,
   "source": [
    "# Verify number of executives\n",
    "num_execs = df['corp_title'].value_counts()['Managing Director']\n",
    "f\"{'Number of Executives:'} {num_execs}\""
   ],
   "outputs": [
    {
     "output_type": "execute_result",
     "data": {
      "text/plain": [
       "'Number of Executives: 6'"
      ]
     },
     "metadata": {},
     "execution_count": 10
    }
   ],
   "metadata": {}
  },
  {
   "cell_type": "code",
   "execution_count": 11,
   "source": [
    "sal = df.drop(index=df[df['corp_title'] == 'Managing Director'].index)"
   ],
   "outputs": [],
   "metadata": {}
  },
  {
   "cell_type": "markdown",
   "source": [
    "## Data Analysis\n",
    "Let's understand the data more by doing some provisional analysis."
   ],
   "metadata": {}
  },
  {
   "cell_type": "code",
   "execution_count": 12,
   "source": [
    "# Check the data columns and datatypes\n",
    "sal.info()"
   ],
   "outputs": [
    {
     "output_type": "stream",
     "name": "stdout",
     "text": [
      "<class 'pandas.core.frame.DataFrame'>\n",
      "Int64Index: 49994 entries, 0 to 49999\n",
      "Data columns (total 12 columns):\n",
      " #   Column         Non-Null Count  Dtype         \n",
      "---  ------         --------------  -----         \n",
      " 0   employee_id    49994 non-null  int64         \n",
      " 1   job_title      49994 non-null  object        \n",
      " 2   job_family     49994 non-null  object        \n",
      " 3   corp_title     49994 non-null  object        \n",
      " 4   city           49994 non-null  object        \n",
      " 5   country        49994 non-null  object        \n",
      " 6   gender         49994 non-null  object        \n",
      " 7   date_of_birth  49994 non-null  datetime64[ns]\n",
      " 8   start_date     49994 non-null  datetime64[ns]\n",
      " 9   salary         49994 non-null  int64         \n",
      " 10  age_in_years   49994 non-null  float64       \n",
      " 11  los_in_years   49994 non-null  float64       \n",
      "dtypes: datetime64[ns](2), float64(2), int64(2), object(6)\n",
      "memory usage: 5.0+ MB\n"
     ]
    }
   ],
   "metadata": {}
  },
  {
   "cell_type": "code",
   "execution_count": 13,
   "source": [
    "# Get the number of unique cities\n",
    "num_cities = sal['city'].nunique()\n",
    "f\"{'Number of Cities:'} {num_cities}\""
   ],
   "outputs": [
    {
     "output_type": "execute_result",
     "data": {
      "text/plain": [
       "'Number of Cities: 8'"
      ]
     },
     "metadata": {},
     "execution_count": 13
    }
   ],
   "metadata": {}
  },
  {
   "cell_type": "code",
   "execution_count": 14,
   "source": [
    "# Get an array object of each of the cities\n",
    "cities = sal['city'].unique()\n",
    "cities"
   ],
   "outputs": [
    {
     "output_type": "execute_result",
     "data": {
      "text/plain": [
       "array(['London', 'Birmingham', 'Swansea', 'Manchester', 'Glasgow',\n",
       "       'Cardiff', 'Cambridge', 'Edinburgh'], dtype=object)"
      ]
     },
     "metadata": {},
     "execution_count": 14
    }
   ],
   "metadata": {}
  },
  {
   "cell_type": "code",
   "execution_count": 15,
   "source": [
    "# Get the mean salary for each of the corporate titles (in a logical custom order)\n",
    "sal.groupby('corp_title').mean()['salary'].round(2).reindex(['Associate', 'Assistant Vice President', 'Vice President', 'Director', 'Managing Director'])"
   ],
   "outputs": [
    {
     "output_type": "execute_result",
     "data": {
      "text/plain": [
       "corp_title\n",
       "Associate                    32307.38\n",
       "Assistant Vice President     62988.41\n",
       "Vice President               99582.52\n",
       "Director                    119801.45\n",
       "Managing Director                 NaN\n",
       "Name: salary, dtype: float64"
      ]
     },
     "metadata": {},
     "execution_count": 15
    }
   ],
   "metadata": {}
  },
  {
   "cell_type": "markdown",
   "source": [
    "## Data Visualisations\n",
    "#### Salary Distribution - by Corporate Title"
   ],
   "metadata": {}
  },
  {
   "cell_type": "code",
   "execution_count": 16,
   "source": [
    "# Set up the box plot with the required logical ordering, size and removal of outliers\n",
    "sal_by_ct = sns.catplot(x='salary',\n",
    "                        y='corp_title',\n",
    "                        data=sal,\n",
    "                        kind='box',\n",
    "                        showfliers=False,\n",
    "                        height=3,\n",
    "                        aspect=13/3,\n",
    "                        palette='Blues_d',\n",
    "                        order=['Associate', 'Assistant Vice President',\n",
    "                               'Vice President', 'Director'])\n",
    "\n",
    "# Get the ticks from the x axis\n",
    "ticks = sal_by_ct.axes[0][0].get_xticks()\n",
    "\n",
    "# Change the formatting for each of the ticks\n",
    "xlabels = [f\"{'£'}{x/1000:,.0f}{'k'}\" for x in ticks]\n",
    "\n",
    "# Set the formatting for the ticks\n",
    "sal_by_ct.set_xticklabels(xlabels)\n",
    "\n",
    "# Adjust spacing and set the chart and axe's titles\n",
    "sal_by_ct.fig.subplots_adjust(top=0.9, bottom=0.2)\n",
    "sal_by_ct.fig.suptitle('Salary Distribution - by Corporate Title',\n",
    "                        fontsize=12, fontweight='bold')\n",
    "sal_by_ct.set(xlabel='', ylabel='')\n",
    "\n",
    "plt.show()"
   ],
   "outputs": [
    {
     "output_type": "display_data",
     "data": {
      "image/png": "[encoded data removed]",
      "text/plain": [
       "<Figure size 936x216 with 1 Axes>"
      ]
     },
     "metadata": {}
    }
   ],
   "metadata": {}
  },
  {
   "cell_type": "markdown",
   "source": [
    "#### Salary Distribution - by Location"
   ],
   "metadata": {}
  },
  {
   "cell_type": "code",
   "execution_count": 17,
   "source": [
    "# Set up the box plot with the required logical ordering, size and removal of outliers\n",
    "sal_by_ct = sns.catplot(x='salary',\n",
    "                        y='city',\n",
    "                        data=sal,\n",
    "                        kind='box',\n",
    "                        showfliers=False,\n",
    "                        height=5,\n",
    "                        aspect=13/6,\n",
    "                        palette='RdBu',\n",
    "                        order=['London', 'Birmingham', 'Manchester', 'Cambridge',                                       'Glasgow', 'Edinburgh', 'Cardiff', 'Swansea'])\n",
    "\n",
    "# Get the ticks from the x axis\n",
    "ticks = sal_by_ct.axes[0][0].get_xticks()\n",
    "\n",
    "# Change the formatting for each of the ticks\n",
    "xlabels = [f\"{'£'}{x/1000:,.0f}{'k'}\" for x in ticks]\n",
    "\n",
    "# Set the formatting for the ticks\n",
    "sal_by_ct.set_xticklabels(xlabels)\n",
    "\n",
    "# Adjust spacing and set the chart and axe's titles\n",
    "sal_by_ct.fig.subplots_adjust(top=0.9, bottom=0.2)\n",
    "sal_by_ct.fig.suptitle('Salary Distribution - by Location',\n",
    "                        fontsize=12, fontweight='bold')\n",
    "sal_by_ct.set(xlabel='', ylabel='')\n",
    "\n",
    "plt.show()"
   ],
   "outputs": [
    {
     "output_type": "display_data",
     "data": {
      "image/png": "[encoded data removed]",
      "text/plain": [
       "<Figure size 780x360 with 1 Axes>"
      ]
     },
     "metadata": {}
    }
   ],
   "metadata": {}
  },
  {
   "cell_type": "markdown",
   "source": [
    "#### Salary Distribution - by Job Family"
   ],
   "metadata": {}
  },
  {
   "cell_type": "code",
   "execution_count": 18,
   "source": [
    "# Set up the box plot with the required logical ordering, size and removal of outliers\n",
    "sal_by_ct = sns.catplot(x='salary',\n",
    "                        y='job_family',\n",
    "                        data=sal,\n",
    "                        kind='box',\n",
    "                        showfliers=True,\n",
    "                        height=5,\n",
    "                        aspect=13/6,\n",
    "                        palette='RdBu',\n",
    "                        order=['Administration', 'Technical (Jnr)', 'Sales',\n",
    "                               'Technical (Snr)', 'Finance',\n",
    "                               'Management', 'Director'])\n",
    "\n",
    "# Get the ticks from the x axis\n",
    "ticks = sal_by_ct.axes[0][0].get_xticks()\n",
    "\n",
    "# Change the formatting for each of the ticks\n",
    "xlabels = [f\"{'£'}{x/1000:,.0f}{'k'}\" for x in ticks]\n",
    "\n",
    "# Set the formatting for the ticks\n",
    "sal_by_ct.set_xticklabels(xlabels)\n",
    "\n",
    "# Adjust spacing and set the chart and axe's titles\n",
    "sal_by_ct.fig.subplots_adjust(top=0.9, bottom=0.2)\n",
    "sal_by_ct.fig.suptitle('Salary Distribution - by Job Family',\n",
    "                        fontsize=12, fontweight='bold')\n",
    "sal_by_ct.set(xlabel='', ylabel='')\n",
    "\n",
    "plt.show()"
   ],
   "outputs": [
    {
     "output_type": "display_data",
     "data": {
      "image/png": "[encoded data removed]",
      "text/plain": [
       "<Figure size 780x360 with 1 Axes>"
      ]
     },
     "metadata": {}
    }
   ],
   "metadata": {}
  },
  {
   "cell_type": "markdown",
   "source": [
    "#### Salary Distribution - by Gender"
   ],
   "metadata": {}
  },
  {
   "cell_type": "markdown",
   "source": [
    "Let's take a look at how the company is performing with regards to the gender pay gap and heacount by gender."
   ],
   "metadata": {}
  },
  {
   "cell_type": "markdown",
   "source": [
    "#### Headcount - by Gender"
   ],
   "metadata": {}
  },
  {
   "cell_type": "code",
   "execution_count": 19,
   "source": [
    "# Set custom colour scheme for the plot\n",
    "colours = [\"#FFCFDC\", \"#0652FF\"]\n",
    "sal['employee_id'].groupby(sal['gender']).count().plot(kind='pie',\n",
    "                                                       colors=colours,\n",
    "                                                       autopct='%.1f%%',\n",
    "                                                       labeldistance=0.4)\n",
    "# Set properties for the visual aspects of the pie chart\n",
    "plt.axis('equal')\n",
    "plt.ylabel('')\n",
    "plt.suptitle('Headcount Split - by Gender', fontsize=12, fontweight='bold')\n",
    "plt.rcParams['lines.linewidth'] = 1\n",
    "plt.rcParams['patch.edgecolor'] = 'black'\n",
    "\n",
    "plt.show()"
   ],
   "outputs": [
    {
     "output_type": "display_data",
     "data": {
      "image/png": "[encoded data removed]",
      "text/plain": [
       "<Figure size 432x288 with 1 Axes>"
      ]
     },
     "metadata": {}
    }
   ],
   "metadata": {}
  },
  {
   "cell_type": "code",
   "execution_count": 20,
   "source": [
    "# Set custom colour scheme for the plot\n",
    "colours = [\"#0652FF\", \"#FFCFDC\"]\n",
    "\n",
    "# Set up the box plot with the required logical ordering, size and removal of outliers\n",
    "sal_by_ct = sns.catplot(x='salary',\n",
    "                        y='gender',\n",
    "                        data=sal,\n",
    "                        kind='box',\n",
    "                        showfliers=False,\n",
    "                        height=2,\n",
    "                        aspect=33/5,\n",
    "                        palette=colours,\n",
    "                        order=['Male', 'Female'])\n",
    "\n",
    "# Get the ticks from the x axis\n",
    "ticks = sal_by_ct.axes[0][0].get_xticks()\n",
    "\n",
    "# Change the formatting for each of the ticks\n",
    "xlabels = [f\"{x/1000:,.0f}{'k'}\" for x in ticks]\n",
    "\n",
    "# Set the formatting for the ticks\n",
    "sal_by_ct.set_xticklabels(xlabels)\n",
    "\n",
    "# Adjust spacing and set the chart and axe's titles\n",
    "sal_by_ct.fig.subplots_adjust(top=0.8, bottom=0.2)\n",
    "sal_by_ct.fig.suptitle('Salary Distribution - by Gender',\n",
    "                        fontsize=12, fontweight='bold')\n",
    "\n",
    "# Clear the labels for the x and y axis\n",
    "sal_by_ct.set(xlabel='', ylabel='')\n",
    "\n",
    "plt.show()"
   ],
   "outputs": [
    {
     "output_type": "display_data",
     "data": {
      "image/png": "[encoded data removed]",
      "text/plain": [
       "<Figure size 950.4x144 with 1 Axes>"
      ]
     },
     "metadata": {}
    }
   ],
   "metadata": {}
  },
  {
   "cell_type": "markdown",
   "source": [
    "The analysis shows that with the outliers removed, there is still some progress to be made for the organisation to meet its gender pay gap objectives."
   ],
   "metadata": {}
  },
  {
   "cell_type": "markdown",
   "source": [
    "#### Headcount - by Age Band"
   ],
   "metadata": {}
  },
  {
   "cell_type": "code",
   "execution_count": 21,
   "source": [
    "# Define the bins\n",
    "bins = [0, 20, 30, 40, 50, 60, 70, 80]\n",
    "age_bins = pd.cut(sal['age_in_years'], bins=bins, include_lowest=True)\n",
    "\n",
    "\n",
    "colours = ['#2DA0FF', '#1E90FF', '#187DE9', '#126AD2', '#0C56BC', '#0643A5', '#00308F']\n",
    "\n",
    "# Set the bin's axe's properties\n",
    "ax = age_bins.value_counts(sort=False).plot.bar(rot=0,\n",
    "                                                figsize=(13, 4),\n",
    "                                                color=colours)\n",
    "\n",
    "# Set the tick labels for the x axis\n",
    "ax.set_xticklabels(\n",
    "    [\n",
    "        f\"{int(cat.left)} to {int(cat.right)}\".replace(\n",
    "            '0 to 20', '< 20'\n",
    "        ).replace('70 to 80', '> 70')\n",
    "        for cat in age_bins.cat.categories\n",
    "    ]\n",
    ")\n",
    "\n",
    "\n",
    "# Change the formatting for each of the ticks on the y axis\n",
    "ylabels = [f'{y / 1000:,.0f}k' for y in ticks]\n",
    "\n",
    "# Set the formatting for the ticks\n",
    "ax.set_yticklabels(ylabels)\n",
    "\n",
    "# Set the y axis' parameters\n",
    "ax.set_ylim([0, 12000])\n",
    "\n",
    "# Clear the labels for the x and y axis\n",
    "ax.set(xlabel='', ylabel='')\n",
    "\n",
    "# Set the title for the chart'\n",
    "plt.title(label='Headcount - by Age Band', fontweight='bold')\n",
    "\n",
    "plt.show()"
   ],
   "outputs": [
    {
     "output_type": "stream",
     "name": "stderr",
     "text": [
      "/var/folders/dj/bxjbdk0j79d9j5lll_4ljctw0000gn/T/ipykernel_73748/576057345.py:28: UserWarning: FixedFormatter should only be used together with FixedLocator\n",
      "  ax.set_yticklabels(ylabels)\n"
     ]
    },
    {
     "output_type": "display_data",
     "data": {
      "image/png": "[encoded data removed]",
      "text/plain": [
       "<Figure size 936x288 with 1 Axes>"
      ]
     },
     "metadata": {}
    }
   ],
   "metadata": {}
  }
 ]
}