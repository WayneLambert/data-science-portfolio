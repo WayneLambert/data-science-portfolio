{
  "cells": [
    {
      "cell_type": "markdown",
      "metadata": {},
      "source": [
        "# Referendum Results"
      ]
    },
    {
      "cell_type": "markdown",
      "metadata": {},
      "source": [
        "This notebook scrapes the voting results in the membership of the European Union on 23rd June, 2016. This is scraped from the BBC website"
      ]
    },
    {
      "cell_type": "code",
      "execution_count": 1,
      "metadata": {
        "tags": []
      },
      "outputs": [
        {
          "output_type": "stream",
          "name": "stdout",
          "text": "/usr/local/anaconda3/bin/python\n3.8.3 (default, Jul  2 2020, 11:26:31) \n[Clang 10.0.0 ]\nsys.version_info(major=3, minor=8, micro=3, releaselevel='final', serial=0)\n"
        }
      ],
      "source": [
        "# Check Python version for compatibility/reference\n",
        "import sys\n",
        "print(sys.executable)\n",
        "print(sys.version)\n",
        "print(sys.version_info)"
      ]
    },
    {
      "cell_type": "code",
      "execution_count": 2,
      "metadata": {},
      "outputs": [],
      "source": [
        "# Import requisite libraries for analysis\n",
        "from collections import defaultdict\n",
        "from decimal import Decimal\n",
        "import string\n",
        "import requests\n",
        "from bs4 import BeautifulSoup"
      ]
    },
    {
      "cell_type": "code",
      "execution_count": 3,
      "metadata": {},
      "outputs": [],
      "source": [
        "# Set a constant for the alphabet's letters\n",
        "ALPHABET = string.ascii_lowercase"
      ]
    },
    {
      "cell_type": "code",
      "execution_count": 4,
      "metadata": {},
      "outputs": [],
      "source": [
        "# Set the base url in readiness to append the letter\n",
        "BASE_URL = 'https://www.bbc.co.uk/news/politics/eu_referendum/results/local/'"
      ]
    },
    {
      "cell_type": "code",
      "execution_count": 5,
      "metadata": {},
      "outputs": [],
      "source": [
        "# Set initial variables and results dictionary\n",
        "results = defaultdict(list)\n",
        "leave_votes, remain_votes = 0, 0"
      ]
    },
    {
      "cell_type": "code",
      "execution_count": 6,
      "metadata": {
        "tags": []
      },
      "outputs": [
        {
          "output_type": "stream",
          "name": "stdout",
          "text": "URL: https://www.bbc.co.uk/news/politics/eu_referendum/results/local/a | Status Code: 200\nURL: https://www.bbc.co.uk/news/politics/eu_referendum/results/local/b | Status Code: 200\nURL: https://www.bbc.co.uk/news/politics/eu_referendum/results/local/c | Status Code: 200\nURL: https://www.bbc.co.uk/news/politics/eu_referendum/results/local/d | Status Code: 200\nURL: https://www.bbc.co.uk/news/politics/eu_referendum/results/local/e | Status Code: 200\nURL: https://www.bbc.co.uk/news/politics/eu_referendum/results/local/f | Status Code: 200\nURL: https://www.bbc.co.uk/news/politics/eu_referendum/results/local/g | Status Code: 200\nURL: https://www.bbc.co.uk/news/politics/eu_referendum/results/local/h | Status Code: 200\nURL: https://www.bbc.co.uk/news/politics/eu_referendum/results/local/i | Status Code: 200\nURL: https://www.bbc.co.uk/news/politics/eu_referendum/results/local/j | Status Code: 404\nURL: https://www.bbc.co.uk/news/politics/eu_referendum/results/local/k | Status Code: 200\nURL: https://www.bbc.co.uk/news/politics/eu_referendum/results/local/l | Status Code: 200\nURL: https://www.bbc.co.uk/news/politics/eu_referendum/results/local/m | Status Code: 200\nURL: https://www.bbc.co.uk/news/politics/eu_referendum/results/local/n | Status Code: 200\nURL: https://www.bbc.co.uk/news/politics/eu_referendum/results/local/o | Status Code: 200\nURL: https://www.bbc.co.uk/news/politics/eu_referendum/results/local/p | Status Code: 200\nURL: https://www.bbc.co.uk/news/politics/eu_referendum/results/local/q | Status Code: 404\nURL: https://www.bbc.co.uk/news/politics/eu_referendum/results/local/r | Status Code: 200\nURL: https://www.bbc.co.uk/news/politics/eu_referendum/results/local/s | Status Code: 200\nURL: https://www.bbc.co.uk/news/politics/eu_referendum/results/local/t | Status Code: 200\nURL: https://www.bbc.co.uk/news/politics/eu_referendum/results/local/u | Status Code: 200\nURL: https://www.bbc.co.uk/news/politics/eu_referendum/results/local/v | Status Code: 200\nURL: https://www.bbc.co.uk/news/politics/eu_referendum/results/local/w | Status Code: 200\nURL: https://www.bbc.co.uk/news/politics/eu_referendum/results/local/x | Status Code: 404\nURL: https://www.bbc.co.uk/news/politics/eu_referendum/results/local/y | Status Code: 200\nURL: https://www.bbc.co.uk/news/politics/eu_referendum/results/local/z | Status Code: 404\n"
        }
      ],
      "source": [
        "# Scrape content from each lettered page from the BBC website\n",
        "# Print the status code returned from each page for review\n",
        "for letter in ALPHABET:\n",
        "    page_response = requests.get(f\"{BASE_URL}{letter}\", timeout=5)\n",
        "    print(f\"{'URL:'} {BASE_URL}{letter}{' | Status Code: '}{page_response.status_code}\")\n",
        "    if page_response:\n",
        "        page_content = BeautifulSoup(page_response.content, \"html.parser\")\n",
        "        areas = page_content.find_all('div', attrs={'class': 'eu-ref-result-bar'})\n",
        "        for area in areas:\n",
        "            results['area_name'].append(area.find('h3').getText())\n",
        "            cleaned_leave_votes = int(area.find_all('div',\n",
        "                                    {'class': 'eu-ref-result-bar__votes'}\n",
        "                                    )[0].string.strip().split('\\n')[0].strip().replace(',', ''))\n",
        "            results['leave_votes'].append(cleaned_leave_votes)\n",
        "            cleaned_remain_votes = int(area.find_all('div',\n",
        "                                    {'class': 'eu-ref-result-bar__votes'}\n",
        "                                    )[1].string.strip().split('\\n')[0].strip().replace(',', ''))\n",
        "            results['remain_votes'].append(cleaned_remain_votes)\n",
        "            area_votes = cleaned_leave_votes + cleaned_remain_votes\n",
        "            results['area_votes'].append(area_votes)\n",
        "            results['leave_percent'].append(f\"{cleaned_leave_votes / area_votes:.1%}\")\n",
        "            results['remain_percent'].append(f\"{cleaned_remain_votes / area_votes:.1%}\")\n",
        "            results['turnout'].append(area.find(\n",
        "                'div', {'class': 'eu-ref-result-bar__turnout'})\n",
        "                .getText().replace('Turnout: ', '')\n",
        "            )\n",
        "            leave_votes = sum(Decimal(num) for num in results['leave_votes'])\n",
        "            remain_votes = sum(Decimal(num) for num in results['remain_votes'])\n",
        "    else:\n",
        "        continue"
      ]
    },
    {
      "cell_type": "code",
      "execution_count": 7,
      "metadata": {
        "tags": []
      },
      "outputs": [
        {
          "output_type": "stream",
          "name": "stdout",
          "text": "Leave votes: 17,410,742\nRemain votes: 16,141,241\n"
        }
      ],
      "source": [
        "# Print a totals summary for the number of leave and remain votes\n",
        "print(f\"Leave votes: {leave_votes:,}\\nRemain votes: {remain_votes:,}\")"
      ]
    },
    {
      "cell_type": "code",
      "execution_count": 8,
      "metadata": {},
      "outputs": [],
      "source": [
        "# Zip together the individual components of an area's result\n",
        "area_results = zip(\n",
        "    results['area_name'],\n",
        "    results['leave_votes'],\n",
        "    results['leave_percent'],\n",
        "    results['remain_votes'],\n",
        "    results['remain_percent'],\n",
        "    results['area_votes'],\n",
        "    results['turnout'],\n",
        ")"
      ]
    },
    {
      "cell_type": "code",
      "execution_count": 9,
      "metadata": {},
      "outputs": [],
      "source": [
        "# Print the results for each area\n",
        "results = []\n",
        "for area in area_results:\n",
        "    results.append(area)"
      ]
    },
    {
      "cell_type": "code",
      "execution_count": 10,
      "metadata": {},
      "outputs": [
        {
          "output_type": "execute_result",
          "data": {
            "text/plain": "[('Aberdeen City', 40729, '38.9%', 63985, '61.1%', 104714, '67.9%'),\n ('Aberdeenshire', 62516, '45.0%', 76445, '55.0%', 138961, '70.6%'),\n ('Adur', 20315, '54.6%', 16914, '45.4%', 37229, '76.4%'),\n ('Allerdale', 31809, '58.6%', 22429, '41.4%', 54238, '72.9%'),\n ('Amber Valley', 44501, '60.3%', 29319, '39.7%', 73820, '76.3%'),\n ('Angus', 26511, '44.7%', 32747, '55.3%', 59258, '68.0%'),\n ('Argyll & Bute', 19202, '39.4%', 29494, '60.6%', 48696, '73.1%'),\n ('Arun', 56936, '62.5%', 34193, '37.5%', 91129, '77.8%'),\n ('Ashfield', 46720, '69.8%', 20179, '30.2%', 66899, '72.8%'),\n ('Ashford', 41472, '59.4%', 28314, '40.6%', 69786, '77.1%'),\n ('Aylesbury Vale', 53956, '50.5%', 52877, '49.5%', 106833, '78.4%'),\n ('Babergh', 29933, '54.2%', 25309, '45.8%', 55242, '78.2%'),\n ('Barking & Dagenham', 46130, '62.4%', 27750, '37.6%', 73880, '63.8%'),\n ('Barnet', 60823, '37.8%', 100210, '62.2%', 161033, '72.1%'),\n ('Barnsley', 83958, '68.3%', 38951, '31.7%', 122909, '69.9%'),\n ('Barrow-in-Furness', 21867, '60.6%', 14207, '39.4%', 36074, '67.8%'),\n ('Basildon', 67251, '68.6%', 30748, '31.4%', 97999, '73.8%'),\n ('Basingstoke and Deane', 52071, '51.9%', 48257, '48.1%', 100328, '78.0%'),\n ('Bassetlaw', 43392, '67.8%', 20575, '32.2%', 63967, '74.8%'),\n ('Bath & North East Somerset',\n  44352,\n  '42.1%',\n  60878,\n  '57.9%',\n  105230,\n  '77.1%'),\n ('Bedford', 44569, '51.8%', 41497, '48.2%', 86066, '72.0%'),\n ('Belfast East', 21918, '51.4%', 20728, '48.6%', 42646, '66.5%'),\n ('Belfast North', 19844, '49.6%', 20128, '50.4%', 39972, '57.5%'),\n ('Belfast South', 13596, '30.5%', 30960, '69.5%', 44556, '67.6%'),\n ('Belfast West', 8092, '25.9%', 23099, '74.1%', 31191, '48.9%'),\n ('Bexley', 80886, '63.0%', 47603, '37.0%', 128489, '75.2%'),\n ('Birmingham', 227251, '50.4%', 223451, '49.6%', 450702, '63.7%'),\n ('Blaby', 33583, '59.5%', 22888, '40.5%', 56471, '76.5%'),\n ('Blackburn with Darwen', 36799, '56.3%', 28522, '43.7%', 65321, '65.2%'),\n ('Blackpool', 45146, '67.5%', 21781, '32.5%', 66927, '65.4%'),\n ('Blaenau Gwent', 21587, '62.0%', 13215, '38.0%', 34802, '68.1%'),\n ('Bolsover', 29730, '70.8%', 12242, '29.2%', 41972, '72.3%'),\n ('Bolton', 80491, '58.3%', 57589, '41.7%', 138080, '70.1%'),\n ('Boston', 22974, '75.6%', 7430, '24.4%', 30404, '77.2%'),\n ('Bournemouth', 50453, '54.9%', 41473, '45.1%', 91926, '69.2%'),\n ('Bracknell Forest', 35002, '53.9%', 29888, '46.1%', 64890, '76.1%'),\n ('Bradford', 123913, '54.2%', 104575, '45.8%', 228488, '66.7%'),\n ('Braintree', 52713, '61.1%', 33523, '38.9%', 86236, '76.6%'),\n ('Breckland', 47235, '64.2%', 26313, '35.8%', 73548, '74.3%'),\n ('Brent', 48881, '40.3%', 72523, '59.7%', 121404, '65.0%'),\n ('Brentwood', 27627, '59.2%', 19077, '40.8%', 46704, '79.5%'),\n ('Bridgend', 40622, '54.6%', 33723, '45.4%', 74345, '71.1%'),\n ('Brighton & Hove', 46027, '31.4%', 100648, '68.6%', 146675, '74.0%'),\n ('Bristol', 87418, '38.3%', 141027, '61.7%', 228445, '73.1%'),\n ('Broadland', 42268, '54.4%', 35469, '45.6%', 77737, '78.3%'),\n ('Bromley', 90034, '49.4%', 92398, '50.6%', 182432, '78.8%'),\n ('Bromsgrove', 32563, '55.4%', 26252, '44.6%', 58815, '79.3%'),\n ('Broxbourne', 33706, '66.3%', 17166, '33.7%', 50872, '73.7%'),\n ('Broxtowe', 35754, '54.6%', 29672, '45.4%', 65426, '78.3%'),\n ('Burnley', 28854, '66.6%', 14462, '33.4%', 43316, '67.2%'),\n ('Bury', 54674, '54.1%', 46354, '45.9%', 101028, '71.3%'),\n ('Caerphilly', 53295, '57.6%', 39178, '42.4%', 92473, '70.7%'),\n ('Calderdale', 58975, '55.7%', 46950, '44.3%', 105925, '71.0%'),\n ('Cambridge', 15117, '26.2%', 42682, '73.8%', 57799, '72.2%'),\n ('Camden', 23838, '25.1%', 71295, '74.9%', 95133, '65.4%'),\n ('Cannock Chase', 36894, '68.9%', 16684, '31.1%', 53578, '71.4%'),\n ('Canterbury', 41879, '51.0%', 40169, '49.0%', 82048, '75.0%'),\n ('Cardiff', 67816, '40.0%', 101788, '60.0%', 169604, '69.6%'),\n ('Carlisle', 35895, '60.1%', 23788, '39.9%', 59683, '74.5%'),\n ('Carmarthenshire', 55381, '53.7%', 47654, '46.3%', 103035, '74.0%'),\n ('Castle Point', 37691, '72.7%', 14154, '27.3%', 51845, '75.3%'),\n ('Central Bedfordshire', 89134, '56.1%', 69670, '43.9%', 158804, '77.8%'),\n ('Ceredigion', 18031, '45.4%', 21711, '54.6%', 39742, '74.4%'),\n ('Charnwood', 50672, '53.8%', 43500, '46.2%', 94172, '70.4%'),\n ('Chelmsford', 53249, '52.8%', 47545, '47.2%', 100794, '77.6%'),\n ('Cheltenham', 28932, '43.8%', 37081, '56.2%', 66013, '75.8%'),\n ('Cherwell', 41168, '50.3%', 40668, '49.7%', 81836, '75.5%'),\n ('Cheshire East', 113163, '51.2%', 107962, '48.8%', 221125, '77.3%'),\n ('Cheshire West and Chester',\n  98082,\n  '50.7%',\n  95455,\n  '49.3%',\n  193537,\n  '74.5%'),\n ('Chesterfield', 34478, '60.0%', 22946, '40.0%', 57424, '71.9%'),\n ('Chichester', 36326, '50.9%', 35011, '49.1%', 71337, '77.8%'),\n ('Chiltern', 26363, '45.0%', 32241, '55.0%', 58604, '83.5%'),\n ('Chorley', 36098, '56.8%', 27417, '43.2%', 63515, '75.5%'),\n ('Christchurch', 18268, '58.8%', 12782, '41.2%', 31050, '79.3%'),\n ('City of London', 1087, '24.7%', 3312, '75.3%', 4399, '73.5%'),\n ('Clackmannanshire', 10736, '42.2%', 14691, '57.8%', 25427, '67.2%'),\n ('Colchester', 51305, '53.6%', 44414, '46.4%', 95719, '75.1%'),\n ('Conwy', 35357, '54.0%', 30147, '46.0%', 65504, '71.7%'),\n ('Copeland', 23528, '62.0%', 14419, '38.0%', 37947, '70.0%'),\n ('Corby', 20611, '64.2%', 11470, '35.8%', 32081, '74.1%'),\n ('Cornwall', 182665, '56.5%', 140540, '43.5%', 323205, '77.0%'),\n ('Cotswold', 26806, '48.9%', 28015, '51.1%', 54821, '79.8%'),\n ('Coventry', 85097, '55.6%', 67967, '44.4%', 153064, '69.1%'),\n ('Craven', 18961, '52.8%', 16930, '47.2%', 35891, '81.0%'),\n ('Crawley', 31447, '58.4%', 22388, '41.6%', 53835, '73.2%'),\n ('Croydon', 78221, '45.7%', 92913, '54.3%', 171134, '69.8%'),\n ('Dacorum', 43702, '50.7%', 42542, '49.3%', 86244, '79.1%'),\n ('Darlington', 30994, '56.2%', 24172, '43.8%', 55166, '71.0%'),\n ('Dartford', 35870, '64.2%', 19985, '35.8%', 55855, '75.5%'),\n ('Daventry', 28938, '58.6%', 20443, '41.4%', 49381, '80.9%'),\n ('Denbighshire', 28117, '54.0%', 23955, '46.0%', 52072, '69.1%'),\n ('Derby', 69043, '57.2%', 51612, '42.8%', 120655, '70.5%'),\n ('Derbyshire Dales', 24095, '51.6%', 22633, '48.4%', 46728, '81.9%'),\n ('Doncaster', 104260, '69.0%', 46922, '31.0%', 151182, '69.5%'),\n ('Dover', 40410, '62.2%', 24606, '37.8%', 65016, '76.5%'),\n ('Dudley', 118446, '67.6%', 56780, '32.4%', 175226, '71.7%'),\n ('Dumfries & Galloway', 38803, '46.9%', 43864, '53.1%', 82667, '71.4%'),\n ('Dundee City', 26697, '40.2%', 39688, '59.8%', 66385, '62.9%'),\n ('Durham', 153877, '57.5%', 113521, '42.5%', 267398, '68.7%'),\n ('Ealing', 59017, '39.6%', 90024, '60.4%', 149041, '70.0%'),\n ('East Antrim', 22929, '55.2%', 18616, '44.8%', 41545, '65.2%'),\n ('East Ayrshire', 23942, '41.4%', 33891, '58.6%', 57833, '62.9%'),\n ('East Cambridgeshire', 24487, '50.9%', 23599, '49.1%', 48086, '77.0%'),\n ('East Devon', 48040, '54.1%', 40743, '45.9%', 88783, '78.9%'),\n ('East Dorset', 33702, '57.6%', 24786, '42.4%', 58488, '81.3%'),\n ('East Dunbartonshire', 17840, '28.6%', 44534, '71.4%', 62374, '75.1%'),\n ('East Hampshire', 36576, '49.5%', 37346, '50.5%', 73922, '81.6%'),\n ('East Hertfordshire', 42994, '50.4%', 42372, '49.6%', 85366, '80.3%'),\n ('East Lindsey', 56613, '70.7%', 23515, '29.3%', 80128, '74.9%'),\n ('East Londonderry', 19455, '48.0%', 21098, '52.0%', 40553, '59.9%'),\n ('East Lothian', 19738, '35.4%', 36026, '64.6%', 55764, '71.7%'),\n ('East Northamptonshire', 30894, '58.8%', 21680, '41.2%', 52574, '76.9%'),\n ('East Renfrewshire', 13596, '25.7%', 39345, '74.3%', 52941, '76.1%'),\n ('East Riding of Yorkshire',\n  120136,\n  '60.4%',\n  78779,\n  '39.6%',\n  198915,\n  '74.8%'),\n ('East Staffordshire', 39266, '63.2%', 22850, '36.8%', 62116, '74.3%'),\n ('Eastbourne', 30700, '57.3%', 22845, '42.7%', 53545, '74.7%'),\n ('Eastleigh', 39902, '52.5%', 36172, '47.5%', 76074, '78.2%'),\n ('Eden', 16911, '53.3%', 14807, '46.7%', 31718, '75.7%'),\n ('Edinburgh, City of', 64498, '25.6%', 187796, '74.4%', 252294, '72.9%'),\n ('Eilean Siar', 6671, '44.8%', 8232, '55.2%', 14903, '70.1%'),\n ('Elmbridge', 31162, '40.5%', 45841, '59.5%', 77003, '78.1%'),\n ('Enfield', 60481, '44.2%', 76425, '55.8%', 136906, '69.0%'),\n ('Epping Forest', 48176, '62.7%', 28676, '37.3%', 76852, '76.8%'),\n ('Epsom and Ewell', 21707, '47.9%', 23596, '52.1%', 45303, '80.4%'),\n ('Erewash', 40739, '61.2%', 25791, '38.8%', 66530, '76.0%'),\n ('Exeter', 28533, '44.7%', 35270, '55.3%', 63803, '73.8%'),\n ('Falkirk', 34271, '43.2%', 44987, '56.8%', 79258, '67.5%'),\n ('Fareham', 39525, '55.1%', 32210, '44.9%', 71735, '79.6%'),\n ('Fenland', 37571, '71.4%', 15055, '28.6%', 52626, '73.7%'),\n ('Fermanagh & South Tyrone', 19958, '41.4%', 28200, '58.6%', 48158, '67.9%'),\n ('Fife', 75466, '41.4%', 106754, '58.6%', 182220, '66.7%'),\n ('Flintshire', 48930, '56.4%', 37867, '43.6%', 86797, '74.8%'),\n ('Forest Heath', 18160, '65.0%', 9791, '35.0%', 27951, '72.5%'),\n ('Forest of Dean', 30251, '58.6%', 21392, '41.4%', 51643, '77.4%'),\n ('Foyle', 8905, '21.7%', 32064, '78.3%', 40969, '57.4%'),\n ('Fylde', 26317, '57.0%', 19889, '43.0%', 46206, '75.5%'),\n ('Gateshead', 58529, '56.8%', 44429, '43.2%', 102958, '70.6%'),\n ('Gedling', 37542, '55.6%', 30035, '44.4%', 67577, '76.5%'),\n ('Gibraltar', 823, '4.1%', 19322, '95.9%', 20145, '83.5%'),\n ('Glasgow City', 84474, '33.4%', 168335, '66.6%', 252809, '56.2%'),\n ('Gloucester', 37776, '58.5%', 26801, '41.5%', 64577, '72.0%'),\n ('Gosport', 29456, '63.9%', 16671, '36.1%', 46127, '73.5%'),\n ('Gravesham', 35643, '65.4%', 18876, '34.6%', 54519, '74.9%'),\n ('Great Yarmouth', 35844, '71.5%', 14284, '28.5%', 50128, '69.0%'),\n ('Greenwich', 52117, '44.4%', 65248, '55.6%', 117365, '69.5%'),\n ('Guildford', 34458, '43.8%', 44155, '56.2%', 78613, '76.9%'),\n ('Gwynedd', 25665, '41.9%', 35517, '58.1%', 61182, '72.3%'),\n ('Hackney', 22868, '21.5%', 83398, '78.5%', 106266, '65.1%'),\n ('Halton', 37327, '57.4%', 27678, '42.6%', 65005, '68.2%'),\n ('Hambleton', 29502, '53.7%', 25480, '46.3%', 54982, '78.4%'),\n ('Hammersmith & Fulham', 24054, '30.0%', 56188, '70.0%', 80242, '69.9%'),\n ('Harborough', 27850, '50.7%', 27028, '49.3%', 54878, '81.4%'),\n ('Haringey', 25855, '24.4%', 79991, '75.6%', 105846, '70.5%'),\n ('Harlow', 29602, '68.1%', 13867, '31.9%', 43469, '73.5%'),\n ('Harrogate', 46374, '49.0%', 48211, '51.0%', 94585, '78.8%'),\n ('Harrow', 53183, '45.4%', 64042, '54.6%', 117225, '72.2%'),\n ('Hart', 27513, '47.6%', 30282, '52.4%', 57795, '82.6%'),\n ('Hartlepool', 32071, '69.6%', 14029, '30.4%', 46100, '65.5%'),\n ('Hastings', 24339, '54.9%', 20011, '45.1%', 44350, '71.6%'),\n ('Havant', 44047, '62.4%', 26582, '37.6%', 70629, '74.1%'),\n ('Havering', 96885, '69.7%', 42201, '30.3%', 139086, '76.0%'),\n ('Herefordshire', 64122, '59.2%', 44148, '40.8%', 108270, '78.3%'),\n ('Hertsmere', 28532, '50.8%', 27593, '49.2%', 56125, '76.6%'),\n ('High Peak', 27717, '50.5%', 27116, '49.5%', 54833, '75.6%'),\n ('Highland', 55349, '44.0%', 70308, '56.0%', 125657, '71.6%'),\n ('Hillingdon', 74982, '56.4%', 58040, '43.6%', 133022, '68.9%'),\n ('Hinckley & Bosworth', 39501, '60.3%', 25969, '39.7%', 65470, '76.7%'),\n ('Horsham', 41303, '48.5%', 43785, '51.5%', 85088, '81.6%'),\n ('Hounslow', 56321, '48.9%', 58755, '51.1%', 115076, '69.7%'),\n ('Huntingdonshire', 54198, '54.2%', 45729, '45.8%', 99927, '77.8%'),\n ('Hyndburn', 26568, '66.2%', 13569, '33.8%', 40137, '64.7%'),\n ('Inverclyde', 14010, '36.2%', 24688, '63.8%', 38698, '66.0%'),\n ('Ipswich', 38655, '58.3%', 27698, '41.7%', 66353, '72.5%'),\n ('Isle of Anglesey', 19333, '50.9%', 18618, '49.1%', 37951, '73.8%'),\n ('Isle of Wight', 49173, '61.9%', 30207, '38.1%', 79380, '72.3%'),\n ('Isles of Scilly', 621, '43.6%', 803, '56.4%', 1424, '79.2%'),\n ('Islington', 25180, '24.8%', 76420, '75.2%', 101600, '70.3%'),\n ('Kensington and Chelsea', 17138, '31.3%', 37601, '68.7%', 54739, '65.9%'),\n ('Kettering', 32877, '61.0%', 21030, '39.0%', 53907, '76.4%'),\n (\"King's Lynn & West Norfolk\",\n  56493,\n  '66.4%',\n  28587,\n  '33.6%',\n  85080,\n  '74.7%'),\n ('Kingston upon Hull', 76646, '67.6%', 36709, '32.4%', 113355, '62.9%'),\n ('Kingston upon Thames', 32737, '38.4%', 52533, '61.6%', 85270, '78.3%'),\n ('Kirklees', 118755, '54.7%', 98485, '45.3%', 217240, '70.7%'),\n ('Knowsley', 36558, '51.6%', 34345, '48.4%', 70903, '63.5%'),\n ('Lagan Valley', 25704, '53.1%', 22710, '46.9%', 48414, '66.6%'),\n ('Lambeth', 30340, '21.4%', 111584, '78.6%', 141924, '67.3%'),\n ('Lancaster', 37309, '51.1%', 35732, '48.9%', 73041, '72.6%'),\n ('Leeds', 192474, '49.7%', 194863, '50.3%', 387337, '71.3%'),\n ('Leicester', 67992, '48.9%', 70980, '51.1%', 138972, '65.0%'),\n ('Lewes', 28508, '47.9%', 30974, '52.1%', 59482, '77.8%'),\n ('Lewisham', 37518, '30.1%', 86955, '69.9%', 124473, '63.0%'),\n ('Lichfield', 37214, '58.8%', 26064, '41.2%', 63278, '78.7%'),\n ('Lincoln', 24992, '56.9%', 18902, '43.1%', 43894, '69.3%'),\n ('Liverpool', 85101, '41.8%', 118453, '58.2%', 203554, '64.0%'),\n ('Luton', 47773, '56.5%', 36708, '43.5%', 84481, '66.2%'),\n ('Maidstone', 52365, '58.8%', 36762, '41.2%', 89127, '76.0%'),\n ('Maldon', 24302, '62.6%', 14529, '37.4%', 38831, '79.1%'),\n ('Malvern Hills', 25294, '52.2%', 23203, '47.8%', 48497, '80.5%'),\n ('Manchester', 79991, '39.6%', 121823, '60.4%', 201814, '59.7%'),\n ('Mansfield', 39927, '70.9%', 16417, '29.1%', 56344, '72.6%'),\n ('Medway', 88997, '64.1%', 49889, '35.9%', 138886, '72.1%'),\n ('Melton', 17610, '58.1%', 12695, '41.9%', 30305, '81.3%'),\n ('Mendip', 32028, '48.9%', 33427, '51.1%', 65455, '76.9%'),\n ('Merthyr Tydfil', 16291, '56.4%', 12574, '43.6%', 28865, '67.4%'),\n ('Merton', 37097, '37.1%', 63003, '62.9%', 100100, '73.4%'),\n ('Mid Devon', 25606, '53.3%', 22400, '46.7%', 48006, '79.3%'),\n ('Mid Suffolk', 33794, '55.2%', 27391, '44.8%', 61185, '78.1%'),\n ('Mid Sussex', 41057, '46.9%', 46471, '53.1%', 87528, '80.7%'),\n ('Mid Ulster', 16799, '39.6%', 25612, '60.4%', 42411, '61.7%'),\n ('Middlesbrough', 40177, '65.5%', 21181, '34.5%', 61358, '64.9%'),\n ('Midlothian', 17251, '37.9%', 28217, '62.1%', 45468, '68.1%'),\n ('Milton Keynes', 67063, '51.4%', 63393, '48.6%', 130456, '73.6%'),\n ('Mole Valley', 25708, '46.9%', 29088, '53.1%', 54796, '82.1%'),\n ('Monmouthshire', 27569, '49.6%', 28061, '50.4%', 55630, '77.7%'),\n ('Moray', 23992, '49.9%', 24114, '50.1%', 48106, '67.4%'),\n ('Neath Port Talbot', 43001, '56.8%', 32651, '43.2%', 75652, '71.5%'),\n ('New Forest', 64541, '57.8%', 47199, '42.2%', 111740, '79.2%'),\n ('Newark and Sherwood', 40516, '60.4%', 26571, '39.6%', 67087, '76.8%'),\n ('Newcastle upon Tyne', 63598, '49.3%', 65405, '50.7%', 129003, '67.6%'),\n ('Newcastle-under-Lyme', 43457, '63.0%', 25477, '37.0%', 68934, '74.3%'),\n ('Newham', 49371, '47.2%', 55328, '52.8%', 104699, '59.2%'),\n ('Newport', 41236, '56.0%', 32413, '44.0%', 73649, '70.2%'),\n ('Newry & Armagh', 18659, '36.9%', 31963, '63.1%', 50622, '63.7%'),\n ('North Antrim', 30938, '62.2%', 18782, '37.8%', 49720, '64.9%'),\n ('North Ayrshire', 29110, '43.1%', 38394, '56.9%', 67504, '64.6%'),\n ('North Devon', 33100, '57.0%', 24931, '43.0%', 58031, '76.8%'),\n ('North Dorset', 23802, '56.4%', 18399, '43.6%', 42201, '79.7%'),\n ('North Down', 21046, '47.6%', 23131, '52.4%', 44177, '67.7%'),\n ('North East Derbyshire', 37235, '62.8%', 22075, '37.2%', 59310, '75.2%'),\n ('North East Lincolnshire', 55185, '69.9%', 23797, '30.1%', 78982, '67.9%'),\n ('North Hertfordshire', 35438, '45.6%', 42234, '54.4%', 77672, '78.2%'),\n ('North Kesteven', 42183, '62.3%', 25570, '37.7%', 67753, '78.4%'),\n ('North Lanarkshire', 59400, '38.3%', 95549, '61.7%', 154949, '60.9%'),\n ('North Lincolnshire', 58915, '66.3%', 29947, '33.7%', 88862, '71.9%'),\n ('North Norfolk', 37576, '58.9%', 26214, '41.1%', 63790, '76.8%'),\n ('North Somerset', 64976, '52.2%', 59572, '47.8%', 124548, '77.4%'),\n ('North Tyneside', 60589, '53.4%', 52873, '46.6%', 113462, '72.3%'),\n ('North Warwickshire', 25385, '66.9%', 12569, '33.1%', 37954, '76.2%'),\n ('North West Leicestershire', 34969, '60.7%', 22642, '39.3%', 57611, '77.9%'),\n ('Northampton', 61454, '58.4%', 43805, '41.6%', 105259, '72.6%'),\n ('Northumberland', 96699, '54.1%', 82022, '45.9%', 178721, '74.3%'),\n ('Norwich', 29040, '43.8%', 37326, '56.2%', 66366, '69.1%'),\n ('Nottingham', 61343, '50.8%', 59318, '49.2%', 120661, '61.8%'),\n ('Nuneaton and Bedworth', 46095, '66.0%', 23736, '34.0%', 69831, '74.3%'),\n ('Oadby & Wigston', 17173, '54.6%', 14292, '45.4%', 31465, '73.7%'),\n ('Oldham', 65369, '60.9%', 42034, '39.1%', 107403, '67.9%'),\n ('Orkney Islands', 4193, '36.8%', 7189, '63.2%', 11382, '68.3%'),\n ('Oxford', 20913, '29.7%', 49424, '70.3%', 70337, '72.3%'),\n ('Pembrokeshire', 39155, '57.1%', 29367, '42.9%', 68522, '74.4%'),\n ('Pendle', 28631, '63.2%', 16704, '36.8%', 45335, '70.2%'),\n ('Perth and Kinross', 31614, '38.9%', 49641, '61.1%', 81255, '73.7%'),\n ('Peterborough', 53216, '60.9%', 34176, '39.1%', 87392, '72.3%'),\n ('Plymouth', 79997, '59.9%', 53458, '40.1%', 133455, '71.4%'),\n ('Poole', 49707, '58.2%', 35741, '41.8%', 85448, '75.3%'),\n ('Portsmouth', 57336, '58.1%', 41384, '41.9%', 98720, '70.3%'),\n ('Powys', 42707, '53.7%', 36762, '46.3%', 79469, '77.0%'),\n ('Preston', 34518, '53.3%', 30227, '46.7%', 64745, '68.7%'),\n ('Purbeck', 16966, '59.1%', 11754, '40.9%', 28720, '78.9%'),\n ('Reading', 31382, '42.0%', 43385, '58.0%', 74767, '72.5%'),\n ('Redbridge', 59020, '46.0%', 69213, '54.0%', 128233, '67.5%'),\n ('Redcar & Cleveland', 48128, '66.2%', 24586, '33.8%', 72714, '70.2%'),\n ('Redditch', 28579, '62.3%', 17303, '37.7%', 45882, '75.2%'),\n ('Reigate & Banstead', 40980, '50.5%', 40181, '49.5%', 81161, '78.2%'),\n ('Renfrewshire', 31010, '35.2%', 57119, '64.8%', 88129, '69.2%'),\n ('Rhondda Cynon Taf', 62590, '53.7%', 53973, '46.3%', 116563, '67.4%'),\n ('Ribble Valley', 20550, '56.4%', 15892, '43.6%', 36442, '79.0%'),\n ('Richmond upon Thames', 33410, '30.7%', 75396, '69.3%', 108806, '82.0%'),\n ('Richmondshire', 15691, '56.8%', 11945, '43.2%', 27636, '75.1%'),\n ('Rochdale', 62014, '60.1%', 41217, '39.9%', 103231, '65.9%'),\n ('Rochford', 34937, '66.6%', 17510, '33.4%', 52447, '78.8%'),\n ('Rossendale', 23169, '60.7%', 15012, '39.3%', 38181, '72.4%'),\n ('Rother', 33753, '58.5%', 23916, '41.5%', 57669, '79.3%'),\n ('Rotherham', 93272, '67.9%', 44115, '32.1%', 137387, '69.5%'),\n ('Royal Borough of Windsor and Maidenhead',\n  37706,\n  '46.1%',\n  44086,\n  '53.9%',\n  81792,\n  '79.7%'),\n ('Rugby', 33199, '56.7%', 25350, '43.3%', 58549, '79.0%'),\n ('Runnymede', 24035, '54.3%', 20259, '45.7%', 44294, '76.0%'),\n ('Rushcliffe', 29888, '42.4%', 40522, '57.6%', 70410, '81.5%'),\n ('Rushmoor', 28396, '58.2%', 20384, '41.8%', 48780, '74.1%'),\n ('Rutland', 11613, '50.6%', 11353, '49.4%', 22966, '78.1%'),\n ('Ryedale', 17710, '55.3%', 14340, '44.7%', 32050, '77.2%'),\n ('Salford', 62385, '56.8%', 47430, '43.2%', 109815, '63.2%'),\n ('Sandwell', 98250, '66.7%', 49004, '33.3%', 147254, '66.5%'),\n ('Scarborough', 37512, '62.0%', 22999, '38.0%', 60511, '73.0%'),\n ('Scottish Borders', 26962, '41.5%', 37952, '58.5%', 64914, '73.4%'),\n ('Sedgemoor', 41869, '61.2%', 26545, '38.8%', 68414, '76.3%'),\n ('Sefton', 71176, '48.1%', 76702, '51.9%', 147878, '71.7%'),\n ('Selby', 30532, '59.2%', 21071, '40.8%', 51603, '79.1%'),\n ('Sevenoaks', 38258, '54.4%', 32091, '45.6%', 70349, '80.6%'),\n ('Sheffield', 136018, '51.0%', 130735, '49.0%', 266753, '67.3%'),\n ('Shepway', 37729, '62.2%', 22884, '37.8%', 60613, '74.9%'),\n ('Shetland Islands', 5315, '43.5%', 6907, '56.5%', 12222, '70.3%'),\n ('Shropshire', 104166, '56.9%', 78987, '43.1%', 183153, '77.3%'),\n ('Slough', 29631, '54.3%', 24911, '45.7%', 54542, '62.1%'),\n ('Solihull', 68484, '56.2%', 53466, '43.8%', 121950, '76.0%'),\n ('South Antrim', 22055, '50.6%', 21498, '49.4%', 43553, '63.4%'),\n ('South Ayrshire', 25241, '41.0%', 36265, '59.0%', 61506, '69.8%'),\n ('South Bucks', 20647, '50.7%', 20077, '49.3%', 40724, '78.0%'),\n ('South Cambridgeshire', 37061, '39.8%', 56128, '60.2%', 93189, '81.2%'),\n ('South Derbyshire', 34216, '60.4%', 22479, '39.6%', 56695, '76.8%'),\n ('South Down', 15625, '32.8%', 32076, '67.2%', 47701, '62.4%'),\n ('South Gloucestershire', 83405, '52.7%', 74928, '47.3%', 158333, '76.2%'),\n ('South Hams', 26142, '47.1%', 29308, '52.9%', 55450, '80.2%'),\n ('South Holland', 36423, '73.6%', 13074, '26.4%', 49497, '75.3%'),\n ('South Kesteven', 49424, '59.9%', 33047, '40.1%', 82471, '78.2%'),\n ('South Lakeland', 30800, '47.1%', 34531, '52.9%', 65331, '79.7%'),\n ('South Lanarkshire', 60024, '36.9%', 102568, '63.1%', 162592, '65.3%'),\n ('South Norfolk', 41541, '51.7%', 38817, '48.3%', 80358, '78.5%'),\n ('South Northamptonshire', 30771, '54.3%', 25853, '45.7%', 56624, '79.4%'),\n ('South Oxfordshire', 37865, '45.0%', 46245, '55.0%', 84110, '80.7%'),\n ('South Ribble', 37318, '58.6%', 26406, '41.4%', 63724, '75.3%'),\n ('South Somerset', 56940, '57.2%', 42527, '42.8%', 99467, '78.6%'),\n ('South Staffordshire', 43248, '64.8%', 23444, '35.2%', 66692, '77.8%'),\n ('South Tyneside', 49065, '62.0%', 30014, '38.0%', 79079, '68.2%'),\n ('Southampton', 57927, '53.8%', 49738, '46.2%', 107665, '68.1%'),\n ('Southend-on-Sea', 54522, '58.1%', 39348, '41.9%', 93870, '72.8%'),\n ('Southwark', 35209, '27.2%', 94293, '72.8%', 129502, '66.1%'),\n ('Spelthorne', 34135, '60.3%', 22474, '39.7%', 56609, '77.9%'),\n ('St Albans', 32237, '37.3%', 54208, '62.7%', 86445, '82.4%'),\n ('St Edmundsbury', 35224, '56.6%', 26986, '43.4%', 62210, '76.7%'),\n ('St Helens', 54357, '58.0%', 39322, '42.0%', 93679, '68.8%'),\n ('Stafford', 43386, '56.0%', 34098, '44.0%', 77484, '77.8%'),\n ('Staffordshire Moorlands', 38684, '64.7%', 21076, '35.3%', 59760, '75.3%'),\n ('Stevenage', 27126, '59.2%', 18659, '40.8%', 45785, '73.7%'),\n ('Stirling', 15787, '32.3%', 33112, '67.7%', 48899, '74.0%'),\n ('Stockport', 77930, '47.7%', 85559, '52.3%', 163489, '73.9%'),\n ('Stockton-on-Tees', 61982, '61.7%', 38433, '38.3%', 100415, '71.0%'),\n ('Stoke-on-Trent', 81563, '69.4%', 36027, '30.6%', 117590, '65.7%'),\n ('Strangford', 23383, '55.5%', 18727, '44.5%', 42110, '64.5%'),\n ('Stratford-on-Avon', 40817, '51.6%', 38341, '48.4%', 79158, '80.8%'),\n ('Stroud', 33618, '45.4%', 40446, '54.6%', 74064, '80.0%'),\n ('Suffolk Coastal', 41966, '53.0%', 37218, '47.0%', 79184, '80.6%'),\n ('Sunderland', 82394, '61.3%', 51930, '38.7%', 134324, '64.8%'),\n ('Surrey Heath', 26667, '51.0%', 25638, '49.0%', 52305, '79.8%'),\n ('Sutton', 57241, '53.7%', 49319, '46.3%', 106560, '76.0%'),\n ('Swale', 47388, '62.5%', 28481, '37.5%', 75869, '74.2%'),\n ('Swansea', 61936, '51.5%', 58307, '48.5%', 120243, '69.5%'),\n ('Swindon', 61745, '54.7%', 51220, '45.3%', 112965, '75.8%'),\n ('Tameside', 67829, '61.1%', 43118, '38.9%', 110947, '66.0%'),\n ('Tamworth', 28424, '67.5%', 13705, '32.5%', 42129, '74.1%'),\n ('Tandridge', 27169, '52.8%', 24251, '47.2%', 51420, '80.3%'),\n ('Taunton Deane', 34789, '52.9%', 30944, '47.1%', 65733, '78.1%'),\n ('Teignbridge', 44363, '53.9%', 37949, '46.1%', 82312, '79.3%'),\n ('Telford & Wrekin', 56649, '63.2%', 32954, '36.8%', 89603, '72.1%'),\n ('Tendring', 57447, '69.5%', 25210, '30.5%', 82657, '74.4%'),\n ('Test Valley', 39091, '51.9%', 36170, '48.1%', 75261, '79.6%'),\n ('Tewkesbury', 28568, '53.2%', 25084, '46.8%', 53652, '79.1%'),\n ('Thanet', 46037, '63.8%', 26065, '36.2%', 72102, '72.8%'),\n ('The Vale of Glamorgan', 35628, '49.3%', 36681, '50.7%', 72309, '76.1%'),\n ('Three Rivers', 27097, '51.3%', 25751, '48.7%', 52848, '78.4%'),\n ('Thurrock', 57765, '72.3%', 22151, '27.7%', 79916, '72.7%'),\n ('Tonbridge & Malling', 41229, '55.7%', 32792, '44.3%', 74021, '79.6%'),\n ('Torbay', 47889, '63.2%', 27935, '36.8%', 75824, '73.6%'),\n ('Torfaen', 28781, '59.8%', 19363, '40.2%', 48144, '69.8%'),\n ('Torridge', 25200, '60.8%', 16229, '39.2%', 41429, '78.3%'),\n ('Tower Hamlets', 35224, '32.5%', 73011, '67.5%', 108235, '64.5%'),\n ('Trafford', 53018, '42.3%', 72293, '57.7%', 125311, '75.8%'),\n ('Tunbridge Wells', 29320, '45.1%', 35676, '54.9%', 64996, '79.1%'),\n ('Upper Bann', 27262, '52.6%', 24550, '47.4%', 51812, '63.8%'),\n ('Uttlesford', 26324, '50.7%', 25619, '49.3%', 51943, '80.2%'),\n ('Vale of White Horse', 33192, '43.3%', 43462, '56.7%', 76654, '81.1%'),\n ('Wakefield', 116165, '66.4%', 58877, '33.6%', 175042, '71.1%'),\n ('Walsall', 92007, '67.9%', 43572, '32.1%', 135579, '69.6%'),\n ('Waltham Forest', 44395, '40.9%', 64156, '59.1%', 108551, '66.6%'),\n ('Wandsworth', 39421, '25.0%', 118463, '75.0%', 157884, '71.9%'),\n ('Warrington', 62487, '54.3%', 52657, '45.7%', 115144, '73.3%'),\n ('Warwick', 33642, '41.2%', 47976, '58.8%', 81618, '79.2%'),\n ('Watford', 23419, '50.3%', 23167, '49.7%', 46586, '71.6%'),\n ('Waveney', 41290, '62.9%', 24356, '37.1%', 65646, '72.6%'),\n ('Waverley', 31601, '41.6%', 44341, '58.4%', 75942, '82.3%'),\n ('Wealden', 52808, '54.5%', 44084, '45.5%', 96892, '80.0%'),\n ('Wellingborough', 25679, '62.4%', 15462, '37.6%', 41141, '75.4%'),\n ('Welwyn Hatfield', 31060, '53.0%', 27550, '47.0%', 58610, '75.0%'),\n ('West Berkshire', 44977, '48.2%', 48300, '51.8%', 93277, '79.9%'),\n ('West Devon', 18937, '53.2%', 16658, '46.8%', 35595, '81.2%'),\n ('West Dorset', 33267, '51.0%', 31924, '49.0%', 65191, '79.4%'),\n ('West Dunbartonshire', 16426, '38.0%', 26794, '62.0%', 43220, '63.9%'),\n ('West Lancashire', 35323, '55.3%', 28546, '44.7%', 63869, '74.4%'),\n ('West Lindsey', 33847, '61.8%', 20906, '38.2%', 54753, '74.5%'),\n ('West Lothian', 36948, '41.7%', 51560, '58.3%', 88508, '67.6%'),\n ('West Oxfordshire', 30435, '46.3%', 35236, '53.7%', 65671, '79.7%'),\n ('West Somerset', 13168, '60.6%', 8566, '39.4%', 21734, '79.1%'),\n ('West Tyrone', 13274, '33.2%', 26765, '66.8%', 40039, '61.8%'),\n ('Westminster', 24268, '31.0%', 53928, '69.0%', 78196, '64.9%'),\n ('Weymouth and Portland', 23352, '61.0%', 14903, '39.0%', 38255, '75.8%'),\n ('Wigan', 104331, '63.9%', 58942, '36.1%', 163273, '69.2%'),\n ('Wiltshire', 151637, '52.5%', 137258, '47.5%', 288895, '78.8%'),\n ('Winchester', 29886, '41.1%', 42878, '58.9%', 72764, '81.2%'),\n ('Wirral', 83069, '48.3%', 88931, '51.7%', 172000, '70.9%'),\n ('Woking', 24214, '43.8%', 31007, '56.2%', 55221, '77.4%'),\n ('Wokingham', 42229, '43.3%', 55272, '56.7%', 97501, '80.0%'),\n ('Wolverhampton', 73798, '62.6%', 44138, '37.4%', 117936, '67.5%'),\n ('Worcester', 29114, '53.7%', 25125, '46.3%', 54239, '73.8%'),\n ('Worthing', 32515, '53.0%', 28851, '47.0%', 61366, '75.4%'),\n ('Wrexham', 41544, '59.0%', 28822, '41.0%', 70366, '71.5%'),\n ('Wychavon', 44201, '57.9%', 32188, '42.1%', 76389, '80.8%'),\n ('Wycombe', 45529, '48.0%', 49261, '52.0%', 94790, '75.7%'),\n ('Wyre', 40163, '63.8%', 22816, '36.2%', 62979, '74.6%'),\n ('Wyre Forest', 36392, '63.1%', 21240, '36.9%', 57632, '74.0%'),\n ('York', 45983, '42.0%', 63617, '58.0%', 109600, '70.6%')]"
          },
          "metadata": {},
          "execution_count": 10
        }
      ],
      "source": [
        "results"
      ]
    }
  ],
  "metadata": {
    "kernelspec": {
      "name": "python37364bitbasecondac4af5b99945c4903bac691b3d55d71d6",
      "display_name": "Python 3.7.3 64-bit ('base': conda)",
      "language": "python"
    },
    "language_info": {
      "mimetype": "text/x-python",
      "nbconvert_exporter": "python",
      "name": "python",
      "pygments_lexer": "ipython3",
      "version": "3.8.3-final",
      "file_extension": ".py",
      "codemirror_mode": {
        "version": 3,
        "name": "ipython"
      }
    }
  },
  "nbformat": 4,
  "nbformat_minor": 2
}