{
  "cells": [
    {
      "cell_type": "markdown",
      "source": [
        "# Referendum Results"
      ],
      "metadata": {}
    },
    {
      "cell_type": "markdown",
      "source": [
        "This notebook scrapes the voting results in the membership of the European Union on 23rd June, 2016. This is scraped from the BBC website"
      ],
      "metadata": {}
    },
    {
      "cell_type": "code",
      "execution_count": 4,
      "source": [
        "# Check Python version for compatibility/reference\n",
        "import sys\n",
        "print(sys.executable)\n",
        "print(sys.version)\n",
        "print(sys.version_info)"
      ],
      "outputs": [
        {
          "output_type": "stream",
          "name": "stdout",
          "text": [
            "/Applications/JupyterLab.app/Contents/Resources/jlab_server/bin/python\n",
            "3.8.12 | packaged by conda-forge | (default, Sep 16 2021, 01:59:00) \n",
            "[Clang 11.1.0 ]\n",
            "sys.version_info(major=3, minor=8, micro=12, releaselevel='final', serial=0)\n"
          ]
        }
      ],
      "metadata": {
        "tags": []
      }
    },
    {
      "cell_type": "code",
      "execution_count": 5,
      "source": [
        "# Install seaborn package in the current Jupyter kernel\n",
        "!{sys.executable} -m pip install beautifulsoup4"
      ],
      "outputs": [
        {
          "output_type": "stream",
          "name": "stdout",
          "text": [
            "Defaulting to user installation because normal site-packages is not writeable\n",
            "Collecting beautifulsoup4\n",
            "  Using cached beautifulsoup4-4.10.0-py3-none-any.whl (97 kB)\n",
            "Collecting soupsieve>1.2\n",
            "  Using cached soupsieve-2.2.1-py3-none-any.whl (33 kB)\n",
            "Installing collected packages: soupsieve, beautifulsoup4\n",
            "Successfully installed beautifulsoup4-4.10.0 soupsieve-2.2.1\n"
          ]
        }
      ],
      "metadata": {}
    },
    {
      "cell_type": "code",
      "execution_count": 6,
      "source": [
        "# Import requisite libraries for analysis\n",
        "from collections import defaultdict\n",
        "from decimal import Decimal\n",
        "import string\n",
        "import requests\n",
        "from bs4 import BeautifulSoup"
      ],
      "outputs": [],
      "metadata": {}
    },
    {
      "cell_type": "code",
      "execution_count": 7,
      "source": [
        "# Set a constant for the alphabet's letters\n",
        "ALPHABET = string.ascii_uppercase\n",
        "print(ALPHABET)"
      ],
      "outputs": [
        {
          "output_type": "stream",
          "name": "stdout",
          "text": [
            "ABCDEFGHIJKLMNOPQRSTUVWXYZ\n"
          ]
        }
      ],
      "metadata": {}
    },
    {
      "cell_type": "code",
      "execution_count": 8,
      "source": [
        "# Set the base url in readiness to append the letter\n",
        "BASE_URL = 'https://www.bbc.co.uk/news/politics/eu_referendum/results/local/'"
      ],
      "outputs": [],
      "metadata": {}
    },
    {
      "cell_type": "code",
      "execution_count": 9,
      "source": [
        "# Set initial variables and results dictionary\n",
        "results = defaultdict(list)\n",
        "leave_votes, remain_votes = 0, 0"
      ],
      "outputs": [],
      "metadata": {}
    },
    {
      "cell_type": "code",
      "execution_count": 10,
      "source": [
        "# Scrape content from each lettered page from the BBC website\n",
        "# Print the status code returned from each page for review\n",
        "for letter in ALPHABET:\n",
        "    page_response = requests.get(f\"{BASE_URL}{letter}\", timeout=5)\n",
        "    print(f\"{'URL:'} {BASE_URL}{letter}{' | Status Code: '}{page_response.status_code}\")\n",
        "    if page_response:\n",
        "        page_content = BeautifulSoup(page_response.content, \"html.parser\")\n",
        "        areas = page_content.find_all('div', attrs={'class': 'eu-ref-result-bar'})\n",
        "        for area in areas:\n",
        "            results['area_name'].append(area.find('h3').getText())\n",
        "            cleaned_leave_votes = int(area.find_all('div',\n",
        "                                    {'class': 'eu-ref-result-bar__votes'}\n",
        "                                    )[0].string.strip().split('\\n')[0].strip().replace(',', ''))\n",
        "            results['leave_votes'].append(cleaned_leave_votes)\n",
        "            cleaned_remain_votes = int(area.find_all('div',\n",
        "                                    {'class': 'eu-ref-result-bar__votes'}\n",
        "                                    )[1].string.strip().split('\\n')[0].strip().replace(',', ''))\n",
        "            results['remain_votes'].append(cleaned_remain_votes)\n",
        "            area_votes = cleaned_leave_votes + cleaned_remain_votes\n",
        "            results['area_votes'].append(area_votes)\n",
        "            results['leave_percent'].append(f\"{cleaned_leave_votes / area_votes:.1%}\")\n",
        "            results['remain_percent'].append(f\"{cleaned_remain_votes / area_votes:.1%}\")\n",
        "            results['turnout'].append(area.find(\n",
        "                'div', {'class': 'eu-ref-result-bar__turnout'})\n",
        "                .getText().replace('Turnout: ', '')\n",
        "            )\n",
        "            leave_votes = sum(Decimal(num) for num in results['leave_votes'])\n",
        "            remain_votes = sum(Decimal(num) for num in results['remain_votes'])\n",
        "    else:\n",
        "        continue"
      ],
      "outputs": [
        {
          "output_type": "stream",
          "name": "stdout",
          "text": [
            "URL: https://www.bbc.co.uk/news/politics/eu_referendum/results/local/A | Status Code: 404\n",
            "URL: https://www.bbc.co.uk/news/politics/eu_referendum/results/local/B | Status Code: 404\n",
            "URL: https://www.bbc.co.uk/news/politics/eu_referendum/results/local/C | Status Code: 404\n",
            "URL: https://www.bbc.co.uk/news/politics/eu_referendum/results/local/D | Status Code: 404\n",
            "URL: https://www.bbc.co.uk/news/politics/eu_referendum/results/local/E | Status Code: 404\n",
            "URL: https://www.bbc.co.uk/news/politics/eu_referendum/results/local/F | Status Code: 404\n",
            "URL: https://www.bbc.co.uk/news/politics/eu_referendum/results/local/G | Status Code: 404\n",
            "URL: https://www.bbc.co.uk/news/politics/eu_referendum/results/local/H | Status Code: 404\n",
            "URL: https://www.bbc.co.uk/news/politics/eu_referendum/results/local/I | Status Code: 404\n",
            "URL: https://www.bbc.co.uk/news/politics/eu_referendum/results/local/J | Status Code: 404\n",
            "URL: https://www.bbc.co.uk/news/politics/eu_referendum/results/local/K | Status Code: 404\n",
            "URL: https://www.bbc.co.uk/news/politics/eu_referendum/results/local/L | Status Code: 404\n",
            "URL: https://www.bbc.co.uk/news/politics/eu_referendum/results/local/M | Status Code: 404\n",
            "URL: https://www.bbc.co.uk/news/politics/eu_referendum/results/local/N | Status Code: 404\n",
            "URL: https://www.bbc.co.uk/news/politics/eu_referendum/results/local/O | Status Code: 404\n",
            "URL: https://www.bbc.co.uk/news/politics/eu_referendum/results/local/P | Status Code: 404\n",
            "URL: https://www.bbc.co.uk/news/politics/eu_referendum/results/local/Q | Status Code: 404\n",
            "URL: https://www.bbc.co.uk/news/politics/eu_referendum/results/local/R | Status Code: 404\n",
            "URL: https://www.bbc.co.uk/news/politics/eu_referendum/results/local/S | Status Code: 404\n",
            "URL: https://www.bbc.co.uk/news/politics/eu_referendum/results/local/T | Status Code: 404\n",
            "URL: https://www.bbc.co.uk/news/politics/eu_referendum/results/local/U | Status Code: 404\n",
            "URL: https://www.bbc.co.uk/news/politics/eu_referendum/results/local/V | Status Code: 404\n",
            "URL: https://www.bbc.co.uk/news/politics/eu_referendum/results/local/W | Status Code: 404\n",
            "URL: https://www.bbc.co.uk/news/politics/eu_referendum/results/local/X | Status Code: 404\n",
            "URL: https://www.bbc.co.uk/news/politics/eu_referendum/results/local/Y | Status Code: 404\n",
            "URL: https://www.bbc.co.uk/news/politics/eu_referendum/results/local/Z | Status Code: 404\n"
          ]
        }
      ],
      "metadata": {
        "tags": []
      }
    },
    {
      "cell_type": "code",
      "execution_count": 11,
      "source": [
        "# Print a totals summary for the number of leave and remain votes\n",
        "print(f\"Leave votes: {leave_votes:,}\\nRemain votes: {remain_votes:,}\")"
      ],
      "outputs": [
        {
          "output_type": "stream",
          "name": "stdout",
          "text": [
            "Leave votes: 0\n",
            "Remain votes: 0\n"
          ]
        }
      ],
      "metadata": {
        "tags": []
      }
    },
    {
      "cell_type": "code",
      "execution_count": 12,
      "source": [
        "# Zip together the individual components of an area's result\n",
        "area_results = zip(\n",
        "    results['area_name'],\n",
        "    results['leave_votes'],\n",
        "    results['leave_percent'],\n",
        "    results['remain_votes'],\n",
        "    results['remain_percent'],\n",
        "    results['area_votes'],\n",
        "    results['turnout'],\n",
        ")"
      ],
      "outputs": [],
      "metadata": {}
    },
    {
      "cell_type": "code",
      "execution_count": 13,
      "source": [
        "# Print the results for each area\n",
        "results = []\n",
        "for area in area_results:\n",
        "    results.append(area)"
      ],
      "outputs": [],
      "metadata": {}
    },
    {
      "cell_type": "code",
      "execution_count": 14,
      "source": [
        "results"
      ],
      "outputs": [
        {
          "output_type": "execute_result",
          "data": {
            "text/plain": [
              "[]"
            ]
          },
          "metadata": {},
          "execution_count": 14
        }
      ],
      "metadata": {}
    }
  ],
  "metadata": {
    "kernelspec": {
      "name": "python3",
      "display_name": "Python 3.8.12 64-bit ('base': conda)"
    },
    "language_info": {
      "mimetype": "text/x-python",
      "nbconvert_exporter": "python",
      "name": "python",
      "pygments_lexer": "ipython3",
      "version": "3.8.12",
      "file_extension": ".py",
      "codemirror_mode": {
        "version": 3,
        "name": "ipython"
      }
    },
    "interpreter": {
      "hash": "1c216087a2126e673ec7f7e4f6c34c051bf287723219592fef13e81afb40a7d0"
    }
  },
  "nbformat": 4,
  "nbformat_minor": 2
}