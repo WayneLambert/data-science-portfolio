{
 "cells": [
  {
   "cell_type": "markdown",
   "metadata": {},
   "source": [
    "# Subscriptions Analysis\n",
    "This notebook analyses subscriptions to different products"
   ]
  },
  {
   "cell_type": "code",
   "execution_count": 1,
   "metadata": {},
   "outputs": [
    {
     "name": "stdout",
     "output_type": "stream",
     "text": "/Users/waynelambert/anaconda3/bin/python\n3.7.3 (default, Mar 27 2019, 16:54:48) \n[Clang 4.0.1 (tags/RELEASE_401/final)]\nsys.version_info(major=3, minor=7, micro=3, releaselevel='final', serial=0)\n"
    }
   ],
   "source": [
    "# Check Python version for compatibility/reference\n",
    "import sys\n",
    "print(sys.executable)\n",
    "print(sys.version)\n",
    "print(sys.version_info)"
   ]
  },
  {
   "cell_type": "code",
   "execution_count": 2,
   "metadata": {},
   "outputs": [],
   "source": [
    "import pandas as pd\n",
    "import numpy as np"
   ]
  },
  {
   "cell_type": "code",
   "execution_count": 3,
   "metadata": {},
   "outputs": [
    {
     "name": "stdout",
     "output_type": "stream",
     "text": "Pandas version: \t1.0.1\nNumPy version: \t\t1.18.1\n"
    }
   ],
   "source": [
    "# Check Pandas and Numpy version numbering for compatibility/reference\n",
    "print(f\"{'Pandas version:'} \\t{pd.__version__}\")\n",
    "print(f\"{'NumPy version:'} \\t\\t{np.__version__}\")"
   ]
  },
  {
   "cell_type": "code",
   "execution_count": 4,
   "metadata": {},
   "outputs": [],
   "source": [
    "# Read the contents of the csv file into a Pandas dataframe\n",
    "# Signal that the 'start', 'end', and 'cancelled' columns should be datetime objects\n",
    "df = pd.read_csv('../data_files/subscriptions.csv',\n",
    "                 parse_dates=['start','end','cancelled'],\n",
    "                 infer_datetime_format=True)"
   ]
  },
  {
   "cell_type": "code",
   "execution_count": 5,
   "metadata": {},
   "outputs": [
    {
     "data": {
      "text/html": "<div>\n<style scoped>\n    .dataframe tbody tr th:only-of-type {\n        vertical-align: middle;\n    }\n\n    .dataframe tbody tr th {\n        vertical-align: top;\n    }\n\n    .dataframe thead th {\n        text-align: right;\n    }\n</style>\n<table border=\"1\" class=\"dataframe\">\n  <thead>\n    <tr style=\"text-align: right;\">\n      <th></th>\n      <th>start</th>\n      <th>end</th>\n      <th>cancelled</th>\n      <th>account_id</th>\n      <th>title</th>\n      <th>is_free</th>\n    </tr>\n  </thead>\n  <tbody>\n    <tr>\n      <th>0</th>\n      <td>2016-01-25 10:26:00</td>\n      <td>2016-02-24 10:26:00</td>\n      <td>2016-02-23 17:05:00</td>\n      <td>581</td>\n      <td>Mapt - Pro [monthly]</td>\n      <td>0</td>\n    </tr>\n    <tr>\n      <th>1</th>\n      <td>2016-02-23 17:09:00</td>\n      <td>2017-08-23 17:09:00</td>\n      <td>NaT</td>\n      <td>581</td>\n      <td>Mapt - Pro [18 Months]</td>\n      <td>0</td>\n    </tr>\n    <tr>\n      <th>2</th>\n      <td>2014-12-03 09:38:00</td>\n      <td>2015-01-02 09:38:00</td>\n      <td>NaT</td>\n      <td>1071</td>\n      <td>Mapt - Pro [monthly]</td>\n      <td>0</td>\n    </tr>\n    <tr>\n      <th>3</th>\n      <td>2015-01-02 01:39:00</td>\n      <td>2015-02-01 01:39:00</td>\n      <td>NaT</td>\n      <td>1071</td>\n      <td>Mapt - Pro [monthly]</td>\n      <td>0</td>\n    </tr>\n    <tr>\n      <th>4</th>\n      <td>2015-02-01 01:48:00</td>\n      <td>2015-03-03 01:48:00</td>\n      <td>NaT</td>\n      <td>1071</td>\n      <td>Mapt - Pro [monthly]</td>\n      <td>0</td>\n    </tr>\n    <tr>\n      <th>5</th>\n      <td>2015-03-03 01:39:00</td>\n      <td>2015-04-02 01:39:00</td>\n      <td>NaT</td>\n      <td>1071</td>\n      <td>Mapt - Pro [monthly]</td>\n      <td>0</td>\n    </tr>\n    <tr>\n      <th>6</th>\n      <td>2015-04-02 01:42:00</td>\n      <td>2015-05-02 01:42:00</td>\n      <td>NaT</td>\n      <td>1071</td>\n      <td>Mapt - Pro [monthly]</td>\n      <td>0</td>\n    </tr>\n    <tr>\n      <th>7</th>\n      <td>2015-05-02 01:29:00</td>\n      <td>2015-06-01 01:29:00</td>\n      <td>NaT</td>\n      <td>1071</td>\n      <td>Mapt - Pro [monthly]</td>\n      <td>0</td>\n    </tr>\n    <tr>\n      <th>8</th>\n      <td>2015-06-01 01:33:00</td>\n      <td>2015-07-01 01:33:00</td>\n      <td>NaT</td>\n      <td>1071</td>\n      <td>Mapt - Pro [monthly]</td>\n      <td>0</td>\n    </tr>\n    <tr>\n      <th>9</th>\n      <td>2015-07-01 01:46:00</td>\n      <td>2015-07-31 01:46:00</td>\n      <td>NaT</td>\n      <td>1071</td>\n      <td>Mapt - Pro [monthly]</td>\n      <td>0</td>\n    </tr>\n  </tbody>\n</table>\n</div>",
      "text/plain": "                start                 end           cancelled  account_id  \\\n0 2016-01-25 10:26:00 2016-02-24 10:26:00 2016-02-23 17:05:00         581   \n1 2016-02-23 17:09:00 2017-08-23 17:09:00                 NaT         581   \n2 2014-12-03 09:38:00 2015-01-02 09:38:00                 NaT        1071   \n3 2015-01-02 01:39:00 2015-02-01 01:39:00                 NaT        1071   \n4 2015-02-01 01:48:00 2015-03-03 01:48:00                 NaT        1071   \n5 2015-03-03 01:39:00 2015-04-02 01:39:00                 NaT        1071   \n6 2015-04-02 01:42:00 2015-05-02 01:42:00                 NaT        1071   \n7 2015-05-02 01:29:00 2015-06-01 01:29:00                 NaT        1071   \n8 2015-06-01 01:33:00 2015-07-01 01:33:00                 NaT        1071   \n9 2015-07-01 01:46:00 2015-07-31 01:46:00                 NaT        1071   \n\n                    title  is_free  \n0    Mapt - Pro [monthly]        0  \n1  Mapt - Pro [18 Months]        0  \n2    Mapt - Pro [monthly]        0  \n3    Mapt - Pro [monthly]        0  \n4    Mapt - Pro [monthly]        0  \n5    Mapt - Pro [monthly]        0  \n6    Mapt - Pro [monthly]        0  \n7    Mapt - Pro [monthly]        0  \n8    Mapt - Pro [monthly]        0  \n9    Mapt - Pro [monthly]        0  "
     },
     "execution_count": 5,
     "metadata": {},
     "output_type": "execute_result"
    }
   ],
   "source": [
    "# Check head of dataframe\n",
    "df.head(10)"
   ]
  },
  {
   "cell_type": "markdown",
   "metadata": {},
   "source": [
    "#### Data Quality and Data Cleansing"
   ]
  },
  {
   "cell_type": "code",
   "execution_count": 6,
   "metadata": {},
   "outputs": [
    {
     "name": "stdout",
     "output_type": "stream",
     "text": "<class 'pandas.core.frame.DataFrame'>\nRangeIndex: 123783 entries, 0 to 123782\nData columns (total 6 columns):\n #   Column      Non-Null Count   Dtype         \n---  ------      --------------   -----         \n 0   start       123783 non-null  datetime64[ns]\n 1   end         123783 non-null  datetime64[ns]\n 2   cancelled   15231 non-null   datetime64[ns]\n 3   account_id  123783 non-null  int64         \n 4   title       123783 non-null  object        \n 5   is_free     123783 non-null  int64         \ndtypes: datetime64[ns](3), int64(2), object(1)\nmemory usage: 5.7+ MB\n"
    }
   ],
   "source": [
    "# Get information on data types and presence of null cancelled values\n",
    "# Also confirms start', 'end', and 'cancelled' columns have datetime data type\n",
    "df.info()"
   ]
  },
  {
   "cell_type": "code",
   "execution_count": 7,
   "metadata": {},
   "outputs": [
    {
     "data": {
      "text/html": "<div>\n<style scoped>\n    .dataframe tbody tr th:only-of-type {\n        vertical-align: middle;\n    }\n\n    .dataframe tbody tr th {\n        vertical-align: top;\n    }\n\n    .dataframe thead th {\n        text-align: right;\n    }\n</style>\n<table border=\"1\" class=\"dataframe\">\n  <thead>\n    <tr style=\"text-align: right;\">\n      <th></th>\n      <th>start</th>\n      <th>end</th>\n      <th>cancelled</th>\n      <th>account_id</th>\n      <th>title</th>\n      <th>is_free</th>\n    </tr>\n  </thead>\n  <tbody>\n    <tr>\n      <th>0</th>\n      <td>2016-01-25 10:26:00</td>\n      <td>2016-02-24 10:26:00</td>\n      <td>2016-02-23 17:05:00</td>\n      <td>581</td>\n      <td>Mapt - Pro [monthly]</td>\n      <td>False</td>\n    </tr>\n    <tr>\n      <th>1</th>\n      <td>2016-02-23 17:09:00</td>\n      <td>2017-08-23 17:09:00</td>\n      <td>NaT</td>\n      <td>581</td>\n      <td>Mapt - Pro [18 Months]</td>\n      <td>False</td>\n    </tr>\n    <tr>\n      <th>2</th>\n      <td>2014-12-03 09:38:00</td>\n      <td>2015-01-02 09:38:00</td>\n      <td>NaT</td>\n      <td>1071</td>\n      <td>Mapt - Pro [monthly]</td>\n      <td>False</td>\n    </tr>\n    <tr>\n      <th>3</th>\n      <td>2015-01-02 01:39:00</td>\n      <td>2015-02-01 01:39:00</td>\n      <td>NaT</td>\n      <td>1071</td>\n      <td>Mapt - Pro [monthly]</td>\n      <td>False</td>\n    </tr>\n    <tr>\n      <th>4</th>\n      <td>2015-02-01 01:48:00</td>\n      <td>2015-03-03 01:48:00</td>\n      <td>NaT</td>\n      <td>1071</td>\n      <td>Mapt - Pro [monthly]</td>\n      <td>False</td>\n    </tr>\n  </tbody>\n</table>\n</div>",
      "text/plain": "                start                 end           cancelled  account_id  \\\n0 2016-01-25 10:26:00 2016-02-24 10:26:00 2016-02-23 17:05:00         581   \n1 2016-02-23 17:09:00 2017-08-23 17:09:00                 NaT         581   \n2 2014-12-03 09:38:00 2015-01-02 09:38:00                 NaT        1071   \n3 2015-01-02 01:39:00 2015-02-01 01:39:00                 NaT        1071   \n4 2015-02-01 01:48:00 2015-03-03 01:48:00                 NaT        1071   \n\n                    title  is_free  \n0    Mapt - Pro [monthly]    False  \n1  Mapt - Pro [18 Months]    False  \n2    Mapt - Pro [monthly]    False  \n3    Mapt - Pro [monthly]    False  \n4    Mapt - Pro [monthly]    False  "
     },
     "execution_count": 7,
     "metadata": {},
     "output_type": "execute_result"
    }
   ],
   "source": [
    "# Convert 0 to False and 1 to True\n",
    "df['is_free'] = np.where(df['is_free'] == 1, True, False)\n",
    "\n",
    "# Verify change\n",
    "df.head(5)"
   ]
  },
  {
   "cell_type": "markdown",
   "metadata": {},
   "source": [
    "#### Interrogate the Dataset for Cleansing"
   ]
  },
  {
   "cell_type": "code",
   "execution_count": 8,
   "metadata": {},
   "outputs": [
    {
     "data": {
      "text/plain": "True"
     },
     "execution_count": 8,
     "metadata": {},
     "output_type": "execute_result"
    }
   ],
   "source": [
    "# Confirm that all records contains a start and end date\n",
    "df['start'].notnull().sum() == df['end'].notnull().sum() == df['start'].count()"
   ]
  },
  {
   "cell_type": "code",
   "execution_count": 9,
   "metadata": {},
   "outputs": [
    {
     "data": {
      "text/plain": "Timestamp('2013-01-01 01:41:00')"
     },
     "execution_count": 9,
     "metadata": {},
     "output_type": "execute_result"
    }
   ],
   "source": [
    "# Get the earliest dated start date record\n",
    "min(df['start'])"
   ]
  },
  {
   "cell_type": "code",
   "execution_count": 10,
   "metadata": {},
   "outputs": [
    {
     "data": {
      "text/plain": "Timestamp('2021-10-07 19:18:00')"
     },
     "execution_count": 10,
     "metadata": {},
     "output_type": "execute_result"
    }
   ],
   "source": [
    "# Get the latest dated start date record\n",
    "max(df['start'])"
   ]
  },
  {
   "cell_type": "markdown",
   "metadata": {},
   "source": [
    "#### Calculate Some Headline Data"
   ]
  },
  {
   "cell_type": "code",
   "execution_count": 11,
   "metadata": {},
   "outputs": [
    {
     "data": {
      "text/plain": "123783"
     },
     "execution_count": 11,
     "metadata": {},
     "output_type": "execute_result"
    }
   ],
   "source": [
    "# Number of records\n",
    "df['start'].count()"
   ]
  },
  {
   "cell_type": "code",
   "execution_count": 12,
   "metadata": {},
   "outputs": [
    {
     "data": {
      "text/plain": "15231"
     },
     "execution_count": 12,
     "metadata": {},
     "output_type": "execute_result"
    }
   ],
   "source": [
    "# Number of Cancelled records\n",
    "cancelled_recs = df['cancelled'].notnull().sum()\n",
    "cancelled_recs"
   ]
  },
  {
   "cell_type": "code",
   "execution_count": 13,
   "metadata": {},
   "outputs": [
    {
     "data": {
      "text/plain": "108552"
     },
     "execution_count": 13,
     "metadata": {},
     "output_type": "execute_result"
    }
   ],
   "source": [
    "# Number of Uncancelled records\n",
    "uncancelled_recs = df['cancelled'].isnull().sum()\n",
    "uncancelled_recs"
   ]
  },
  {
   "cell_type": "code",
   "execution_count": 14,
   "metadata": {},
   "outputs": [
    {
     "data": {
      "text/plain": "123783"
     },
     "execution_count": 14,
     "metadata": {},
     "output_type": "execute_result"
    }
   ],
   "source": [
    "# Sanity check to ensure that the sum of uncancelled and cancelled records equals the total records\n",
    "total_recs = cancelled_recs + uncancelled_recs\n",
    "total_recs"
   ]
  },
  {
   "cell_type": "code",
   "execution_count": 15,
   "metadata": {},
   "outputs": [
    {
     "data": {
      "text/plain": "40895"
     },
     "execution_count": 15,
     "metadata": {},
     "output_type": "execute_result"
    }
   ],
   "source": [
    "# Number of distinct accounts\n",
    "df['account_id'].nunique()"
   ]
  },
  {
   "cell_type": "code",
   "execution_count": 16,
   "metadata": {},
   "outputs": [
    {
     "data": {
      "text/plain": "Mapt - Pro [monthly]              83724\nMapt - Pro                        17407\nMapt Pro - 30 Day Free Trial      14229\nMapt - Basic [monthly]             2364\nMapt - Basic                       2363\nMapt - Pro [18 Months]             2185\nMapt Basic - 30 Day Free Trial     1511\nName: title, dtype: int64"
     },
     "execution_count": 16,
     "metadata": {},
     "output_type": "execute_result"
    }
   ],
   "source": [
    "# Get row count by subscription title to get a sense of most/least common subscriptions\n",
    "df['title'].value_counts()"
   ]
  },
  {
   "cell_type": "code",
   "execution_count": 17,
   "metadata": {},
   "outputs": [
    {
     "data": {
      "text/plain": "True"
     },
     "execution_count": 17,
     "metadata": {},
     "output_type": "execute_result"
    }
   ],
   "source": [
    "# Sanity check to ensure that the sum of the title groupings equals the total records\n",
    "df['title'].value_counts().sum() == total_recs"
   ]
  },
  {
   "cell_type": "code",
   "execution_count": 18,
   "metadata": {},
   "outputs": [],
   "source": [
    "# Compile array of the dataset's records where the 'start' column is future-dated\n",
    "from datetime import datetime\n",
    "fd_recs = np.where(df['start'] > datetime.now())"
   ]
  },
  {
   "cell_type": "code",
   "execution_count": 19,
   "metadata": {},
   "outputs": [
    {
     "data": {
      "text/plain": "13"
     },
     "execution_count": 19,
     "metadata": {},
     "output_type": "execute_result"
    }
   ],
   "source": [
    "# Count the number of numpy array elements where the 'start' column is future-dated\n",
    "np.count_nonzero(fd_recs)"
   ]
  },
  {
   "cell_type": "markdown",
   "metadata": {},
   "source": [
    "# START FROM HERE"
   ]
  },
  {
   "cell_type": "markdown",
   "metadata": {},
   "source": [
    "## NEED TO WORK OUT HOW TO DROP THE 13 FUTURE_DATED ROWS FROM DATAFRAME"
   ]
  },
  {
   "cell_type": "code",
   "execution_count": 20,
   "metadata": {},
   "outputs": [],
   "source": [
    "# Remove future-dated rows from the dataframe\n",
    "# df = df.drop(fd_recs.index, axis=0)"
   ]
  },
  {
   "cell_type": "code",
   "execution_count": 21,
   "metadata": {},
   "outputs": [
    {
     "data": {
      "text/plain": "123783"
     },
     "execution_count": 21,
     "metadata": {},
     "output_type": "execute_result"
    }
   ],
   "source": [
    "# Check the number of records has now been reduced by 13\n",
    "df['start'].count()"
   ]
  },
  {
   "cell_type": "markdown",
   "metadata": {},
   "source": [
    "#### Append Helper Columns to Analysis"
   ]
  },
  {
   "cell_type": "code",
   "execution_count": 22,
   "metadata": {},
   "outputs": [],
   "source": [
    "# Add subscription type column to differentiate between 'Pro' and 'Basic' subscriptions\n",
    "# This means that future subscription types could be added so long as their title included 'Pro'\n",
    "df['sub_type'] = np.where(df['title'].str.contains('Pro'), 'Pro', 'Basic')"
   ]
  },
  {
   "cell_type": "code",
   "execution_count": 23,
   "metadata": {},
   "outputs": [],
   "source": [
    "# Add subscription level column to differentiate between 'Trial' and 'Paid' subscriptions\n",
    "df['sub_level'] = np.where(df['title'].str.contains('Trial'), 'Trial', 'Paid')"
   ]
  },
  {
   "cell_type": "code",
   "execution_count": 24,
   "metadata": {},
   "outputs": [],
   "source": [
    "df['sub_duration (s)'] = np.where(df['cancelled'].isnull(), df['end'] - df['start'], df['cancelled'] - df['start'])"
   ]
  },
  {
   "cell_type": "code",
   "execution_count": 25,
   "metadata": {},
   "outputs": [
    {
     "data": {
      "text/html": "<div>\n<style scoped>\n    .dataframe tbody tr th:only-of-type {\n        vertical-align: middle;\n    }\n\n    .dataframe tbody tr th {\n        vertical-align: top;\n    }\n\n    .dataframe thead th {\n        text-align: right;\n    }\n</style>\n<table border=\"1\" class=\"dataframe\">\n  <thead>\n    <tr style=\"text-align: right;\">\n      <th></th>\n      <th>start</th>\n      <th>end</th>\n      <th>cancelled</th>\n      <th>account_id</th>\n      <th>title</th>\n      <th>is_free</th>\n      <th>sub_type</th>\n      <th>sub_level</th>\n      <th>sub_duration (s)</th>\n    </tr>\n  </thead>\n  <tbody>\n    <tr>\n      <th>0</th>\n      <td>2016-01-25 10:26:00</td>\n      <td>2016-02-24 10:26:00</td>\n      <td>2016-02-23 17:05:00</td>\n      <td>581</td>\n      <td>Mapt - Pro [monthly]</td>\n      <td>False</td>\n      <td>Pro</td>\n      <td>Paid</td>\n      <td>29 days 06:39:00</td>\n    </tr>\n    <tr>\n      <th>1</th>\n      <td>2016-02-23 17:09:00</td>\n      <td>2017-08-23 17:09:00</td>\n      <td>NaT</td>\n      <td>581</td>\n      <td>Mapt - Pro [18 Months]</td>\n      <td>False</td>\n      <td>Pro</td>\n      <td>Paid</td>\n      <td>547 days 00:00:00</td>\n    </tr>\n    <tr>\n      <th>2</th>\n      <td>2014-12-03 09:38:00</td>\n      <td>2015-01-02 09:38:00</td>\n      <td>NaT</td>\n      <td>1071</td>\n      <td>Mapt - Pro [monthly]</td>\n      <td>False</td>\n      <td>Pro</td>\n      <td>Paid</td>\n      <td>30 days 00:00:00</td>\n    </tr>\n    <tr>\n      <th>3</th>\n      <td>2015-01-02 01:39:00</td>\n      <td>2015-02-01 01:39:00</td>\n      <td>NaT</td>\n      <td>1071</td>\n      <td>Mapt - Pro [monthly]</td>\n      <td>False</td>\n      <td>Pro</td>\n      <td>Paid</td>\n      <td>30 days 00:00:00</td>\n    </tr>\n    <tr>\n      <th>4</th>\n      <td>2015-02-01 01:48:00</td>\n      <td>2015-03-03 01:48:00</td>\n      <td>NaT</td>\n      <td>1071</td>\n      <td>Mapt - Pro [monthly]</td>\n      <td>False</td>\n      <td>Pro</td>\n      <td>Paid</td>\n      <td>30 days 00:00:00</td>\n    </tr>\n  </tbody>\n</table>\n</div>",
      "text/plain": "                start                 end           cancelled  account_id  \\\n0 2016-01-25 10:26:00 2016-02-24 10:26:00 2016-02-23 17:05:00         581   \n1 2016-02-23 17:09:00 2017-08-23 17:09:00                 NaT         581   \n2 2014-12-03 09:38:00 2015-01-02 09:38:00                 NaT        1071   \n3 2015-01-02 01:39:00 2015-02-01 01:39:00                 NaT        1071   \n4 2015-02-01 01:48:00 2015-03-03 01:48:00                 NaT        1071   \n\n                    title  is_free sub_type sub_level  sub_duration (s)  \n0    Mapt - Pro [monthly]    False      Pro      Paid  29 days 06:39:00  \n1  Mapt - Pro [18 Months]    False      Pro      Paid 547 days 00:00:00  \n2    Mapt - Pro [monthly]    False      Pro      Paid  30 days 00:00:00  \n3    Mapt - Pro [monthly]    False      Pro      Paid  30 days 00:00:00  \n4    Mapt - Pro [monthly]    False      Pro      Paid  30 days 00:00:00  "
     },
     "execution_count": 25,
     "metadata": {},
     "output_type": "execute_result"
    }
   ],
   "source": [
    "df.head(5)"
   ]
  },
  {
   "cell_type": "code",
   "execution_count": 26,
   "metadata": {},
   "outputs": [
    {
     "data": {
      "text/plain": "dtype('<m8[ns]')"
     },
     "execution_count": 26,
     "metadata": {},
     "output_type": "execute_result"
    }
   ],
   "source": [
    "# Check data type of sub_duration helper column\n",
    "df.dtypes['sub_duration (s)']"
   ]
  },
  {
   "cell_type": "code",
   "execution_count": 27,
   "metadata": {},
   "outputs": [],
   "source": [
    "# Convert sub_duration field into duration in seconds\n",
    "df['sub_duration (s)'] = [td.total_seconds() for td in df['sub_duration (s)']]"
   ]
  },
  {
   "cell_type": "code",
   "execution_count": 28,
   "metadata": {},
   "outputs": [
    {
     "data": {
      "text/html": "<div>\n<style scoped>\n    .dataframe tbody tr th:only-of-type {\n        vertical-align: middle;\n    }\n\n    .dataframe tbody tr th {\n        vertical-align: top;\n    }\n\n    .dataframe thead th {\n        text-align: right;\n    }\n</style>\n<table border=\"1\" class=\"dataframe\">\n  <thead>\n    <tr style=\"text-align: right;\">\n      <th></th>\n      <th>start</th>\n      <th>end</th>\n      <th>cancelled</th>\n      <th>account_id</th>\n      <th>title</th>\n      <th>is_free</th>\n      <th>sub_type</th>\n      <th>sub_level</th>\n      <th>sub_duration (s)</th>\n    </tr>\n  </thead>\n  <tbody>\n    <tr>\n      <th>0</th>\n      <td>2016-01-25 10:26:00</td>\n      <td>2016-02-24 10:26:00</td>\n      <td>2016-02-23 17:05:00</td>\n      <td>581</td>\n      <td>Mapt - Pro [monthly]</td>\n      <td>False</td>\n      <td>Pro</td>\n      <td>Paid</td>\n      <td>2529540.0</td>\n    </tr>\n    <tr>\n      <th>1</th>\n      <td>2016-02-23 17:09:00</td>\n      <td>2017-08-23 17:09:00</td>\n      <td>NaT</td>\n      <td>581</td>\n      <td>Mapt - Pro [18 Months]</td>\n      <td>False</td>\n      <td>Pro</td>\n      <td>Paid</td>\n      <td>47260800.0</td>\n    </tr>\n    <tr>\n      <th>2</th>\n      <td>2014-12-03 09:38:00</td>\n      <td>2015-01-02 09:38:00</td>\n      <td>NaT</td>\n      <td>1071</td>\n      <td>Mapt - Pro [monthly]</td>\n      <td>False</td>\n      <td>Pro</td>\n      <td>Paid</td>\n      <td>2592000.0</td>\n    </tr>\n    <tr>\n      <th>3</th>\n      <td>2015-01-02 01:39:00</td>\n      <td>2015-02-01 01:39:00</td>\n      <td>NaT</td>\n      <td>1071</td>\n      <td>Mapt - Pro [monthly]</td>\n      <td>False</td>\n      <td>Pro</td>\n      <td>Paid</td>\n      <td>2592000.0</td>\n    </tr>\n    <tr>\n      <th>4</th>\n      <td>2015-02-01 01:48:00</td>\n      <td>2015-03-03 01:48:00</td>\n      <td>NaT</td>\n      <td>1071</td>\n      <td>Mapt - Pro [monthly]</td>\n      <td>False</td>\n      <td>Pro</td>\n      <td>Paid</td>\n      <td>2592000.0</td>\n    </tr>\n  </tbody>\n</table>\n</div>",
      "text/plain": "                start                 end           cancelled  account_id  \\\n0 2016-01-25 10:26:00 2016-02-24 10:26:00 2016-02-23 17:05:00         581   \n1 2016-02-23 17:09:00 2017-08-23 17:09:00                 NaT         581   \n2 2014-12-03 09:38:00 2015-01-02 09:38:00                 NaT        1071   \n3 2015-01-02 01:39:00 2015-02-01 01:39:00                 NaT        1071   \n4 2015-02-01 01:48:00 2015-03-03 01:48:00                 NaT        1071   \n\n                    title  is_free sub_type sub_level  sub_duration (s)  \n0    Mapt - Pro [monthly]    False      Pro      Paid         2529540.0  \n1  Mapt - Pro [18 Months]    False      Pro      Paid        47260800.0  \n2    Mapt - Pro [monthly]    False      Pro      Paid         2592000.0  \n3    Mapt - Pro [monthly]    False      Pro      Paid         2592000.0  \n4    Mapt - Pro [monthly]    False      Pro      Paid         2592000.0  "
     },
     "execution_count": 28,
     "metadata": {},
     "output_type": "execute_result"
    }
   ],
   "source": [
    "df.head()"
   ]
  },
  {
   "cell_type": "code",
   "execution_count": 29,
   "metadata": {},
   "outputs": [],
   "source": [
    "# Create grouping table for each account and subscription level\n",
    "# It seems appropriate to group on subscriptions which are trials versus those that are paid\n",
    "sub_lengths_by_account = df.sort_values(['sub_level'], ascending=False).groupby(['account_id', 'sub_level']).agg({'sub_duration (s)':np.sum})"
   ]
  },
  {
   "cell_type": "code",
   "execution_count": 30,
   "metadata": {},
   "outputs": [],
   "source": [
    "# Append a column that calculates the duration of the subscription in the number of days\n",
    "sub_lengths_by_account['sub_duration (days)'] = sub_lengths_by_account['sub_duration (s)']/24/60/60"
   ]
  },
  {
   "cell_type": "code",
   "execution_count": 31,
   "metadata": {},
   "outputs": [],
   "source": [
    "# Drop 'sub_duration (s)' column\n",
    "sub_lengths_by_account = sub_lengths_by_account.drop(columns=['sub_duration (s)'])"
   ]
  },
  {
   "cell_type": "code",
   "execution_count": 32,
   "metadata": {},
   "outputs": [
    {
     "data": {
      "text/html": "<div>\n<style scoped>\n    .dataframe tbody tr th:only-of-type {\n        vertical-align: middle;\n    }\n\n    .dataframe tbody tr th {\n        vertical-align: top;\n    }\n\n    .dataframe thead th {\n        text-align: right;\n    }\n</style>\n<table border=\"1\" class=\"dataframe\">\n  <thead>\n    <tr style=\"text-align: right;\">\n      <th></th>\n      <th></th>\n      <th>sub_duration (days)</th>\n    </tr>\n    <tr>\n      <th>account_id</th>\n      <th>sub_level</th>\n      <th></th>\n    </tr>\n  </thead>\n  <tbody>\n    <tr>\n      <th>581</th>\n      <th>Paid</th>\n      <td>576.28</td>\n    </tr>\n    <tr>\n      <th>791</th>\n      <th>Paid</th>\n      <td>365.00</td>\n    </tr>\n    <tr>\n      <th>985</th>\n      <th>Paid</th>\n      <td>365.00</td>\n    </tr>\n    <tr>\n      <th>1020</th>\n      <th>Trial</th>\n      <td>30.00</td>\n    </tr>\n    <tr>\n      <th>1071</th>\n      <th>Paid</th>\n      <td>930.00</td>\n    </tr>\n    <tr>\n      <th>1081</th>\n      <th>Paid</th>\n      <td>1095.00</td>\n    </tr>\n    <tr>\n      <th>1130</th>\n      <th>Paid</th>\n      <td>365.00</td>\n    </tr>\n    <tr>\n      <th>1300</th>\n      <th>Paid</th>\n      <td>1095.00</td>\n    </tr>\n    <tr>\n      <th>1448</th>\n      <th>Paid</th>\n      <td>30.00</td>\n    </tr>\n    <tr>\n      <th>1476</th>\n      <th>Paid</th>\n      <td>547.00</td>\n    </tr>\n    <tr>\n      <th>1890</th>\n      <th>Paid</th>\n      <td>365.00</td>\n    </tr>\n    <tr>\n      <th>2053</th>\n      <th>Paid</th>\n      <td>90.00</td>\n    </tr>\n    <tr>\n      <th>2196</th>\n      <th>Paid</th>\n      <td>570.00</td>\n    </tr>\n    <tr>\n      <th>2277</th>\n      <th>Paid</th>\n      <td>365.00</td>\n    </tr>\n    <tr>\n      <th>2287</th>\n      <th>Paid</th>\n      <td>1178.63</td>\n    </tr>\n    <tr>\n      <th>2385</th>\n      <th>Paid</th>\n      <td>1460.00</td>\n    </tr>\n    <tr>\n      <th rowspan=\"2\" valign=\"top\">2470</th>\n      <th>Paid</th>\n      <td>416.20</td>\n    </tr>\n    <tr>\n      <th>Trial</th>\n      <td>30.00</td>\n    </tr>\n    <tr>\n      <th>2719</th>\n      <th>Paid</th>\n      <td>179.03</td>\n    </tr>\n    <tr>\n      <th>3180</th>\n      <th>Paid</th>\n      <td>57.92</td>\n    </tr>\n  </tbody>\n</table>\n</div>",
      "text/plain": "                      sub_duration (days)\naccount_id sub_level                     \n581        Paid                    576.28\n791        Paid                    365.00\n985        Paid                    365.00\n1020       Trial                    30.00\n1071       Paid                    930.00\n1081       Paid                   1095.00\n1130       Paid                    365.00\n1300       Paid                   1095.00\n1448       Paid                     30.00\n1476       Paid                    547.00\n1890       Paid                    365.00\n2053       Paid                     90.00\n2196       Paid                    570.00\n2277       Paid                    365.00\n2287       Paid                   1178.63\n2385       Paid                   1460.00\n2470       Paid                    416.20\n           Trial                    30.00\n2719       Paid                    179.03\n3180       Paid                     57.92"
     },
     "execution_count": 32,
     "metadata": {},
     "output_type": "execute_result"
    }
   ],
   "source": [
    "# Round the duration in days to 2 d.p.\n",
    "# Display first 20 rowssufficient to see examples of trial only, paid only, and trial and paid\n",
    "sub_lengths_by_account.round(2).head(20)"
   ]
  }
 ],
 "metadata": {
  "kernelspec": {
   "display_name": "Python 3.7.3 64-bit ('base': conda)",
   "language": "python",
   "name": "python37364bitbasecondac4af5b99945c4903bac691b3d55d71d6"
  },
  "language_info": {
   "codemirror_mode": {
    "name": "ipython",
    "version": 3
   },
   "file_extension": ".py",
   "mimetype": "text/x-python",
   "name": "python",
   "nbconvert_exporter": "python",
   "pygments_lexer": "ipython3",
   "version": "3.8.2-final"
  }
 },
 "nbformat": 4,
 "nbformat_minor": 2
}