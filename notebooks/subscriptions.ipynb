{
 "cells": [
  {
   "cell_type": "markdown",
   "source": [
    "# Subscriptions Analysis\n",
    "This notebook analyses subscriptions to different products"
   ],
   "metadata": {}
  },
  {
   "cell_type": "code",
   "execution_count": 1,
   "source": [
    "# Check Python version for compatibility/reference\n",
    "import sys\n",
    "print(sys.executable)\n",
    "print(sys.version)\n",
    "print(sys.version_info)"
   ],
   "outputs": [
    {
     "output_type": "stream",
     "name": "stdout",
     "text": [
      "/Applications/JupyterLab.app/Contents/Resources/jlab_server/bin/python\n",
      "3.8.12 | packaged by conda-forge | (default, Sep 16 2021, 01:59:00) \n",
      "[Clang 11.1.0 ]\n",
      "sys.version_info(major=3, minor=8, micro=12, releaselevel='final', serial=0)\n"
     ]
    }
   ],
   "metadata": {}
  },
  {
   "cell_type": "code",
   "execution_count": 2,
   "source": [
    "import pandas as pd\n",
    "import numpy as np"
   ],
   "outputs": [],
   "metadata": {}
  },
  {
   "cell_type": "code",
   "execution_count": 3,
   "source": [
    "# Check Pandas and Numpy version numbering for compatibility/reference\n",
    "print(f\"{'Pandas version:'} \\t{pd.__version__}\")\n",
    "print(f\"{'NumPy version:'} \\t\\t{np.__version__}\")"
   ],
   "outputs": [
    {
     "output_type": "stream",
     "name": "stdout",
     "text": [
      "Pandas version: \t1.3.3\n",
      "NumPy version: \t\t1.21.2\n"
     ]
    }
   ],
   "metadata": {}
  },
  {
   "cell_type": "code",
   "execution_count": 4,
   "source": [
    "# Read the contents of the csv file into a Pandas dataframe\n",
    "# Signal that the 'start', 'end', and 'cancelled' columns should be datetime objects\n",
    "df = pd.read_csv('../data_files/subscriptions.csv',\n",
    "                 parse_dates=['start','end','cancelled'],\n",
    "                 infer_datetime_format=True)"
   ],
   "outputs": [],
   "metadata": {}
  },
  {
   "cell_type": "code",
   "execution_count": 5,
   "source": [
    "# Check head of dataframe\n",
    "df.head(10)"
   ],
   "outputs": [
    {
     "output_type": "execute_result",
     "data": {
      "text/html": [
       "<div>\n",
       "<style scoped>\n",
       "    .dataframe tbody tr th:only-of-type {\n",
       "        vertical-align: middle;\n",
       "    }\n",
       "\n",
       "    .dataframe tbody tr th {\n",
       "        vertical-align: top;\n",
       "    }\n",
       "\n",
       "    .dataframe thead th {\n",
       "        text-align: right;\n",
       "    }\n",
       "</style>\n",
       "<table border=\"1\" class=\"dataframe\">\n",
       "  <thead>\n",
       "    <tr style=\"text-align: right;\">\n",
       "      <th></th>\n",
       "      <th>start</th>\n",
       "      <th>end</th>\n",
       "      <th>cancelled</th>\n",
       "      <th>account_id</th>\n",
       "      <th>title</th>\n",
       "      <th>is_free</th>\n",
       "    </tr>\n",
       "  </thead>\n",
       "  <tbody>\n",
       "    <tr>\n",
       "      <th>0</th>\n",
       "      <td>2016-01-25 10:26:00</td>\n",
       "      <td>2016-02-24 10:26:00</td>\n",
       "      <td>2016-02-23 17:05:00</td>\n",
       "      <td>581</td>\n",
       "      <td>Mapt - Pro [monthly]</td>\n",
       "      <td>0</td>\n",
       "    </tr>\n",
       "    <tr>\n",
       "      <th>1</th>\n",
       "      <td>2016-02-23 17:09:00</td>\n",
       "      <td>2017-08-23 17:09:00</td>\n",
       "      <td>NaT</td>\n",
       "      <td>581</td>\n",
       "      <td>Mapt - Pro [18 Months]</td>\n",
       "      <td>0</td>\n",
       "    </tr>\n",
       "    <tr>\n",
       "      <th>2</th>\n",
       "      <td>2014-12-03 09:38:00</td>\n",
       "      <td>2015-01-02 09:38:00</td>\n",
       "      <td>NaT</td>\n",
       "      <td>1071</td>\n",
       "      <td>Mapt - Pro [monthly]</td>\n",
       "      <td>0</td>\n",
       "    </tr>\n",
       "    <tr>\n",
       "      <th>3</th>\n",
       "      <td>2015-01-02 01:39:00</td>\n",
       "      <td>2015-02-01 01:39:00</td>\n",
       "      <td>NaT</td>\n",
       "      <td>1071</td>\n",
       "      <td>Mapt - Pro [monthly]</td>\n",
       "      <td>0</td>\n",
       "    </tr>\n",
       "    <tr>\n",
       "      <th>4</th>\n",
       "      <td>2015-02-01 01:48:00</td>\n",
       "      <td>2015-03-03 01:48:00</td>\n",
       "      <td>NaT</td>\n",
       "      <td>1071</td>\n",
       "      <td>Mapt - Pro [monthly]</td>\n",
       "      <td>0</td>\n",
       "    </tr>\n",
       "    <tr>\n",
       "      <th>5</th>\n",
       "      <td>2015-03-03 01:39:00</td>\n",
       "      <td>2015-04-02 01:39:00</td>\n",
       "      <td>NaT</td>\n",
       "      <td>1071</td>\n",
       "      <td>Mapt - Pro [monthly]</td>\n",
       "      <td>0</td>\n",
       "    </tr>\n",
       "    <tr>\n",
       "      <th>6</th>\n",
       "      <td>2015-04-02 01:42:00</td>\n",
       "      <td>2015-05-02 01:42:00</td>\n",
       "      <td>NaT</td>\n",
       "      <td>1071</td>\n",
       "      <td>Mapt - Pro [monthly]</td>\n",
       "      <td>0</td>\n",
       "    </tr>\n",
       "    <tr>\n",
       "      <th>7</th>\n",
       "      <td>2015-05-02 01:29:00</td>\n",
       "      <td>2015-06-01 01:29:00</td>\n",
       "      <td>NaT</td>\n",
       "      <td>1071</td>\n",
       "      <td>Mapt - Pro [monthly]</td>\n",
       "      <td>0</td>\n",
       "    </tr>\n",
       "    <tr>\n",
       "      <th>8</th>\n",
       "      <td>2015-06-01 01:33:00</td>\n",
       "      <td>2015-07-01 01:33:00</td>\n",
       "      <td>NaT</td>\n",
       "      <td>1071</td>\n",
       "      <td>Mapt - Pro [monthly]</td>\n",
       "      <td>0</td>\n",
       "    </tr>\n",
       "    <tr>\n",
       "      <th>9</th>\n",
       "      <td>2015-07-01 01:46:00</td>\n",
       "      <td>2015-07-31 01:46:00</td>\n",
       "      <td>NaT</td>\n",
       "      <td>1071</td>\n",
       "      <td>Mapt - Pro [monthly]</td>\n",
       "      <td>0</td>\n",
       "    </tr>\n",
       "  </tbody>\n",
       "</table>\n",
       "</div>"
      ],
      "text/plain": [
       "                start                 end           cancelled  account_id  \\\n",
       "0 2016-01-25 10:26:00 2016-02-24 10:26:00 2016-02-23 17:05:00         581   \n",
       "1 2016-02-23 17:09:00 2017-08-23 17:09:00                 NaT         581   \n",
       "2 2014-12-03 09:38:00 2015-01-02 09:38:00                 NaT        1071   \n",
       "3 2015-01-02 01:39:00 2015-02-01 01:39:00                 NaT        1071   \n",
       "4 2015-02-01 01:48:00 2015-03-03 01:48:00                 NaT        1071   \n",
       "5 2015-03-03 01:39:00 2015-04-02 01:39:00                 NaT        1071   \n",
       "6 2015-04-02 01:42:00 2015-05-02 01:42:00                 NaT        1071   \n",
       "7 2015-05-02 01:29:00 2015-06-01 01:29:00                 NaT        1071   \n",
       "8 2015-06-01 01:33:00 2015-07-01 01:33:00                 NaT        1071   \n",
       "9 2015-07-01 01:46:00 2015-07-31 01:46:00                 NaT        1071   \n",
       "\n",
       "                    title  is_free  \n",
       "0    Mapt - Pro [monthly]        0  \n",
       "1  Mapt - Pro [18 Months]        0  \n",
       "2    Mapt - Pro [monthly]        0  \n",
       "3    Mapt - Pro [monthly]        0  \n",
       "4    Mapt - Pro [monthly]        0  \n",
       "5    Mapt - Pro [monthly]        0  \n",
       "6    Mapt - Pro [monthly]        0  \n",
       "7    Mapt - Pro [monthly]        0  \n",
       "8    Mapt - Pro [monthly]        0  \n",
       "9    Mapt - Pro [monthly]        0  "
      ]
     },
     "metadata": {},
     "execution_count": 5
    }
   ],
   "metadata": {}
  },
  {
   "cell_type": "markdown",
   "source": [
    "#### Data Quality and Data Cleansing"
   ],
   "metadata": {}
  },
  {
   "cell_type": "code",
   "execution_count": 6,
   "source": [
    "# Get information on data types and presence of null cancelled values\n",
    "# Also confirms start', 'end', and 'cancelled' columns have datetime data type\n",
    "df.info()"
   ],
   "outputs": [
    {
     "output_type": "stream",
     "name": "stdout",
     "text": [
      "<class 'pandas.core.frame.DataFrame'>\n",
      "RangeIndex: 123783 entries, 0 to 123782\n",
      "Data columns (total 6 columns):\n",
      " #   Column      Non-Null Count   Dtype         \n",
      "---  ------      --------------   -----         \n",
      " 0   start       123783 non-null  datetime64[ns]\n",
      " 1   end         123783 non-null  datetime64[ns]\n",
      " 2   cancelled   15231 non-null   datetime64[ns]\n",
      " 3   account_id  123783 non-null  int64         \n",
      " 4   title       123783 non-null  object        \n",
      " 5   is_free     123783 non-null  int64         \n",
      "dtypes: datetime64[ns](3), int64(2), object(1)\n",
      "memory usage: 5.7+ MB\n"
     ]
    }
   ],
   "metadata": {}
  },
  {
   "cell_type": "code",
   "execution_count": 7,
   "source": [
    "# Convert 0 to False and 1 to True\n",
    "df['is_free'] = np.where(df['is_free'] == 1, True, False)\n",
    "\n",
    "# Verify change\n",
    "df.head(5)"
   ],
   "outputs": [
    {
     "output_type": "execute_result",
     "data": {
      "text/html": [
       "<div>\n",
       "<style scoped>\n",
       "    .dataframe tbody tr th:only-of-type {\n",
       "        vertical-align: middle;\n",
       "    }\n",
       "\n",
       "    .dataframe tbody tr th {\n",
       "        vertical-align: top;\n",
       "    }\n",
       "\n",
       "    .dataframe thead th {\n",
       "        text-align: right;\n",
       "    }\n",
       "</style>\n",
       "<table border=\"1\" class=\"dataframe\">\n",
       "  <thead>\n",
       "    <tr style=\"text-align: right;\">\n",
       "      <th></th>\n",
       "      <th>start</th>\n",
       "      <th>end</th>\n",
       "      <th>cancelled</th>\n",
       "      <th>account_id</th>\n",
       "      <th>title</th>\n",
       "      <th>is_free</th>\n",
       "    </tr>\n",
       "  </thead>\n",
       "  <tbody>\n",
       "    <tr>\n",
       "      <th>0</th>\n",
       "      <td>2016-01-25 10:26:00</td>\n",
       "      <td>2016-02-24 10:26:00</td>\n",
       "      <td>2016-02-23 17:05:00</td>\n",
       "      <td>581</td>\n",
       "      <td>Mapt - Pro [monthly]</td>\n",
       "      <td>False</td>\n",
       "    </tr>\n",
       "    <tr>\n",
       "      <th>1</th>\n",
       "      <td>2016-02-23 17:09:00</td>\n",
       "      <td>2017-08-23 17:09:00</td>\n",
       "      <td>NaT</td>\n",
       "      <td>581</td>\n",
       "      <td>Mapt - Pro [18 Months]</td>\n",
       "      <td>False</td>\n",
       "    </tr>\n",
       "    <tr>\n",
       "      <th>2</th>\n",
       "      <td>2014-12-03 09:38:00</td>\n",
       "      <td>2015-01-02 09:38:00</td>\n",
       "      <td>NaT</td>\n",
       "      <td>1071</td>\n",
       "      <td>Mapt - Pro [monthly]</td>\n",
       "      <td>False</td>\n",
       "    </tr>\n",
       "    <tr>\n",
       "      <th>3</th>\n",
       "      <td>2015-01-02 01:39:00</td>\n",
       "      <td>2015-02-01 01:39:00</td>\n",
       "      <td>NaT</td>\n",
       "      <td>1071</td>\n",
       "      <td>Mapt - Pro [monthly]</td>\n",
       "      <td>False</td>\n",
       "    </tr>\n",
       "    <tr>\n",
       "      <th>4</th>\n",
       "      <td>2015-02-01 01:48:00</td>\n",
       "      <td>2015-03-03 01:48:00</td>\n",
       "      <td>NaT</td>\n",
       "      <td>1071</td>\n",
       "      <td>Mapt - Pro [monthly]</td>\n",
       "      <td>False</td>\n",
       "    </tr>\n",
       "  </tbody>\n",
       "</table>\n",
       "</div>"
      ],
      "text/plain": [
       "                start                 end           cancelled  account_id  \\\n",
       "0 2016-01-25 10:26:00 2016-02-24 10:26:00 2016-02-23 17:05:00         581   \n",
       "1 2016-02-23 17:09:00 2017-08-23 17:09:00                 NaT         581   \n",
       "2 2014-12-03 09:38:00 2015-01-02 09:38:00                 NaT        1071   \n",
       "3 2015-01-02 01:39:00 2015-02-01 01:39:00                 NaT        1071   \n",
       "4 2015-02-01 01:48:00 2015-03-03 01:48:00                 NaT        1071   \n",
       "\n",
       "                    title  is_free  \n",
       "0    Mapt - Pro [monthly]    False  \n",
       "1  Mapt - Pro [18 Months]    False  \n",
       "2    Mapt - Pro [monthly]    False  \n",
       "3    Mapt - Pro [monthly]    False  \n",
       "4    Mapt - Pro [monthly]    False  "
      ]
     },
     "metadata": {},
     "execution_count": 7
    }
   ],
   "metadata": {}
  },
  {
   "cell_type": "markdown",
   "source": [
    "#### Interrogate the Dataset for Cleansing"
   ],
   "metadata": {}
  },
  {
   "cell_type": "code",
   "execution_count": 8,
   "source": [
    "# Confirm that all records contains a start and end date\n",
    "df['start'].notnull().sum() == df['end'].notnull().sum() == df['start'].count()"
   ],
   "outputs": [
    {
     "output_type": "execute_result",
     "data": {
      "text/plain": [
       "True"
      ]
     },
     "metadata": {},
     "execution_count": 8
    }
   ],
   "metadata": {}
  },
  {
   "cell_type": "code",
   "execution_count": 9,
   "source": [
    "# Get the earliest dated start date record\n",
    "min(df['start'])"
   ],
   "outputs": [
    {
     "output_type": "execute_result",
     "data": {
      "text/plain": [
       "Timestamp('2013-01-01 01:41:00')"
      ]
     },
     "metadata": {},
     "execution_count": 9
    }
   ],
   "metadata": {}
  },
  {
   "cell_type": "code",
   "execution_count": 10,
   "source": [
    "# Get the latest dated start date record\n",
    "max(df['start'])"
   ],
   "outputs": [
    {
     "output_type": "execute_result",
     "data": {
      "text/plain": [
       "Timestamp('2021-10-07 19:18:00')"
      ]
     },
     "metadata": {},
     "execution_count": 10
    }
   ],
   "metadata": {}
  },
  {
   "cell_type": "markdown",
   "source": [
    "#### Calculate Some Headline Data"
   ],
   "metadata": {}
  },
  {
   "cell_type": "code",
   "execution_count": 11,
   "source": [
    "# Number of records\n",
    "df['start'].count()"
   ],
   "outputs": [
    {
     "output_type": "execute_result",
     "data": {
      "text/plain": [
       "123783"
      ]
     },
     "metadata": {},
     "execution_count": 11
    }
   ],
   "metadata": {}
  },
  {
   "cell_type": "code",
   "execution_count": 12,
   "source": [
    "# Number of Cancelled records\n",
    "cancelled_recs = df['cancelled'].notnull().sum()\n",
    "cancelled_recs"
   ],
   "outputs": [
    {
     "output_type": "execute_result",
     "data": {
      "text/plain": [
       "15231"
      ]
     },
     "metadata": {},
     "execution_count": 12
    }
   ],
   "metadata": {}
  },
  {
   "cell_type": "code",
   "execution_count": 13,
   "source": [
    "# Number of Uncancelled records\n",
    "uncancelled_recs = df['cancelled'].isnull().sum()\n",
    "uncancelled_recs"
   ],
   "outputs": [
    {
     "output_type": "execute_result",
     "data": {
      "text/plain": [
       "108552"
      ]
     },
     "metadata": {},
     "execution_count": 13
    }
   ],
   "metadata": {}
  },
  {
   "cell_type": "code",
   "execution_count": 14,
   "source": [
    "# Sanity check to ensure that the sum of uncancelled and cancelled records equals the total records\n",
    "total_recs = cancelled_recs + uncancelled_recs\n",
    "total_recs"
   ],
   "outputs": [
    {
     "output_type": "execute_result",
     "data": {
      "text/plain": [
       "123783"
      ]
     },
     "metadata": {},
     "execution_count": 14
    }
   ],
   "metadata": {}
  },
  {
   "cell_type": "code",
   "execution_count": 15,
   "source": [
    "# Number of distinct accounts\n",
    "df['account_id'].nunique()"
   ],
   "outputs": [
    {
     "output_type": "execute_result",
     "data": {
      "text/plain": [
       "40895"
      ]
     },
     "metadata": {},
     "execution_count": 15
    }
   ],
   "metadata": {}
  },
  {
   "cell_type": "code",
   "execution_count": 16,
   "source": [
    "# Get row count by subscription title to get a sense of most/least common subscriptions\n",
    "df['title'].value_counts()"
   ],
   "outputs": [
    {
     "output_type": "execute_result",
     "data": {
      "text/plain": [
       "Mapt - Pro [monthly]              83724\n",
       "Mapt - Pro                        17407\n",
       "Mapt Pro - 30 Day Free Trial      14229\n",
       "Mapt - Basic [monthly]             2364\n",
       "Mapt - Basic                       2363\n",
       "Mapt - Pro [18 Months]             2185\n",
       "Mapt Basic - 30 Day Free Trial     1511\n",
       "Name: title, dtype: int64"
      ]
     },
     "metadata": {},
     "execution_count": 16
    }
   ],
   "metadata": {}
  },
  {
   "cell_type": "code",
   "execution_count": 17,
   "source": [
    "# Sanity check to ensure that the sum of the title groupings equals the total records\n",
    "df['title'].value_counts().sum() == total_recs"
   ],
   "outputs": [
    {
     "output_type": "execute_result",
     "data": {
      "text/plain": [
       "True"
      ]
     },
     "metadata": {},
     "execution_count": 17
    }
   ],
   "metadata": {}
  },
  {
   "cell_type": "code",
   "execution_count": 18,
   "source": [
    "# Compile array of the dataset's records where the 'start' column is future-dated\n",
    "from datetime import datetime\n",
    "fd_recs = np.where(df['start'] > datetime.now())"
   ],
   "outputs": [],
   "metadata": {}
  },
  {
   "cell_type": "code",
   "execution_count": 19,
   "source": [
    "# Count the number of numpy array elements where the 'start' column is future-dated\n",
    "np.count_nonzero(fd_recs)"
   ],
   "outputs": [
    {
     "output_type": "execute_result",
     "data": {
      "text/plain": [
       "1"
      ]
     },
     "metadata": {},
     "execution_count": 19
    }
   ],
   "metadata": {}
  },
  {
   "cell_type": "markdown",
   "source": [
    "# START FROM HERE"
   ],
   "metadata": {}
  },
  {
   "cell_type": "markdown",
   "source": [
    "## NEED TO WORK OUT HOW TO DROP THE 13 FUTURE_DATED ROWS FROM DATAFRAME"
   ],
   "metadata": {}
  },
  {
   "cell_type": "code",
   "execution_count": 20,
   "source": [
    "# Remove future-dated rows from the dataframe\n",
    "# df = df.drop(fd_recs.index, axis=0)"
   ],
   "outputs": [],
   "metadata": {}
  },
  {
   "cell_type": "code",
   "execution_count": 21,
   "source": [
    "# Check the number of records has now been reduced by 13\n",
    "df['start'].count()"
   ],
   "outputs": [
    {
     "output_type": "execute_result",
     "data": {
      "text/plain": [
       "123783"
      ]
     },
     "metadata": {},
     "execution_count": 21
    }
   ],
   "metadata": {}
  },
  {
   "cell_type": "markdown",
   "source": [
    "#### Append Helper Columns to Analysis"
   ],
   "metadata": {}
  },
  {
   "cell_type": "code",
   "execution_count": 22,
   "source": [
    "# Add subscription type column to differentiate between 'Pro' and 'Basic' subscriptions\n",
    "# This means that future subscription types could be added so long as their title included 'Pro'\n",
    "df['sub_type'] = np.where(df['title'].str.contains('Pro'), 'Pro', 'Basic')"
   ],
   "outputs": [],
   "metadata": {}
  },
  {
   "cell_type": "code",
   "execution_count": 23,
   "source": [
    "# Add subscription level column to differentiate between 'Trial' and 'Paid' subscriptions\n",
    "df['sub_level'] = np.where(df['title'].str.contains('Trial'), 'Trial', 'Paid')"
   ],
   "outputs": [],
   "metadata": {}
  },
  {
   "cell_type": "code",
   "execution_count": 24,
   "source": [
    "df['sub_duration (s)'] = np.where(df['cancelled'].isnull(), df['end'] - df['start'], df['cancelled'] - df['start'])"
   ],
   "outputs": [],
   "metadata": {}
  },
  {
   "cell_type": "code",
   "execution_count": 25,
   "source": [
    "df.head(5)"
   ],
   "outputs": [
    {
     "output_type": "execute_result",
     "data": {
      "text/html": [
       "<div>\n",
       "<style scoped>\n",
       "    .dataframe tbody tr th:only-of-type {\n",
       "        vertical-align: middle;\n",
       "    }\n",
       "\n",
       "    .dataframe tbody tr th {\n",
       "        vertical-align: top;\n",
       "    }\n",
       "\n",
       "    .dataframe thead th {\n",
       "        text-align: right;\n",
       "    }\n",
       "</style>\n",
       "<table border=\"1\" class=\"dataframe\">\n",
       "  <thead>\n",
       "    <tr style=\"text-align: right;\">\n",
       "      <th></th>\n",
       "      <th>start</th>\n",
       "      <th>end</th>\n",
       "      <th>cancelled</th>\n",
       "      <th>account_id</th>\n",
       "      <th>title</th>\n",
       "      <th>is_free</th>\n",
       "      <th>sub_type</th>\n",
       "      <th>sub_level</th>\n",
       "      <th>sub_duration (s)</th>\n",
       "    </tr>\n",
       "  </thead>\n",
       "  <tbody>\n",
       "    <tr>\n",
       "      <th>0</th>\n",
       "      <td>2016-01-25 10:26:00</td>\n",
       "      <td>2016-02-24 10:26:00</td>\n",
       "      <td>2016-02-23 17:05:00</td>\n",
       "      <td>581</td>\n",
       "      <td>Mapt - Pro [monthly]</td>\n",
       "      <td>False</td>\n",
       "      <td>Pro</td>\n",
       "      <td>Paid</td>\n",
       "      <td>29 days 06:39:00</td>\n",
       "    </tr>\n",
       "    <tr>\n",
       "      <th>1</th>\n",
       "      <td>2016-02-23 17:09:00</td>\n",
       "      <td>2017-08-23 17:09:00</td>\n",
       "      <td>NaT</td>\n",
       "      <td>581</td>\n",
       "      <td>Mapt - Pro [18 Months]</td>\n",
       "      <td>False</td>\n",
       "      <td>Pro</td>\n",
       "      <td>Paid</td>\n",
       "      <td>547 days 00:00:00</td>\n",
       "    </tr>\n",
       "    <tr>\n",
       "      <th>2</th>\n",
       "      <td>2014-12-03 09:38:00</td>\n",
       "      <td>2015-01-02 09:38:00</td>\n",
       "      <td>NaT</td>\n",
       "      <td>1071</td>\n",
       "      <td>Mapt - Pro [monthly]</td>\n",
       "      <td>False</td>\n",
       "      <td>Pro</td>\n",
       "      <td>Paid</td>\n",
       "      <td>30 days 00:00:00</td>\n",
       "    </tr>\n",
       "    <tr>\n",
       "      <th>3</th>\n",
       "      <td>2015-01-02 01:39:00</td>\n",
       "      <td>2015-02-01 01:39:00</td>\n",
       "      <td>NaT</td>\n",
       "      <td>1071</td>\n",
       "      <td>Mapt - Pro [monthly]</td>\n",
       "      <td>False</td>\n",
       "      <td>Pro</td>\n",
       "      <td>Paid</td>\n",
       "      <td>30 days 00:00:00</td>\n",
       "    </tr>\n",
       "    <tr>\n",
       "      <th>4</th>\n",
       "      <td>2015-02-01 01:48:00</td>\n",
       "      <td>2015-03-03 01:48:00</td>\n",
       "      <td>NaT</td>\n",
       "      <td>1071</td>\n",
       "      <td>Mapt - Pro [monthly]</td>\n",
       "      <td>False</td>\n",
       "      <td>Pro</td>\n",
       "      <td>Paid</td>\n",
       "      <td>30 days 00:00:00</td>\n",
       "    </tr>\n",
       "  </tbody>\n",
       "</table>\n",
       "</div>"
      ],
      "text/plain": [
       "                start                 end           cancelled  account_id  \\\n",
       "0 2016-01-25 10:26:00 2016-02-24 10:26:00 2016-02-23 17:05:00         581   \n",
       "1 2016-02-23 17:09:00 2017-08-23 17:09:00                 NaT         581   \n",
       "2 2014-12-03 09:38:00 2015-01-02 09:38:00                 NaT        1071   \n",
       "3 2015-01-02 01:39:00 2015-02-01 01:39:00                 NaT        1071   \n",
       "4 2015-02-01 01:48:00 2015-03-03 01:48:00                 NaT        1071   \n",
       "\n",
       "                    title  is_free sub_type sub_level  sub_duration (s)  \n",
       "0    Mapt - Pro [monthly]    False      Pro      Paid  29 days 06:39:00  \n",
       "1  Mapt - Pro [18 Months]    False      Pro      Paid 547 days 00:00:00  \n",
       "2    Mapt - Pro [monthly]    False      Pro      Paid  30 days 00:00:00  \n",
       "3    Mapt - Pro [monthly]    False      Pro      Paid  30 days 00:00:00  \n",
       "4    Mapt - Pro [monthly]    False      Pro      Paid  30 days 00:00:00  "
      ]
     },
     "metadata": {},
     "execution_count": 25
    }
   ],
   "metadata": {}
  },
  {
   "cell_type": "code",
   "execution_count": 26,
   "source": [
    "# Check data type of sub_duration helper column\n",
    "df.dtypes['sub_duration (s)']"
   ],
   "outputs": [
    {
     "output_type": "execute_result",
     "data": {
      "text/plain": [
       "dtype('<m8[ns]')"
      ]
     },
     "metadata": {},
     "execution_count": 26
    }
   ],
   "metadata": {}
  },
  {
   "cell_type": "code",
   "execution_count": 27,
   "source": [
    "# Convert sub_duration field into duration in seconds\n",
    "df['sub_duration (s)'] = [td.total_seconds() for td in df['sub_duration (s)']]"
   ],
   "outputs": [],
   "metadata": {}
  },
  {
   "cell_type": "code",
   "execution_count": 28,
   "source": [
    "df.head()"
   ],
   "outputs": [
    {
     "output_type": "execute_result",
     "data": {
      "text/html": [
       "<div>\n",
       "<style scoped>\n",
       "    .dataframe tbody tr th:only-of-type {\n",
       "        vertical-align: middle;\n",
       "    }\n",
       "\n",
       "    .dataframe tbody tr th {\n",
       "        vertical-align: top;\n",
       "    }\n",
       "\n",
       "    .dataframe thead th {\n",
       "        text-align: right;\n",
       "    }\n",
       "</style>\n",
       "<table border=\"1\" class=\"dataframe\">\n",
       "  <thead>\n",
       "    <tr style=\"text-align: right;\">\n",
       "      <th></th>\n",
       "      <th>start</th>\n",
       "      <th>end</th>\n",
       "      <th>cancelled</th>\n",
       "      <th>account_id</th>\n",
       "      <th>title</th>\n",
       "      <th>is_free</th>\n",
       "      <th>sub_type</th>\n",
       "      <th>sub_level</th>\n",
       "      <th>sub_duration (s)</th>\n",
       "    </tr>\n",
       "  </thead>\n",
       "  <tbody>\n",
       "    <tr>\n",
       "      <th>0</th>\n",
       "      <td>2016-01-25 10:26:00</td>\n",
       "      <td>2016-02-24 10:26:00</td>\n",
       "      <td>2016-02-23 17:05:00</td>\n",
       "      <td>581</td>\n",
       "      <td>Mapt - Pro [monthly]</td>\n",
       "      <td>False</td>\n",
       "      <td>Pro</td>\n",
       "      <td>Paid</td>\n",
       "      <td>2529540.0</td>\n",
       "    </tr>\n",
       "    <tr>\n",
       "      <th>1</th>\n",
       "      <td>2016-02-23 17:09:00</td>\n",
       "      <td>2017-08-23 17:09:00</td>\n",
       "      <td>NaT</td>\n",
       "      <td>581</td>\n",
       "      <td>Mapt - Pro [18 Months]</td>\n",
       "      <td>False</td>\n",
       "      <td>Pro</td>\n",
       "      <td>Paid</td>\n",
       "      <td>47260800.0</td>\n",
       "    </tr>\n",
       "    <tr>\n",
       "      <th>2</th>\n",
       "      <td>2014-12-03 09:38:00</td>\n",
       "      <td>2015-01-02 09:38:00</td>\n",
       "      <td>NaT</td>\n",
       "      <td>1071</td>\n",
       "      <td>Mapt - Pro [monthly]</td>\n",
       "      <td>False</td>\n",
       "      <td>Pro</td>\n",
       "      <td>Paid</td>\n",
       "      <td>2592000.0</td>\n",
       "    </tr>\n",
       "    <tr>\n",
       "      <th>3</th>\n",
       "      <td>2015-01-02 01:39:00</td>\n",
       "      <td>2015-02-01 01:39:00</td>\n",
       "      <td>NaT</td>\n",
       "      <td>1071</td>\n",
       "      <td>Mapt - Pro [monthly]</td>\n",
       "      <td>False</td>\n",
       "      <td>Pro</td>\n",
       "      <td>Paid</td>\n",
       "      <td>2592000.0</td>\n",
       "    </tr>\n",
       "    <tr>\n",
       "      <th>4</th>\n",
       "      <td>2015-02-01 01:48:00</td>\n",
       "      <td>2015-03-03 01:48:00</td>\n",
       "      <td>NaT</td>\n",
       "      <td>1071</td>\n",
       "      <td>Mapt - Pro [monthly]</td>\n",
       "      <td>False</td>\n",
       "      <td>Pro</td>\n",
       "      <td>Paid</td>\n",
       "      <td>2592000.0</td>\n",
       "    </tr>\n",
       "  </tbody>\n",
       "</table>\n",
       "</div>"
      ],
      "text/plain": [
       "                start                 end           cancelled  account_id  \\\n",
       "0 2016-01-25 10:26:00 2016-02-24 10:26:00 2016-02-23 17:05:00         581   \n",
       "1 2016-02-23 17:09:00 2017-08-23 17:09:00                 NaT         581   \n",
       "2 2014-12-03 09:38:00 2015-01-02 09:38:00                 NaT        1071   \n",
       "3 2015-01-02 01:39:00 2015-02-01 01:39:00                 NaT        1071   \n",
       "4 2015-02-01 01:48:00 2015-03-03 01:48:00                 NaT        1071   \n",
       "\n",
       "                    title  is_free sub_type sub_level  sub_duration (s)  \n",
       "0    Mapt - Pro [monthly]    False      Pro      Paid         2529540.0  \n",
       "1  Mapt - Pro [18 Months]    False      Pro      Paid        47260800.0  \n",
       "2    Mapt - Pro [monthly]    False      Pro      Paid         2592000.0  \n",
       "3    Mapt - Pro [monthly]    False      Pro      Paid         2592000.0  \n",
       "4    Mapt - Pro [monthly]    False      Pro      Paid         2592000.0  "
      ]
     },
     "metadata": {},
     "execution_count": 28
    }
   ],
   "metadata": {}
  },
  {
   "cell_type": "code",
   "execution_count": 29,
   "source": [
    "# Create grouping table for each account and subscription level\n",
    "# It seems appropriate to group on subscriptions which are trials versus those that are paid\n",
    "sub_lengths_by_account = df.sort_values(['sub_level'], ascending=False).groupby(['account_id', 'sub_level']).agg({'sub_duration (s)':np.sum})"
   ],
   "outputs": [],
   "metadata": {}
  },
  {
   "cell_type": "code",
   "execution_count": 30,
   "source": [
    "# Append a column that calculates the duration of the subscription in the number of days\n",
    "sub_lengths_by_account['sub_duration (days)'] = sub_lengths_by_account['sub_duration (s)']/24/60/60"
   ],
   "outputs": [],
   "metadata": {}
  },
  {
   "cell_type": "code",
   "execution_count": 31,
   "source": [
    "# Drop 'sub_duration (s)' column\n",
    "sub_lengths_by_account = sub_lengths_by_account.drop(columns=['sub_duration (s)'])"
   ],
   "outputs": [],
   "metadata": {}
  },
  {
   "cell_type": "code",
   "execution_count": 32,
   "source": [
    "# Round the duration in days to 2 d.p.\n",
    "# Display first 20 rowssufficient to see examples of trial only, paid only, and trial and paid\n",
    "sub_lengths_by_account.round(2).head(20)"
   ],
   "outputs": [
    {
     "output_type": "execute_result",
     "data": {
      "text/html": [
       "<div>\n",
       "<style scoped>\n",
       "    .dataframe tbody tr th:only-of-type {\n",
       "        vertical-align: middle;\n",
       "    }\n",
       "\n",
       "    .dataframe tbody tr th {\n",
       "        vertical-align: top;\n",
       "    }\n",
       "\n",
       "    .dataframe thead th {\n",
       "        text-align: right;\n",
       "    }\n",
       "</style>\n",
       "<table border=\"1\" class=\"dataframe\">\n",
       "  <thead>\n",
       "    <tr style=\"text-align: right;\">\n",
       "      <th></th>\n",
       "      <th></th>\n",
       "      <th>sub_duration (days)</th>\n",
       "    </tr>\n",
       "    <tr>\n",
       "      <th>account_id</th>\n",
       "      <th>sub_level</th>\n",
       "      <th></th>\n",
       "    </tr>\n",
       "  </thead>\n",
       "  <tbody>\n",
       "    <tr>\n",
       "      <th>581</th>\n",
       "      <th>Paid</th>\n",
       "      <td>576.28</td>\n",
       "    </tr>\n",
       "    <tr>\n",
       "      <th>791</th>\n",
       "      <th>Paid</th>\n",
       "      <td>365.00</td>\n",
       "    </tr>\n",
       "    <tr>\n",
       "      <th>985</th>\n",
       "      <th>Paid</th>\n",
       "      <td>365.00</td>\n",
       "    </tr>\n",
       "    <tr>\n",
       "      <th>1020</th>\n",
       "      <th>Trial</th>\n",
       "      <td>30.00</td>\n",
       "    </tr>\n",
       "    <tr>\n",
       "      <th>1071</th>\n",
       "      <th>Paid</th>\n",
       "      <td>930.00</td>\n",
       "    </tr>\n",
       "    <tr>\n",
       "      <th>1081</th>\n",
       "      <th>Paid</th>\n",
       "      <td>1095.00</td>\n",
       "    </tr>\n",
       "    <tr>\n",
       "      <th>1130</th>\n",
       "      <th>Paid</th>\n",
       "      <td>365.00</td>\n",
       "    </tr>\n",
       "    <tr>\n",
       "      <th>1300</th>\n",
       "      <th>Paid</th>\n",
       "      <td>1095.00</td>\n",
       "    </tr>\n",
       "    <tr>\n",
       "      <th>1448</th>\n",
       "      <th>Paid</th>\n",
       "      <td>30.00</td>\n",
       "    </tr>\n",
       "    <tr>\n",
       "      <th>1476</th>\n",
       "      <th>Paid</th>\n",
       "      <td>547.00</td>\n",
       "    </tr>\n",
       "    <tr>\n",
       "      <th>1890</th>\n",
       "      <th>Paid</th>\n",
       "      <td>365.00</td>\n",
       "    </tr>\n",
       "    <tr>\n",
       "      <th>2053</th>\n",
       "      <th>Paid</th>\n",
       "      <td>90.00</td>\n",
       "    </tr>\n",
       "    <tr>\n",
       "      <th>2196</th>\n",
       "      <th>Paid</th>\n",
       "      <td>570.00</td>\n",
       "    </tr>\n",
       "    <tr>\n",
       "      <th>2277</th>\n",
       "      <th>Paid</th>\n",
       "      <td>365.00</td>\n",
       "    </tr>\n",
       "    <tr>\n",
       "      <th>2287</th>\n",
       "      <th>Paid</th>\n",
       "      <td>1178.63</td>\n",
       "    </tr>\n",
       "    <tr>\n",
       "      <th>2385</th>\n",
       "      <th>Paid</th>\n",
       "      <td>1460.00</td>\n",
       "    </tr>\n",
       "    <tr>\n",
       "      <th rowspan=\"2\" valign=\"top\">2470</th>\n",
       "      <th>Paid</th>\n",
       "      <td>416.20</td>\n",
       "    </tr>\n",
       "    <tr>\n",
       "      <th>Trial</th>\n",
       "      <td>30.00</td>\n",
       "    </tr>\n",
       "    <tr>\n",
       "      <th>2719</th>\n",
       "      <th>Paid</th>\n",
       "      <td>179.03</td>\n",
       "    </tr>\n",
       "    <tr>\n",
       "      <th>3180</th>\n",
       "      <th>Paid</th>\n",
       "      <td>57.92</td>\n",
       "    </tr>\n",
       "  </tbody>\n",
       "</table>\n",
       "</div>"
      ],
      "text/plain": [
       "                      sub_duration (days)\n",
       "account_id sub_level                     \n",
       "581        Paid                    576.28\n",
       "791        Paid                    365.00\n",
       "985        Paid                    365.00\n",
       "1020       Trial                    30.00\n",
       "1071       Paid                    930.00\n",
       "1081       Paid                   1095.00\n",
       "1130       Paid                    365.00\n",
       "1300       Paid                   1095.00\n",
       "1448       Paid                     30.00\n",
       "1476       Paid                    547.00\n",
       "1890       Paid                    365.00\n",
       "2053       Paid                     90.00\n",
       "2196       Paid                    570.00\n",
       "2277       Paid                    365.00\n",
       "2287       Paid                   1178.63\n",
       "2385       Paid                   1460.00\n",
       "2470       Paid                    416.20\n",
       "           Trial                    30.00\n",
       "2719       Paid                    179.03\n",
       "3180       Paid                     57.92"
      ]
     },
     "metadata": {},
     "execution_count": 32
    }
   ],
   "metadata": {}
  }
 ],
 "metadata": {
  "kernelspec": {
   "name": "python3",
   "display_name": "Python 3.8.12 64-bit ('base': conda)"
  },
  "language_info": {
   "codemirror_mode": {
    "name": "ipython",
    "version": 3
   },
   "file_extension": ".py",
   "mimetype": "text/x-python",
   "name": "python",
   "nbconvert_exporter": "python",
   "pygments_lexer": "ipython3",
   "version": "3.8.12"
  },
  "interpreter": {
   "hash": "1c216087a2126e673ec7f7e4f6c34c051bf287723219592fef13e81afb40a7d0"
  }
 },
 "nbformat": 4,
 "nbformat_minor": 2
}