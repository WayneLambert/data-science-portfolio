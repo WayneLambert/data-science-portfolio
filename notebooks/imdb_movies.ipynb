{
 "cells": [
  {
   "cell_type": "markdown",
   "metadata": {},
   "source": [
    "# IMDb Movies\n",
    "This notebook analyses a subset of 5,043 IMDb movies"
   ]
  },
  {
   "cell_type": "code",
   "execution_count": 1,
   "metadata": {
    "tags": []
   },
   "outputs": [
    {
     "name": "stdout",
     "output_type": "stream",
     "text": [
      "/Applications/JupyterLab.app/Contents/Resources/jlab_server/bin/python\n",
      "3.8.12 | packaged by conda-forge | (default, Sep 16 2021, 01:59:00) \n",
      "[Clang 11.1.0 ]\n",
      "sys.version_info(major=3, minor=8, micro=12, releaselevel='final', serial=0)\n"
     ]
    }
   ],
   "source": [
    "# Check Python version for compatibility/reference\n",
    "import sys\n",
    "print(sys.executable)\n",
    "print(sys.version)\n",
    "print(sys.version_info)"
   ]
  },
  {
   "cell_type": "code",
   "execution_count": 2,
   "metadata": {},
   "outputs": [
    {
     "name": "stdout",
     "output_type": "stream",
     "text": [
      "Defaulting to user installation because normal site-packages is not writeable\n",
      "Collecting seaborn\n",
      "  Downloading seaborn-0.11.2-py3-none-any.whl (292 kB)\n",
      "\u001b[K     |████████████████████████████████| 292 kB 4.2 MB/s \n",
      "\u001b[?25hCollecting numpy>=1.15\n",
      "  Downloading numpy-1.21.4-cp38-cp38-macosx_10_9_x86_64.whl (16.9 MB)\n",
      "\u001b[K     |████████████████████████████████| 16.9 MB 11.5 MB/s \n",
      "\u001b[?25hCollecting scipy>=1.0\n",
      "  Downloading scipy-1.7.2-cp38-cp38-macosx_10_9_x86_64.whl (33.0 MB)\n",
      "\u001b[K     |████████████████████████████████| 33.0 MB 28.4 MB/s \n",
      "\u001b[?25hCollecting matplotlib>=2.2\n",
      "  Downloading matplotlib-3.4.3-cp38-cp38-macosx_10_9_x86_64.whl (7.2 MB)\n",
      "\u001b[K     |████████████████████████████████| 7.2 MB 24.7 MB/s \n",
      "\u001b[?25hCollecting pandas>=0.23\n",
      "  Downloading pandas-1.3.4-cp38-cp38-macosx_10_9_x86_64.whl (11.4 MB)\n",
      "\u001b[K     |████████████████████████████████| 11.4 MB 9.1 MB/s \n",
      "\u001b[?25hCollecting cycler>=0.10\n",
      "  Downloading cycler-0.11.0-py3-none-any.whl (6.4 kB)\n",
      "Collecting pillow>=6.2.0\n",
      "  Downloading Pillow-8.4.0-cp38-cp38-macosx_10_10_x86_64.whl (3.0 MB)\n",
      "\u001b[K     |████████████████████████████████| 3.0 MB 41.4 MB/s \n",
      "\u001b[?25hCollecting kiwisolver>=1.0.1\n",
      "  Downloading kiwisolver-1.3.2-cp38-cp38-macosx_10_9_x86_64.whl (61 kB)\n",
      "\u001b[K     |████████████████████████████████| 61 kB 1.1 MB/s \n",
      "\u001b[?25hCollecting python-dateutil>=2.7\n",
      "  Downloading python_dateutil-2.8.2-py2.py3-none-any.whl (247 kB)\n",
      "\u001b[K     |████████████████████████████████| 247 kB 47.0 MB/s \n",
      "\u001b[?25hCollecting pyparsing>=2.2.1\n",
      "  Downloading pyparsing-3.0.6-py3-none-any.whl (97 kB)\n",
      "\u001b[K     |████████████████████████████████| 97 kB 29.4 MB/s \n",
      "\u001b[?25hCollecting pytz>=2017.3\n",
      "  Downloading pytz-2021.3-py2.py3-none-any.whl (503 kB)\n",
      "\u001b[K     |████████████████████████████████| 503 kB 48.5 MB/s \n",
      "\u001b[?25hCollecting six>=1.5\n",
      "  Downloading six-1.16.0-py2.py3-none-any.whl (11 kB)\n",
      "Installing collected packages: six, pytz, python-dateutil, pyparsing, pillow, numpy, kiwisolver, cycler, scipy, pandas, matplotlib, seaborn\n",
      "\u001b[33m  WARNING: The scripts f2py, f2py3 and f2py3.8 are installed in '/Users/wayne-lambert/.local/bin' which is not on PATH.\n",
      "  Consider adding this directory to PATH or, if you prefer to suppress this warning, use --no-warn-script-location.\u001b[0m\n",
      "Successfully installed cycler-0.11.0 kiwisolver-1.3.2 matplotlib-3.4.3 numpy-1.21.4 pandas-1.3.4 pillow-8.4.0 pyparsing-3.0.6 python-dateutil-2.8.2 pytz-2021.3 scipy-1.7.2 seaborn-0.11.2 six-1.16.0\n"
     ]
    }
   ],
   "source": [
    "# Install seaborn package in the current Jupyter kernel\n",
    "!{sys.executable} -m pip install seaborn"
   ]
  },
  {
   "cell_type": "code",
   "execution_count": 3,
   "metadata": {
    "tags": []
   },
   "outputs": [],
   "source": [
    "# Import requisite data science libraries\n",
    "import pandas as pd\n",
    "import numpy as np\n",
    "import matplotlib as mpl\n",
    "import matplotlib.pyplot as plt\n",
    "import seaborn as sns"
   ]
  },
  {
   "cell_type": "code",
   "execution_count": 4,
   "metadata": {
    "tags": []
   },
   "outputs": [
    {
     "name": "stdout",
     "output_type": "stream",
     "text": [
      "Pandas version: \t1.3.4\n",
      "NumPy version: \t\t1.21.4\n",
      "Matplotlib version: \t3.4.3\n",
      "Seaborn version: \t0.11.2\n"
     ]
    }
   ],
   "source": [
    "# Check Package version numbering for compatibility/reference\n",
    "print(f\"{'Pandas version:'} \\t{pd.__version__}\")\n",
    "print(f\"{'NumPy version:'} \\t\\t{np.__version__}\")\n",
    "print(f\"{'Matplotlib version:'} \\t{mpl.__version__}\")\n",
    "print(f\"{'Seaborn version:'} \\t{sns.__version__}\")"
   ]
  },
  {
   "cell_type": "code",
   "execution_count": 5,
   "metadata": {},
   "outputs": [],
   "source": [
    "# Set up pandas, matplotlib and seaborn\n",
    "pd.options.display.max_rows = 100\n",
    "# %matplotlib inline\n",
    "sns.set_style('darkgrid')"
   ]
  },
  {
   "cell_type": "code",
   "execution_count": 6,
   "metadata": {},
   "outputs": [],
   "source": [
    "# Read the movies data in from an Excel file using tab as the delimiter\n",
    "df = pd.read_csv('../data_files/imdb_movies.csv', encoding='utf-8', sep='\\t')"
   ]
  },
  {
   "cell_type": "code",
   "execution_count": 7,
   "metadata": {},
   "outputs": [
    {
     "data": {
      "text/html": [
       "<div>\n",
       "<style scoped>\n",
       "    .dataframe tbody tr th:only-of-type {\n",
       "        vertical-align: middle;\n",
       "    }\n",
       "\n",
       "    .dataframe tbody tr th {\n",
       "        vertical-align: top;\n",
       "    }\n",
       "\n",
       "    .dataframe thead th {\n",
       "        text-align: right;\n",
       "    }\n",
       "</style>\n",
       "<table border=\"1\" class=\"dataframe\">\n",
       "  <thead>\n",
       "    <tr style=\"text-align: right;\">\n",
       "      <th></th>\n",
       "      <th>num_recs</th>\n",
       "      <th>actor_1_facebook_likes</th>\n",
       "      <th>actor_1_name</th>\n",
       "      <th>actor_2_facebook_likes</th>\n",
       "      <th>actor_2_name</th>\n",
       "      <th>actor_3_facebook_likes</th>\n",
       "      <th>actor_3_name</th>\n",
       "      <th>aspect_ratio</th>\n",
       "      <th>budget</th>\n",
       "      <th>cast_total_facebook_likes</th>\n",
       "      <th>...</th>\n",
       "      <th>imdb_score</th>\n",
       "      <th>language</th>\n",
       "      <th>movie_facebook_likes</th>\n",
       "      <th>movie_imdb_link</th>\n",
       "      <th>movie_title</th>\n",
       "      <th>num_critic_for_reviews</th>\n",
       "      <th>num_user_for_reviews</th>\n",
       "      <th>num_voted_users</th>\n",
       "      <th>plot_keywords</th>\n",
       "      <th>title_year</th>\n",
       "    </tr>\n",
       "  </thead>\n",
       "  <tbody>\n",
       "    <tr>\n",
       "      <th>0</th>\n",
       "      <td>1</td>\n",
       "      <td>1000.0</td>\n",
       "      <td>CCH Pounder</td>\n",
       "      <td>936.0</td>\n",
       "      <td>Joel David Moore</td>\n",
       "      <td>855.0</td>\n",
       "      <td>Wes Studi</td>\n",
       "      <td>1.78</td>\n",
       "      <td>237000000.0</td>\n",
       "      <td>4834</td>\n",
       "      <td>...</td>\n",
       "      <td>7.9</td>\n",
       "      <td>English</td>\n",
       "      <td>33000</td>\n",
       "      <td>http://www.imdb.com/title/tt0499549/?ref_=fn_t...</td>\n",
       "      <td>AvatarÂ</td>\n",
       "      <td>723.0</td>\n",
       "      <td>3054.0</td>\n",
       "      <td>886204</td>\n",
       "      <td>avatar|future|marine|native|paraplegic</td>\n",
       "      <td>2009.0</td>\n",
       "    </tr>\n",
       "    <tr>\n",
       "      <th>1</th>\n",
       "      <td>1</td>\n",
       "      <td>40000.0</td>\n",
       "      <td>Johnny Depp</td>\n",
       "      <td>5000.0</td>\n",
       "      <td>Orlando Bloom</td>\n",
       "      <td>1000.0</td>\n",
       "      <td>Jack Davenport</td>\n",
       "      <td>2.35</td>\n",
       "      <td>300000000.0</td>\n",
       "      <td>48350</td>\n",
       "      <td>...</td>\n",
       "      <td>7.1</td>\n",
       "      <td>English</td>\n",
       "      <td>0</td>\n",
       "      <td>http://www.imdb.com/title/tt0449088/?ref_=fn_t...</td>\n",
       "      <td>Pirates of the Caribbean: At World's EndÂ</td>\n",
       "      <td>302.0</td>\n",
       "      <td>1238.0</td>\n",
       "      <td>471220</td>\n",
       "      <td>goddess|marriage ceremony|marriage proposal|pi...</td>\n",
       "      <td>2007.0</td>\n",
       "    </tr>\n",
       "    <tr>\n",
       "      <th>2</th>\n",
       "      <td>1</td>\n",
       "      <td>11000.0</td>\n",
       "      <td>Christoph Waltz</td>\n",
       "      <td>393.0</td>\n",
       "      <td>Rory Kinnear</td>\n",
       "      <td>161.0</td>\n",
       "      <td>Stephanie Sigman</td>\n",
       "      <td>2.35</td>\n",
       "      <td>245000000.0</td>\n",
       "      <td>11700</td>\n",
       "      <td>...</td>\n",
       "      <td>6.8</td>\n",
       "      <td>English</td>\n",
       "      <td>85000</td>\n",
       "      <td>http://www.imdb.com/title/tt2379713/?ref_=fn_t...</td>\n",
       "      <td>SpectreÂ</td>\n",
       "      <td>602.0</td>\n",
       "      <td>994.0</td>\n",
       "      <td>275868</td>\n",
       "      <td>bomb|espionage|sequel|spy|terrorist</td>\n",
       "      <td>2015.0</td>\n",
       "    </tr>\n",
       "    <tr>\n",
       "      <th>3</th>\n",
       "      <td>1</td>\n",
       "      <td>27000.0</td>\n",
       "      <td>Tom Hardy</td>\n",
       "      <td>23000.0</td>\n",
       "      <td>Christian Bale</td>\n",
       "      <td>23000.0</td>\n",
       "      <td>Joseph Gordon-Levitt</td>\n",
       "      <td>2.35</td>\n",
       "      <td>250000000.0</td>\n",
       "      <td>106759</td>\n",
       "      <td>...</td>\n",
       "      <td>8.5</td>\n",
       "      <td>English</td>\n",
       "      <td>164000</td>\n",
       "      <td>http://www.imdb.com/title/tt1345836/?ref_=fn_t...</td>\n",
       "      <td>The Dark Knight RisesÂ</td>\n",
       "      <td>813.0</td>\n",
       "      <td>2701.0</td>\n",
       "      <td>1144337</td>\n",
       "      <td>deception|imprisonment|lawlessness|police offi...</td>\n",
       "      <td>2012.0</td>\n",
       "    </tr>\n",
       "    <tr>\n",
       "      <th>4</th>\n",
       "      <td>1</td>\n",
       "      <td>131.0</td>\n",
       "      <td>Doug Walker</td>\n",
       "      <td>12.0</td>\n",
       "      <td>Rob Walker</td>\n",
       "      <td>NaN</td>\n",
       "      <td>NaN</td>\n",
       "      <td>NaN</td>\n",
       "      <td>NaN</td>\n",
       "      <td>143</td>\n",
       "      <td>...</td>\n",
       "      <td>7.1</td>\n",
       "      <td>NaN</td>\n",
       "      <td>0</td>\n",
       "      <td>http://www.imdb.com/title/tt5289954/?ref_=fn_t...</td>\n",
       "      <td>Star Wars: Episode VII - The Force AwakensÂ   ...</td>\n",
       "      <td>NaN</td>\n",
       "      <td>NaN</td>\n",
       "      <td>8</td>\n",
       "      <td>NaN</td>\n",
       "      <td>NaN</td>\n",
       "    </tr>\n",
       "  </tbody>\n",
       "</table>\n",
       "<p>5 rows × 29 columns</p>\n",
       "</div>"
      ],
      "text/plain": [
       "   num_recs  actor_1_facebook_likes     actor_1_name  actor_2_facebook_likes  \\\n",
       "0         1                  1000.0      CCH Pounder                   936.0   \n",
       "1         1                 40000.0      Johnny Depp                  5000.0   \n",
       "2         1                 11000.0  Christoph Waltz                   393.0   \n",
       "3         1                 27000.0        Tom Hardy                 23000.0   \n",
       "4         1                   131.0      Doug Walker                    12.0   \n",
       "\n",
       "       actor_2_name  actor_3_facebook_likes          actor_3_name  \\\n",
       "0  Joel David Moore                   855.0             Wes Studi   \n",
       "1     Orlando Bloom                  1000.0        Jack Davenport   \n",
       "2      Rory Kinnear                   161.0      Stephanie Sigman   \n",
       "3    Christian Bale                 23000.0  Joseph Gordon-Levitt   \n",
       "4        Rob Walker                     NaN                   NaN   \n",
       "\n",
       "   aspect_ratio       budget  cast_total_facebook_likes  ... imdb_score  \\\n",
       "0          1.78  237000000.0                       4834  ...        7.9   \n",
       "1          2.35  300000000.0                      48350  ...        7.1   \n",
       "2          2.35  245000000.0                      11700  ...        6.8   \n",
       "3          2.35  250000000.0                     106759  ...        8.5   \n",
       "4           NaN          NaN                        143  ...        7.1   \n",
       "\n",
       "  language movie_facebook_likes  \\\n",
       "0  English                33000   \n",
       "1  English                    0   \n",
       "2  English                85000   \n",
       "3  English               164000   \n",
       "4      NaN                    0   \n",
       "\n",
       "                                     movie_imdb_link  \\\n",
       "0  http://www.imdb.com/title/tt0499549/?ref_=fn_t...   \n",
       "1  http://www.imdb.com/title/tt0449088/?ref_=fn_t...   \n",
       "2  http://www.imdb.com/title/tt2379713/?ref_=fn_t...   \n",
       "3  http://www.imdb.com/title/tt1345836/?ref_=fn_t...   \n",
       "4  http://www.imdb.com/title/tt5289954/?ref_=fn_t...   \n",
       "\n",
       "                                         movie_title  num_critic_for_reviews  \\\n",
       "0                                           AvatarÂ                    723.0   \n",
       "1         Pirates of the Caribbean: At World's EndÂ                    302.0   \n",
       "2                                          SpectreÂ                    602.0   \n",
       "3                            The Dark Knight RisesÂ                    813.0   \n",
       "4  Star Wars: Episode VII - The Force AwakensÂ   ...                     NaN   \n",
       "\n",
       "   num_user_for_reviews num_voted_users  \\\n",
       "0                3054.0          886204   \n",
       "1                1238.0          471220   \n",
       "2                 994.0          275868   \n",
       "3                2701.0         1144337   \n",
       "4                   NaN               8   \n",
       "\n",
       "                                       plot_keywords  title_year  \n",
       "0             avatar|future|marine|native|paraplegic      2009.0  \n",
       "1  goddess|marriage ceremony|marriage proposal|pi...      2007.0  \n",
       "2                bomb|espionage|sequel|spy|terrorist      2015.0  \n",
       "3  deception|imprisonment|lawlessness|police offi...      2012.0  \n",
       "4                                                NaN         NaN  \n",
       "\n",
       "[5 rows x 29 columns]"
      ]
     },
     "execution_count": 7,
     "metadata": {},
     "output_type": "execute_result"
    }
   ],
   "source": [
    "# Preview the content of the dataframe\n",
    "df.head()"
   ]
  },
  {
   "cell_type": "markdown",
   "metadata": {},
   "source": [
    "## Data Analysis\n",
    "Let's understand the data more by doing some provisional analysis."
   ]
  },
  {
   "cell_type": "code",
   "execution_count": 8,
   "metadata": {
    "tags": []
   },
   "outputs": [
    {
     "name": "stdout",
     "output_type": "stream",
     "text": [
      "<class 'pandas.core.frame.DataFrame'>\n",
      "RangeIndex: 5043 entries, 0 to 5042\n",
      "Data columns (total 29 columns):\n",
      " #   Column                     Non-Null Count  Dtype  \n",
      "---  ------                     --------------  -----  \n",
      " 0   num_recs                   5043 non-null   int64  \n",
      " 1   actor_1_facebook_likes     5036 non-null   float64\n",
      " 2   actor_1_name               5036 non-null   object \n",
      " 3   actor_2_facebook_likes     5030 non-null   float64\n",
      " 4   actor_2_name               5030 non-null   object \n",
      " 5   actor_3_facebook_likes     5020 non-null   float64\n",
      " 6   actor_3_name               5020 non-null   object \n",
      " 7   aspect_ratio               4714 non-null   float64\n",
      " 8   budget                     4551 non-null   float64\n",
      " 9   cast_total_facebook_likes  5043 non-null   int64  \n",
      " 10  color                      5024 non-null   object \n",
      " 11  content_rating             4740 non-null   object \n",
      " 12  country                    5038 non-null   object \n",
      " 13  director_facebook_likes    4939 non-null   float64\n",
      " 14  director_name              4939 non-null   object \n",
      " 15  duration                   5028 non-null   float64\n",
      " 16  facenumber_in_poster       5030 non-null   float64\n",
      " 17  genres                     5043 non-null   object \n",
      " 18  gross                      4159 non-null   float64\n",
      " 19  imdb_score                 5043 non-null   float64\n",
      " 20  language                   5031 non-null   object \n",
      " 21  movie_facebook_likes       5043 non-null   int64  \n",
      " 22  movie_imdb_link            5043 non-null   object \n",
      " 23  movie_title                5043 non-null   object \n",
      " 24  num_critic_for_reviews     4993 non-null   float64\n",
      " 25  num_user_for_reviews       5022 non-null   float64\n",
      " 26  num_voted_users            5043 non-null   int64  \n",
      " 27  plot_keywords              4890 non-null   object \n",
      " 28  title_year                 4935 non-null   float64\n",
      "dtypes: float64(13), int64(4), object(12)\n",
      "memory usage: 1.1+ MB\n"
     ]
    }
   ],
   "source": [
    "# Check the data columns, datatypes and indication of column's data presence/absence\n",
    "df.info()"
   ]
  },
  {
   "cell_type": "code",
   "execution_count": 9,
   "metadata": {},
   "outputs": [
    {
     "data": {
      "text/html": [
       "<div>\n",
       "<style scoped>\n",
       "    .dataframe tbody tr th:only-of-type {\n",
       "        vertical-align: middle;\n",
       "    }\n",
       "\n",
       "    .dataframe tbody tr th {\n",
       "        vertical-align: top;\n",
       "    }\n",
       "\n",
       "    .dataframe thead th {\n",
       "        text-align: right;\n",
       "    }\n",
       "</style>\n",
       "<table border=\"1\" class=\"dataframe\">\n",
       "  <thead>\n",
       "    <tr style=\"text-align: right;\">\n",
       "      <th></th>\n",
       "      <th>num_recs</th>\n",
       "      <th>actor_1_facebook_likes</th>\n",
       "      <th>actor_2_facebook_likes</th>\n",
       "      <th>actor_3_facebook_likes</th>\n",
       "      <th>aspect_ratio</th>\n",
       "      <th>budget</th>\n",
       "      <th>cast_total_facebook_likes</th>\n",
       "      <th>director_facebook_likes</th>\n",
       "      <th>duration</th>\n",
       "      <th>facenumber_in_poster</th>\n",
       "      <th>gross</th>\n",
       "      <th>imdb_score</th>\n",
       "      <th>movie_facebook_likes</th>\n",
       "      <th>num_critic_for_reviews</th>\n",
       "      <th>num_user_for_reviews</th>\n",
       "      <th>num_voted_users</th>\n",
       "      <th>title_year</th>\n",
       "    </tr>\n",
       "  </thead>\n",
       "  <tbody>\n",
       "    <tr>\n",
       "      <th>count</th>\n",
       "      <td>5043.0</td>\n",
       "      <td>5036.000000</td>\n",
       "      <td>5030.000000</td>\n",
       "      <td>5020.000000</td>\n",
       "      <td>4714.000000</td>\n",
       "      <td>4.551000e+03</td>\n",
       "      <td>5043.000000</td>\n",
       "      <td>4939.000000</td>\n",
       "      <td>5028.000000</td>\n",
       "      <td>5030.000000</td>\n",
       "      <td>4.159000e+03</td>\n",
       "      <td>5043.000000</td>\n",
       "      <td>5043.000000</td>\n",
       "      <td>4993.000000</td>\n",
       "      <td>5022.000000</td>\n",
       "      <td>5.043000e+03</td>\n",
       "      <td>4935.000000</td>\n",
       "    </tr>\n",
       "    <tr>\n",
       "      <th>mean</th>\n",
       "      <td>1.0</td>\n",
       "      <td>6560.047061</td>\n",
       "      <td>1651.754473</td>\n",
       "      <td>645.009761</td>\n",
       "      <td>2.220403</td>\n",
       "      <td>3.975262e+07</td>\n",
       "      <td>9699.063851</td>\n",
       "      <td>686.509212</td>\n",
       "      <td>107.201074</td>\n",
       "      <td>1.371173</td>\n",
       "      <td>4.846841e+07</td>\n",
       "      <td>6.442138</td>\n",
       "      <td>7525.964505</td>\n",
       "      <td>140.194272</td>\n",
       "      <td>272.770808</td>\n",
       "      <td>8.366816e+04</td>\n",
       "      <td>2002.470517</td>\n",
       "    </tr>\n",
       "    <tr>\n",
       "      <th>std</th>\n",
       "      <td>0.0</td>\n",
       "      <td>15020.759120</td>\n",
       "      <td>4042.438863</td>\n",
       "      <td>1665.041728</td>\n",
       "      <td>1.385113</td>\n",
       "      <td>2.061149e+08</td>\n",
       "      <td>18163.799124</td>\n",
       "      <td>2813.328607</td>\n",
       "      <td>25.197441</td>\n",
       "      <td>2.013576</td>\n",
       "      <td>6.845299e+07</td>\n",
       "      <td>1.125116</td>\n",
       "      <td>19320.445110</td>\n",
       "      <td>121.601675</td>\n",
       "      <td>377.982886</td>\n",
       "      <td>1.384853e+05</td>\n",
       "      <td>12.474599</td>\n",
       "    </tr>\n",
       "    <tr>\n",
       "      <th>min</th>\n",
       "      <td>1.0</td>\n",
       "      <td>0.000000</td>\n",
       "      <td>0.000000</td>\n",
       "      <td>0.000000</td>\n",
       "      <td>1.180000</td>\n",
       "      <td>2.180000e+02</td>\n",
       "      <td>0.000000</td>\n",
       "      <td>0.000000</td>\n",
       "      <td>7.000000</td>\n",
       "      <td>0.000000</td>\n",
       "      <td>1.620000e+02</td>\n",
       "      <td>1.600000</td>\n",
       "      <td>0.000000</td>\n",
       "      <td>1.000000</td>\n",
       "      <td>1.000000</td>\n",
       "      <td>5.000000e+00</td>\n",
       "      <td>1916.000000</td>\n",
       "    </tr>\n",
       "    <tr>\n",
       "      <th>25%</th>\n",
       "      <td>1.0</td>\n",
       "      <td>614.000000</td>\n",
       "      <td>281.000000</td>\n",
       "      <td>133.000000</td>\n",
       "      <td>1.850000</td>\n",
       "      <td>6.000000e+06</td>\n",
       "      <td>1411.000000</td>\n",
       "      <td>7.000000</td>\n",
       "      <td>93.000000</td>\n",
       "      <td>0.000000</td>\n",
       "      <td>5.340988e+06</td>\n",
       "      <td>5.800000</td>\n",
       "      <td>0.000000</td>\n",
       "      <td>50.000000</td>\n",
       "      <td>65.000000</td>\n",
       "      <td>8.593500e+03</td>\n",
       "      <td>1999.000000</td>\n",
       "    </tr>\n",
       "    <tr>\n",
       "      <th>50%</th>\n",
       "      <td>1.0</td>\n",
       "      <td>988.000000</td>\n",
       "      <td>595.000000</td>\n",
       "      <td>371.500000</td>\n",
       "      <td>2.350000</td>\n",
       "      <td>2.000000e+07</td>\n",
       "      <td>3090.000000</td>\n",
       "      <td>49.000000</td>\n",
       "      <td>103.000000</td>\n",
       "      <td>1.000000</td>\n",
       "      <td>2.551750e+07</td>\n",
       "      <td>6.600000</td>\n",
       "      <td>166.000000</td>\n",
       "      <td>110.000000</td>\n",
       "      <td>156.000000</td>\n",
       "      <td>3.435900e+04</td>\n",
       "      <td>2005.000000</td>\n",
       "    </tr>\n",
       "    <tr>\n",
       "      <th>75%</th>\n",
       "      <td>1.0</td>\n",
       "      <td>11000.000000</td>\n",
       "      <td>918.000000</td>\n",
       "      <td>636.000000</td>\n",
       "      <td>2.350000</td>\n",
       "      <td>4.500000e+07</td>\n",
       "      <td>13756.500000</td>\n",
       "      <td>194.500000</td>\n",
       "      <td>118.000000</td>\n",
       "      <td>2.000000</td>\n",
       "      <td>6.230944e+07</td>\n",
       "      <td>7.200000</td>\n",
       "      <td>3000.000000</td>\n",
       "      <td>195.000000</td>\n",
       "      <td>326.000000</td>\n",
       "      <td>9.630900e+04</td>\n",
       "      <td>2011.000000</td>\n",
       "    </tr>\n",
       "    <tr>\n",
       "      <th>max</th>\n",
       "      <td>1.0</td>\n",
       "      <td>640000.000000</td>\n",
       "      <td>137000.000000</td>\n",
       "      <td>23000.000000</td>\n",
       "      <td>16.000000</td>\n",
       "      <td>1.221550e+10</td>\n",
       "      <td>656730.000000</td>\n",
       "      <td>23000.000000</td>\n",
       "      <td>511.000000</td>\n",
       "      <td>43.000000</td>\n",
       "      <td>7.605058e+08</td>\n",
       "      <td>9.500000</td>\n",
       "      <td>349000.000000</td>\n",
       "      <td>813.000000</td>\n",
       "      <td>5060.000000</td>\n",
       "      <td>1.689764e+06</td>\n",
       "      <td>2016.000000</td>\n",
       "    </tr>\n",
       "  </tbody>\n",
       "</table>\n",
       "</div>"
      ],
      "text/plain": [
       "       num_recs  actor_1_facebook_likes  actor_2_facebook_likes  \\\n",
       "count    5043.0             5036.000000             5030.000000   \n",
       "mean        1.0             6560.047061             1651.754473   \n",
       "std         0.0            15020.759120             4042.438863   \n",
       "min         1.0                0.000000                0.000000   \n",
       "25%         1.0              614.000000              281.000000   \n",
       "50%         1.0              988.000000              595.000000   \n",
       "75%         1.0            11000.000000              918.000000   \n",
       "max         1.0           640000.000000           137000.000000   \n",
       "\n",
       "       actor_3_facebook_likes  aspect_ratio        budget  \\\n",
       "count             5020.000000   4714.000000  4.551000e+03   \n",
       "mean               645.009761      2.220403  3.975262e+07   \n",
       "std               1665.041728      1.385113  2.061149e+08   \n",
       "min                  0.000000      1.180000  2.180000e+02   \n",
       "25%                133.000000      1.850000  6.000000e+06   \n",
       "50%                371.500000      2.350000  2.000000e+07   \n",
       "75%                636.000000      2.350000  4.500000e+07   \n",
       "max              23000.000000     16.000000  1.221550e+10   \n",
       "\n",
       "       cast_total_facebook_likes  director_facebook_likes     duration  \\\n",
       "count                5043.000000              4939.000000  5028.000000   \n",
       "mean                 9699.063851               686.509212   107.201074   \n",
       "std                 18163.799124              2813.328607    25.197441   \n",
       "min                     0.000000                 0.000000     7.000000   \n",
       "25%                  1411.000000                 7.000000    93.000000   \n",
       "50%                  3090.000000                49.000000   103.000000   \n",
       "75%                 13756.500000               194.500000   118.000000   \n",
       "max                656730.000000             23000.000000   511.000000   \n",
       "\n",
       "       facenumber_in_poster         gross   imdb_score  movie_facebook_likes  \\\n",
       "count           5030.000000  4.159000e+03  5043.000000           5043.000000   \n",
       "mean               1.371173  4.846841e+07     6.442138           7525.964505   \n",
       "std                2.013576  6.845299e+07     1.125116          19320.445110   \n",
       "min                0.000000  1.620000e+02     1.600000              0.000000   \n",
       "25%                0.000000  5.340988e+06     5.800000              0.000000   \n",
       "50%                1.000000  2.551750e+07     6.600000            166.000000   \n",
       "75%                2.000000  6.230944e+07     7.200000           3000.000000   \n",
       "max               43.000000  7.605058e+08     9.500000         349000.000000   \n",
       "\n",
       "       num_critic_for_reviews  num_user_for_reviews  num_voted_users  \\\n",
       "count             4993.000000           5022.000000     5.043000e+03   \n",
       "mean               140.194272            272.770808     8.366816e+04   \n",
       "std                121.601675            377.982886     1.384853e+05   \n",
       "min                  1.000000              1.000000     5.000000e+00   \n",
       "25%                 50.000000             65.000000     8.593500e+03   \n",
       "50%                110.000000            156.000000     3.435900e+04   \n",
       "75%                195.000000            326.000000     9.630900e+04   \n",
       "max                813.000000           5060.000000     1.689764e+06   \n",
       "\n",
       "        title_year  \n",
       "count  4935.000000  \n",
       "mean   2002.470517  \n",
       "std      12.474599  \n",
       "min    1916.000000  \n",
       "25%    1999.000000  \n",
       "50%    2005.000000  \n",
       "75%    2011.000000  \n",
       "max    2016.000000  "
      ]
     },
     "execution_count": 9,
     "metadata": {},
     "output_type": "execute_result"
    }
   ],
   "source": [
    "\"\"\" To get a sense of the data, retrieve aggregate values for numeric data fields.\n",
    "    Of course, some of them make no actual sense! \"\"\"\n",
    "df.describe(include=[np.number])"
   ]
  },
  {
   "cell_type": "code",
   "execution_count": 10,
   "metadata": {},
   "outputs": [
    {
     "data": {
      "text/plain": [
       "'Number of Movies: 4,917'"
      ]
     },
     "execution_count": 10,
     "metadata": {},
     "output_type": "execute_result"
    }
   ],
   "source": [
    "# Get number of unique movies\n",
    "num_movies = df['movie_title'].nunique()\n",
    "f\"{'Number of Movies:'} {num_movies:,.0f}\""
   ]
  },
  {
   "cell_type": "code",
   "execution_count": 11,
   "metadata": {},
   "outputs": [
    {
     "data": {
      "text/plain": [
       "'Number of Affected Records with Duplicated Movie Titles: 245'"
      ]
     },
     "execution_count": 11,
     "metadata": {},
     "output_type": "execute_result"
    }
   ],
   "source": [
    "# Get number of duplicated movie titles based upon the movie title alone\n",
    "duplicated_movie_titles = df.duplicated(subset='movie_title', keep=False)\n",
    "f\"{'Number of Affected Records with Duplicated Movie Titles:'} {sum(duplicated_movie_titles):,.0f}\""
   ]
  },
  {
   "cell_type": "code",
   "execution_count": 12,
   "metadata": {},
   "outputs": [
    {
     "data": {
      "text/plain": [
       "'Number of Partial Duplicates: 94'"
      ]
     },
     "execution_count": 12,
     "metadata": {},
     "output_type": "execute_result"
    }
   ],
   "source": [
    "# Get number of duplicates based on both movie title and number of users that voted\n",
    "duplicated_movie_titles = df.duplicated(subset=['movie_title', 'num_voted_users'], keep=False)\n",
    "f\"{'Number of Partial Duplicates:'} {sum(duplicated_movie_titles):,.0f}\""
   ]
  },
  {
   "cell_type": "code",
   "execution_count": 13,
   "metadata": {},
   "outputs": [
    {
     "data": {
      "text/plain": [
       "'Number of Directors: 2,398'"
      ]
     },
     "execution_count": 13,
     "metadata": {},
     "output_type": "execute_result"
    }
   ],
   "source": [
    "# Get number of unique directors\n",
    "num_directors = df['director_name'].nunique()\n",
    "f\"{'Number of Directors:'} {num_directors:,.0f}\""
   ]
  },
  {
   "cell_type": "code",
   "execution_count": 14,
   "metadata": {},
   "outputs": [
    {
     "data": {
      "text/plain": [
       "'Earliest Year: 1916 | Latest Year: 2016'"
      ]
     },
     "execution_count": 14,
     "metadata": {},
     "output_type": "execute_result"
    }
   ],
   "source": [
    "# Get oldest and newest movies\n",
    "earliest_year = df['title_year'].min()\n",
    "latest_year = df['title_year'].max()\n",
    "f\"{'Earliest Year:'} {int(earliest_year)} | {'Latest Year:'} {int(latest_year)}\""
   ]
  },
  {
   "cell_type": "code",
   "execution_count": 15,
   "metadata": {},
   "outputs": [
    {
     "data": {
      "text/plain": [
       "'Lowest Revenue: 162 | Highest Revenue: 760,505,847'"
      ]
     },
     "execution_count": 15,
     "metadata": {},
     "output_type": "execute_result"
    }
   ],
   "source": [
    "# Get lowest and highest grossing movies\n",
    "lowest_revenue = df['gross'].min()\n",
    "highest_revenue = df['gross'].max()\n",
    "f\"{'Lowest Revenue:'} {lowest_revenue:,.0f} | {'Highest Revenue:'} {highest_revenue:,.0f}\""
   ]
  },
  {
   "cell_type": "code",
   "execution_count": 16,
   "metadata": {
    "jupyter": {
     "source_hidden": true
    },
    "tags": []
   },
   "outputs": [
    {
     "data": {
      "text/plain": [
       "'Lowest Budget: 218 | Highest Budget: 12,215,500,000'"
      ]
     },
     "execution_count": 16,
     "metadata": {},
     "output_type": "execute_result"
    }
   ],
   "source": [
    "# Get lowest and highest budget movies\n",
    "lowest_budget = df['budget'].min()\n",
    "highest_budget = df['budget'].max()\n",
    "f\"{'Lowest Budget:'} {lowest_budget:,.0f} | {'Highest Budget:'} {highest_budget:,.0f}\""
   ]
  },
  {
   "cell_type": "code",
   "execution_count": 17,
   "metadata": {},
   "outputs": [],
   "source": [
    "ctry_grp = df.groupby(['country'])"
   ]
  },
  {
   "cell_type": "code",
   "execution_count": 18,
   "metadata": {},
   "outputs": [
    {
     "data": {
      "text/plain": [
       "country\n",
       "Afghanistan             7.400000\n",
       "Argentina               7.500000\n",
       "Aruba                   4.800000\n",
       "Australia               6.514545\n",
       "Bahamas                 4.400000\n",
       "Belgium                 5.600000\n",
       "Brazil                  7.275000\n",
       "Bulgaria                6.100000\n",
       "Cambodia                5.600000\n",
       "Cameroon                7.500000\n",
       "Canada                  6.161905\n",
       "Chile                   6.900000\n",
       "China                   6.623333\n",
       "Colombia                7.500000\n",
       "Czech Republic          6.966667\n",
       "Denmark                 7.172727\n",
       "Dominican Republic      6.900000\n",
       "Egypt                   8.100000\n",
       "Finland                 7.200000\n",
       "France                  6.678571\n",
       "Georgia                 5.600000\n",
       "Germany                 6.340206\n",
       "Greece                  7.000000\n",
       "Hong Kong               6.741176\n",
       "Hungary                 6.450000\n",
       "Iceland                 7.333333\n",
       "India                   6.532353\n",
       "Indonesia               7.600000\n",
       "Iran                    7.725000\n",
       "Ireland                 6.783333\n",
       "Israel                  7.525000\n",
       "Italy                   6.873913\n",
       "Japan                   6.952174\n",
       "Kenya                   7.400000\n",
       "Kyrgyzstan              8.700000\n",
       "Libya                   8.400000\n",
       "Mexico                  6.776471\n",
       "Netherlands             6.940000\n",
       "New Line                4.400000\n",
       "New Zealand             7.280000\n",
       "Nigeria                 5.600000\n",
       "Norway                  6.737500\n",
       "Official site           6.300000\n",
       "Pakistan                7.000000\n",
       "Panama                  7.200000\n",
       "Peru                    5.400000\n",
       "Philippines             6.300000\n",
       "Poland                  7.620000\n",
       "Romania                 6.600000\n",
       "Russia                  6.081818\n",
       "Slovakia                6.000000\n",
       "Slovenia                6.400000\n",
       "South Africa            6.437500\n",
       "South Korea             6.257143\n",
       "Soviet Union            8.100000\n",
       "Spain                   6.824242\n",
       "Sweden                  7.516667\n",
       "Switzerland             5.900000\n",
       "Taiwan                  7.150000\n",
       "Thailand                6.080000\n",
       "Turkey                  6.000000\n",
       "UK                      6.818304\n",
       "USA                     6.367428\n",
       "United Arab Emirates    8.200000\n",
       "West Germany            7.266667\n",
       "Name: imdb_score, dtype: float64"
      ]
     },
     "execution_count": 18,
     "metadata": {},
     "output_type": "execute_result"
    }
   ],
   "source": [
    "ctry_grp['imdb_score'].mean().head(df['country'].nunique())"
   ]
  },
  {
   "cell_type": "code",
   "execution_count": 19,
   "metadata": {},
   "outputs": [
    {
     "data": {
      "text/plain": [
       "country               num_recs\n",
       "Afghanistan           1              1\n",
       "Argentina             1              4\n",
       "Aruba                 1              1\n",
       "Australia             1             55\n",
       "Bahamas               1              1\n",
       "Belgium               1              4\n",
       "Brazil                1              8\n",
       "Bulgaria              1              1\n",
       "Cambodia              1              1\n",
       "Cameroon              1              1\n",
       "Canada                1            126\n",
       "Chile                 1              1\n",
       "China                 1             30\n",
       "Colombia              1              1\n",
       "Czech Republic        1              3\n",
       "Denmark               1             11\n",
       "Dominican Republic    1              1\n",
       "Egypt                 1              1\n",
       "Finland               1              1\n",
       "France                1            154\n",
       "Georgia               1              1\n",
       "Germany               1             97\n",
       "Greece                1              2\n",
       "Hong Kong             1             17\n",
       "Hungary               1              2\n",
       "Iceland               1              3\n",
       "India                 1             34\n",
       "Indonesia             1              1\n",
       "Iran                  1              4\n",
       "Ireland               1             12\n",
       "Israel                1              4\n",
       "Italy                 1             23\n",
       "Japan                 1             23\n",
       "Kenya                 1              1\n",
       "Kyrgyzstan            1              1\n",
       "Libya                 1              1\n",
       "Mexico                1             17\n",
       "Netherlands           1              5\n",
       "New Line              1              1\n",
       "New Zealand           1             15\n",
       "Nigeria               1              1\n",
       "Norway                1              8\n",
       "Official site         1              1\n",
       "Pakistan              1              1\n",
       "Panama                1              1\n",
       "Peru                  1              1\n",
       "Philippines           1              1\n",
       "Poland                1              5\n",
       "Romania               1              4\n",
       "Russia                1             11\n",
       "Slovakia              1              1\n",
       "Slovenia              1              1\n",
       "South Africa          1              8\n",
       "South Korea           1             14\n",
       "Soviet Union          1              1\n",
       "Spain                 1             33\n",
       "Sweden                1              6\n",
       "Switzerland           1              3\n",
       "Taiwan                1              2\n",
       "Thailand              1              5\n",
       "Turkey                1              1\n",
       "UK                    1            448\n",
       "USA                   1           3807\n",
       "United Arab Emirates  1              1\n",
       "West Germany          1              3\n",
       "Name: num_recs, dtype: int64"
      ]
     },
     "execution_count": 19,
     "metadata": {},
     "output_type": "execute_result"
    }
   ],
   "source": [
    "# Get the number of records by country\n",
    "ctry_grp['num_recs'].value_counts().head(df['country'].nunique())"
   ]
  },
  {
   "cell_type": "markdown",
   "metadata": {},
   "source": [
    "### Movies - by Genre"
   ]
  },
  {
   "cell_type": "markdown",
   "metadata": {},
   "source": [
    "This is a tricky metric to achieve with the datset since the 'genres' field contains multiple genres. This means that the field needs to be split on the pipe delimiter and will mean that the relationship between movies and genres are one-to-many.\n",
    "\n",
    "A movie can be listed in many genres, therefore the sum of the genres exceeds the total number of records within the dataset."
   ]
  },
  {
   "cell_type": "code",
   "execution_count": 20,
   "metadata": {},
   "outputs": [
    {
     "data": {
      "text/plain": [
       "0                      Action|Adventure|Fantasy|Sci-Fi\n",
       "1                             Action|Adventure|Fantasy\n",
       "2                            Action|Adventure|Thriller\n",
       "3                                      Action|Thriller\n",
       "4                                          Documentary\n",
       "5                              Action|Adventure|Sci-Fi\n",
       "6                             Action|Adventure|Romance\n",
       "7    Adventure|Animation|Comedy|Family|Fantasy|Musi...\n",
       "8                              Action|Adventure|Sci-Fi\n",
       "9                     Adventure|Family|Fantasy|Mystery\n",
       "Name: genres, dtype: object"
      ]
     },
     "execution_count": 20,
     "metadata": {},
     "output_type": "execute_result"
    }
   ],
   "source": [
    "# Check the 'genres' field to illustrate the issue\n",
    "df['genres'].head(10)"
   ]
  },
  {
   "cell_type": "code",
   "execution_count": 21,
   "metadata": {},
   "outputs": [],
   "source": [
    "# Create Python list of multiple genres from the 'genres' field of the dataframe\n",
    "row_genres = list(df['genres'])"
   ]
  },
  {
   "cell_type": "code",
   "execution_count": 22,
   "metadata": {},
   "outputs": [],
   "source": [
    "# Compile a sorted distinct list of dataset genres and their appearance counts\n",
    "\n",
    "from collections import defaultdict, OrderedDict\n",
    "\n",
    "genre_counts = defaultdict(int)\n",
    "for row_genre in row_genres:\n",
    "    genres = row_genre.split('|')\n",
    "    for genre in genres:\n",
    "        genre_counts[genre] += 1\n",
    "\n",
    "genre_counts = dict(sorted(genre_counts.items(), key=lambda t: t[1], reverse=True))"
   ]
  },
  {
   "cell_type": "code",
   "execution_count": 23,
   "metadata": {},
   "outputs": [
    {
     "data": {
      "image/png": "[encoded data removed]",
      "text/plain": [
       "<Figure size 1440x576 with 1 Axes>"
      ]
     },
     "metadata": {},
     "output_type": "display_data"
    }
   ],
   "source": [
    "# Plot a bar chart of the number of movies by genre\n",
    "pd.DataFrame(genre_counts, index=['genres']).T.plot(kind='bar',\n",
    "                                                    legend=None,\n",
    "                                                    color='#386191',\n",
    "                                                    figsize=(20, 8))\n",
    "plt.suptitle('Movies - by Genre', fontsize=12, fontweight='bold')\n",
    "plt.show()"
   ]
  },
  {
   "cell_type": "code",
   "execution_count": 24,
   "metadata": {},
   "outputs": [],
   "source": [
    "# Get a new dataframe containing only the english speaking country's data\n",
    "eng_countries = ['New Zealand', 'UK', 'Australia', 'USA', 'Canada']\n",
    "df_english = df[(df['country'].isin(eng_countries))]"
   ]
  },
  {
   "cell_type": "code",
   "execution_count": 25,
   "metadata": {},
   "outputs": [
    {
     "data": {
      "image/png": "[encoded data removed]",
      "text/plain": [
       "<Figure size 972x432 with 1 Axes>"
      ]
     },
     "metadata": {},
     "output_type": "display_data"
    }
   ],
   "source": [
    "# Set up the box plot with the required logical ordering, size and removal of outliers\n",
    "imdb_by_ctry = sns.catplot(x='imdb_score',\n",
    "                           y='country',\n",
    "                           data=df_english,\n",
    "                           kind='box',\n",
    "                           showfliers=False,\n",
    "                           height=6,\n",
    "                           aspect=18/8,\n",
    "                           palette='Set1',\n",
    "                           order=eng_countries)\n",
    "\n",
    "# Adjust spacing and set the chart and axe's titles\n",
    "imdb_by_ctry.fig.subplots_adjust(top=0.9, bottom=0.2)\n",
    "imdb_by_ctry.fig.suptitle('IMDb Score - by Country', fontsize=12, fontweight='bold')\n",
    "imdb_by_ctry.set(xlabel='', ylabel='')\n",
    "plt.xticks([num for num in range(0, 11)])\n",
    "plt.show()"
   ]
  },
  {
   "cell_type": "code",
   "execution_count": 26,
   "metadata": {},
   "outputs": [
    {
     "data": {
      "image/png": "[encoded data removed]",
      "text/plain": [
       "<Figure size 972x432 with 1 Axes>"
      ]
     },
     "metadata": {},
     "output_type": "display_data"
    }
   ],
   "source": [
    "# Set up the violin plot with the required logical ordering, size and inclusion of outliers\n",
    "imdb_by_ctry = sns.catplot(x='imdb_score',\n",
    "                           y='country',\n",
    "                           data=df_english,\n",
    "                           kind='violin',\n",
    "                           showfliers=True,\n",
    "                           height=6,\n",
    "                           aspect=18/8,\n",
    "                           palette='Set1',\n",
    "                           order=eng_countries)\n",
    "\n",
    "# Adjust spacing and set the chart and axe's titles\n",
    "imdb_by_ctry.fig.subplots_adjust(top=0.9, bottom=0.2)\n",
    "imdb_by_ctry.fig.suptitle('IMDb Score - by Country', fontsize=12, fontweight='bold')\n",
    "imdb_by_ctry.set(xlabel='', ylabel='')\n",
    "plt.xticks([num for num in range(0, 11)])\n",
    "plt.show()"
   ]
  },
  {
   "cell_type": "markdown",
   "metadata": {},
   "source": [
    "## Questions"
   ]
  },
  {
   "cell_type": "markdown",
   "metadata": {},
   "source": [
    "### Q1: Budget of the 53rd Highest Grossing Movie"
   ]
  },
  {
   "cell_type": "markdown",
   "metadata": {},
   "source": [
    "##### Pandas Answer"
   ]
  },
  {
   "cell_type": "code",
   "execution_count": 27,
   "metadata": {},
   "outputs": [
    {
     "data": {
      "text/html": [
       "<div>\n",
       "<style scoped>\n",
       "    .dataframe tbody tr th:only-of-type {\n",
       "        vertical-align: middle;\n",
       "    }\n",
       "\n",
       "    .dataframe tbody tr th {\n",
       "        vertical-align: top;\n",
       "    }\n",
       "\n",
       "    .dataframe thead th {\n",
       "        text-align: right;\n",
       "    }\n",
       "</style>\n",
       "<table border=\"1\" class=\"dataframe\">\n",
       "  <thead>\n",
       "    <tr style=\"text-align: right;\">\n",
       "      <th></th>\n",
       "      <th></th>\n",
       "      <th></th>\n",
       "      <th>count</th>\n",
       "    </tr>\n",
       "    <tr>\n",
       "      <th>movie_title</th>\n",
       "      <th>gross</th>\n",
       "      <th>budget</th>\n",
       "      <th></th>\n",
       "    </tr>\n",
       "  </thead>\n",
       "  <tbody>\n",
       "    <tr>\n",
       "      <th>Independence DayÂ</th>\n",
       "      <th>306124059.0</th>\n",
       "      <th>75000000.0</th>\n",
       "      <td>1</td>\n",
       "    </tr>\n",
       "  </tbody>\n",
       "</table>\n",
       "</div>"
      ],
      "text/plain": [
       "                                          count\n",
       "movie_title        gross       budget          \n",
       "Independence DayÂ  306124059.0 75000000.0     1"
      ]
     },
     "execution_count": 27,
     "metadata": {},
     "output_type": "execute_result"
    }
   ],
   "source": [
    "q1 = df.groupby(by=['movie_title', 'gross', 'budget'])['movie_title'].describe()[['count']]\n",
    "q1 = q1.sort_values(by=['gross'], ascending=False)\n",
    "q1[52:53]  # Index 52 is item 53 as zero based indexing"
   ]
  },
  {
   "cell_type": "markdown",
   "metadata": {},
   "source": [
    "##### SQL Answer\n",
    "```sql\n",
    "SELECT movie_title, max(gross), max(budget)\n",
    "FROM cases.movie_metadata\n",
    "WHERE gross IS NOT NULL\n",
    "GROUP BY movie_title\n",
    "ORDER BY max(gross) DESC LIMIT 1 OFFSET 52;\n",
    "```"
   ]
  },
  {
   "cell_type": "markdown",
   "metadata": {},
   "source": [
    "### Q2: Movies Made in 1975 and their Countries of Origin"
   ]
  },
  {
   "cell_type": "markdown",
   "metadata": {},
   "source": [
    "##### Pandas Answer"
   ]
  },
  {
   "cell_type": "code",
   "execution_count": 28,
   "metadata": {},
   "outputs": [
    {
     "data": {
      "text/html": [
       "<div>\n",
       "<style scoped>\n",
       "    .dataframe tbody tr th:only-of-type {\n",
       "        vertical-align: middle;\n",
       "    }\n",
       "\n",
       "    .dataframe tbody tr th {\n",
       "        vertical-align: top;\n",
       "    }\n",
       "\n",
       "    .dataframe thead th {\n",
       "        text-align: right;\n",
       "    }\n",
       "</style>\n",
       "<table border=\"1\" class=\"dataframe\">\n",
       "  <thead>\n",
       "    <tr style=\"text-align: right;\">\n",
       "      <th></th>\n",
       "      <th>country</th>\n",
       "      <th>movie_title</th>\n",
       "    </tr>\n",
       "  </thead>\n",
       "  <tbody>\n",
       "    <tr>\n",
       "      <th>3051</th>\n",
       "      <td>UK</td>\n",
       "      <td>Barry LyndonÂ</td>\n",
       "    </tr>\n",
       "    <tr>\n",
       "      <th>3710</th>\n",
       "      <td>UK</td>\n",
       "      <td>The Return of the Pink PantherÂ</td>\n",
       "    </tr>\n",
       "    <tr>\n",
       "      <th>4796</th>\n",
       "      <td>UK</td>\n",
       "      <td>Monty Python and the Holy GrailÂ</td>\n",
       "    </tr>\n",
       "    <tr>\n",
       "      <th>2920</th>\n",
       "      <td>USA</td>\n",
       "      <td>JawsÂ</td>\n",
       "    </tr>\n",
       "    <tr>\n",
       "      <th>3869</th>\n",
       "      <td>USA</td>\n",
       "      <td>One Flew Over the Cuckoo's NestÂ</td>\n",
       "    </tr>\n",
       "    <tr>\n",
       "      <th>4845</th>\n",
       "      <td>USA</td>\n",
       "      <td>Death Race 2000Â</td>\n",
       "    </tr>\n",
       "  </tbody>\n",
       "</table>\n",
       "</div>"
      ],
      "text/plain": [
       "     country                        movie_title\n",
       "3051      UK                     Barry LyndonÂ \n",
       "3710      UK   The Return of the Pink PantherÂ \n",
       "4796      UK  Monty Python and the Holy GrailÂ \n",
       "2920     USA                             JawsÂ \n",
       "3869     USA  One Flew Over the Cuckoo's NestÂ \n",
       "4845     USA                  Death Race 2000Â "
      ]
     },
     "execution_count": 28,
     "metadata": {},
     "output_type": "execute_result"
    }
   ],
   "source": [
    "df.query('title_year==1975').filter(items=['country', 'movie_title']).sort_values(by=['country'])"
   ]
  },
  {
   "cell_type": "markdown",
   "metadata": {},
   "source": [
    "##### SQL Answer\n",
    "```sql\n",
    "SELECT country, movie_title\n",
    "FROM cases.movie_metadata\n",
    "WHERE title_year=1975\n",
    "ORDER BY country ASC;\n",
    "```"
   ]
  },
  {
   "cell_type": "markdown",
   "metadata": {},
   "source": [
    "\n",
    "### Q3: Average Duration of R Rated Movies in 2013"
   ]
  },
  {
   "cell_type": "markdown",
   "metadata": {},
   "source": [
    "##### Pandas Answer"
   ]
  },
  {
   "cell_type": "code",
   "execution_count": 29,
   "metadata": {},
   "outputs": [
    {
     "data": {
      "text/plain": [
       "107.64583333333333"
      ]
     },
     "execution_count": 29,
     "metadata": {},
     "output_type": "execute_result"
    }
   ],
   "source": [
    "df.query('title_year==2013 & content_rating==\"R\"')['duration'].mean()"
   ]
  },
  {
   "cell_type": "markdown",
   "metadata": {},
   "source": [
    "##### SQL Answer\n",
    "```sql\n",
    "SELECT avg(duration)\n",
    "FROM cases.movie_metadata\n",
    "WHERE title_year=2013 AND content_rating='R';\n",
    "```"
   ]
  },
  {
   "cell_type": "markdown",
   "metadata": {},
   "source": [
    "### Q4: Correlation Analysis for Num of Faces on Poster v IMDb Score"
   ]
  },
  {
   "cell_type": "markdown",
   "metadata": {},
   "source": [
    "##### Pandas/Seaborn Answer"
   ]
  },
  {
   "cell_type": "code",
   "execution_count": 30,
   "metadata": {},
   "outputs": [
    {
     "data": {
      "image/png": "[encoded data removed]",
      "text/plain": [
       "<Figure size 1080x432 with 1 Axes>"
      ]
     },
     "metadata": {},
     "output_type": "display_data"
    }
   ],
   "source": [
    "plt.subplots(figsize=(15, 6))\n",
    "fig = sns.regplot(x='imdb_score',\n",
    "                 y='facenumber_in_poster',\n",
    "                 data=df,\n",
    "                 marker='x',\n",
    "                 line_kws={'lw':1, 'color': \"red\"},\n",
    "                 scatter_kws={'s':1})\n",
    "plt.suptitle(t='Correlation Between Number of Faces on Poster and IMDb Score',\n",
    "             fontsize=12,\n",
    "             fontweight='bold')\n",
    "fig.set(xlabel='', ylabel='')\n",
    "plt.xticks([num/2 for num in range(0, 21)])\n",
    "plt.yticks([num for num in range(0, 46, 5)])\n",
    "plt.show()"
   ]
  },
  {
   "cell_type": "markdown",
   "metadata": {},
   "source": [
    "As demonstrated in the above scatterchart, there is no correlation between the IMDb Score and the number of faces on the movie poster.\n",
    "\n",
    "Interestingly, the trendline displayed is slightly different to the one represented in Tableau. I cannot find any particular reason why this might be so I wonder if there is a slight difference in the algorithm which calculates trendlines between Tableau and Matplotlib."
   ]
  },
  {
   "cell_type": "markdown",
   "metadata": {},
   "source": [
    "### Q5: Actor with Highest Average IMDb Score\n",
    "<sup>* only for actors with >=5 movies as actor 1</sup>\n"
   ]
  },
  {
   "cell_type": "markdown",
   "metadata": {},
   "source": [
    "##### Pandas Answer"
   ]
  },
  {
   "cell_type": "code",
   "execution_count": 31,
   "metadata": {},
   "outputs": [
    {
     "data": {
      "text/html": [
       "<div>\n",
       "<style scoped>\n",
       "    .dataframe tbody tr th:only-of-type {\n",
       "        vertical-align: middle;\n",
       "    }\n",
       "\n",
       "    .dataframe tbody tr th {\n",
       "        vertical-align: top;\n",
       "    }\n",
       "\n",
       "    .dataframe thead th {\n",
       "        text-align: right;\n",
       "    }\n",
       "</style>\n",
       "<table border=\"1\" class=\"dataframe\">\n",
       "  <thead>\n",
       "    <tr style=\"text-align: right;\">\n",
       "      <th></th>\n",
       "      <th>Count</th>\n",
       "      <th>Mean</th>\n",
       "    </tr>\n",
       "    <tr>\n",
       "      <th>actor_1_name</th>\n",
       "      <th></th>\n",
       "      <th></th>\n",
       "    </tr>\n",
       "  </thead>\n",
       "  <tbody>\n",
       "    <tr>\n",
       "      <th>Leonardo DiCaprio</th>\n",
       "      <td>21.0</td>\n",
       "      <td>7.495238</td>\n",
       "    </tr>\n",
       "    <tr>\n",
       "      <th>Roy Scheider</th>\n",
       "      <td>6.0</td>\n",
       "      <td>7.466667</td>\n",
       "    </tr>\n",
       "    <tr>\n",
       "      <th>Tom Hanks</th>\n",
       "      <td>24.0</td>\n",
       "      <td>7.425000</td>\n",
       "    </tr>\n",
       "    <tr>\n",
       "      <th>Quentin Tarantino</th>\n",
       "      <td>5.0</td>\n",
       "      <td>7.420000</td>\n",
       "    </tr>\n",
       "    <tr>\n",
       "      <th>Clint Eastwood</th>\n",
       "      <td>16.0</td>\n",
       "      <td>7.337500</td>\n",
       "    </tr>\n",
       "    <tr>\n",
       "      <th>Madeline Kahn</th>\n",
       "      <td>6.0</td>\n",
       "      <td>7.333333</td>\n",
       "    </tr>\n",
       "    <tr>\n",
       "      <th>Tom Hardy</th>\n",
       "      <td>11.0</td>\n",
       "      <td>7.309091</td>\n",
       "    </tr>\n",
       "    <tr>\n",
       "      <th>James Mason</th>\n",
       "      <td>5.0</td>\n",
       "      <td>7.300000</td>\n",
       "    </tr>\n",
       "    <tr>\n",
       "      <th>Alan Rickman</th>\n",
       "      <td>8.0</td>\n",
       "      <td>7.287500</td>\n",
       "    </tr>\n",
       "    <tr>\n",
       "      <th>Benedict Cumberbatch</th>\n",
       "      <td>7.0</td>\n",
       "      <td>7.285714</td>\n",
       "    </tr>\n",
       "  </tbody>\n",
       "</table>\n",
       "</div>"
      ],
      "text/plain": [
       "                      Count      Mean\n",
       "actor_1_name                         \n",
       "Leonardo DiCaprio      21.0  7.495238\n",
       "Roy Scheider            6.0  7.466667\n",
       "Tom Hanks              24.0  7.425000\n",
       "Quentin Tarantino       5.0  7.420000\n",
       "Clint Eastwood         16.0  7.337500\n",
       "Madeline Kahn           6.0  7.333333\n",
       "Tom Hardy              11.0  7.309091\n",
       "James Mason             5.0  7.300000\n",
       "Alan Rickman            8.0  7.287500\n",
       "Benedict Cumberbatch    7.0  7.285714"
      ]
     },
     "execution_count": 31,
     "metadata": {},
     "output_type": "execute_result"
    }
   ],
   "source": [
    "grps = df.groupby(by=['actor_1_name'])['imdb_score'].describe()[['count', 'mean']]\n",
    "grps.reset_index()\n",
    "grps = grps.groupby(by=['actor_1_name']).filter(lambda x: x['count'] >= 5)\n",
    "grps = grps.sort_values(by=['mean'], ascending=False)\n",
    "grps = grps.rename({'count': 'Count', 'mean': 'Mean'}, axis=1)\n",
    "grps.head(10)"
   ]
  },
  {
   "cell_type": "markdown",
   "metadata": {},
   "source": [
    "##### SQL Answer\n",
    "```sql\n",
    "SELECT actor_1_name, count(actor_1_name), avg(imdb_score)\n",
    "FROM cases.movie_metadata\n",
    "GROUP BY actor_1_name\n",
    "HAVING count(actor_1_name) >=5\n",
    "ORDER BY avg(imdb_score) DESC;\n",
    "```"
   ]
  }
 ],
 "metadata": {
  "file_extension": ".py",
  "interpreter": {
   "hash": "1c216087a2126e673ec7f7e4f6c34c051bf287723219592fef13e81afb40a7d0"
  },
  "kernelspec": {
   "display_name": "Python 3 (ipykernel)",
   "language": "python",
   "name": "python3"
  },
  "language_info": {
   "codemirror_mode": {
    "name": "ipython",
    "version": 3
   },
   "file_extension": ".py",
   "mimetype": "text/x-python",
   "name": "python",
   "nbconvert_exporter": "python",
   "pygments_lexer": "ipython3",
   "version": "3.8.12"
  },
  "mimetype": "text/x-python",
  "name": "python",
  "npconvert_exporter": "python",
  "pygments_lexer": "ipython3",
  "version": 3
 },
 "nbformat": 4,
 "nbformat_minor": 4
}
